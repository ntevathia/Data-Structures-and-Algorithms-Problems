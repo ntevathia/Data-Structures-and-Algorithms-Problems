{
 "cells": [
  {
   "cell_type": "markdown",
   "metadata": {},
   "source": [
    "### Two Sum\n",
    "Given an array of integers, return indices of the two numbers such that they add up to a specific target.\n",
    "\n",
    "You may assume that each input would have exactly one solution, and you may not use the same element twice.\n",
    "\n",
    "Example:\n",
    "\n",
    "Given nums = [2, 7, 11, 15], target = 9,\n",
    "\n",
    "Because nums[0] + nums[1] = 2 + 7 = 9,\n",
    "return [0, 1]."
   ]
  },
  {
   "cell_type": "code",
   "execution_count": 1,
   "metadata": {},
   "outputs": [],
   "source": [
    "class Solution(object):\n",
    "    def twoSum(self, nums, target):\n",
    "        \"\"\"\n",
    "        :type nums: List[int]\n",
    "        :type target: int\n",
    "        :rtype: List[int]\n",
    "        \"\"\"\n",
    "        if nums==[]:\n",
    "            return\n",
    "        \n",
    "        s = {}\n",
    "        for i,elm in enumerate(nums):\n",
    "            complement = target-elm\n",
    "            if elm in s:\n",
    "                return s[elm], i\n",
    "\n",
    "            s[complement] = i"
   ]
  },
  {
   "cell_type": "markdown",
   "metadata": {},
   "source": [
    "### Shortest Word Distance"
   ]
  },
  {
   "cell_type": "markdown",
   "metadata": {},
   "source": [
    "Given a list of words and two words word1 and word2, return the shortest distance between these two words in the list.\n",
    "\n",
    "Example:\n",
    "Assume that words = [\"practice\", \"makes\", \"perfect\", \"coding\", \"makes\"].\n",
    "\n",
    "Input: word1 = “coding”, word2 = “practice”\n",
    "Output: 3\n",
    "Input: word1 = \"makes\", word2 = \"coding\"\n",
    "Output: 1"
   ]
  },
  {
   "cell_type": "code",
   "execution_count": 20,
   "metadata": {},
   "outputs": [],
   "source": [
    "class Solution(object):\n",
    "    def shortestDistance(self, words, word1, word2):\n",
    "        \"\"\"\n",
    "        :type words: List[str]\n",
    "        :type word1: str\n",
    "        :type word2: str\n",
    "        :rtype: int\n",
    "        \"\"\"\n",
    "        pos1 = pos2 = None\n",
    "        mn = 999999\n",
    "        for i,elm in enumerate(words):\n",
    "            if word1 == elm:\n",
    "                pos1 = i\n",
    "            if word2 == elm:\n",
    "                pos2 = i\n",
    "            if pos1 is not None and pos2 is not None:\n",
    "                diff = abs(pos1-pos2)\n",
    "                if diff<mn:\n",
    "                    mn = diff \n",
    "        \n",
    "        return mn"
   ]
  },
  {
   "cell_type": "markdown",
   "metadata": {},
   "source": [
    "### Pow(x, n)"
   ]
  },
  {
   "cell_type": "markdown",
   "metadata": {},
   "source": [
    "Implement pow(x, n), which calculates x raised to the power n (xn).\n",
    "\n",
    "Example 1:\n",
    "\n",
    "Input: 2.00000, 10\n",
    "Output: 1024.00000\n",
    "Example 2:\n",
    "\n",
    "Input: 2.10000, 3\n",
    "Output: 9.26100\n",
    "Example 3:\n",
    "\n",
    "Input: 2.00000, -2\n",
    "Output: 0.25000\n",
    "Explanation: 2-2 = 1/22 = 1/4 = 0.25"
   ]
  },
  {
   "cell_type": "code",
   "execution_count": 21,
   "metadata": {},
   "outputs": [],
   "source": [
    "class Solution(object):\n",
    "    def myPow(self, x, n):\n",
    "        \"\"\"\n",
    "        :type x: float\n",
    "        :type n: int\n",
    "        :rtype: float\n",
    "        \"\"\"\n",
    "        if n == 0: return 1\n",
    "        if n == 1: return x\n",
    "        if n == -1: return 1/x\n",
    "        \n",
    "        half = self.myPow(x, n//2)\n",
    "        if n%2 == 0:  # power is even\n",
    "            return half*half\n",
    "        else: return x*half*half"
   ]
  },
  {
   "cell_type": "markdown",
   "metadata": {},
   "source": [
    "### Find First and Last Position of Element in Sorted Array\n",
    "Given an array of integers nums sorted in ascending order, find the starting and ending position of a given target value.\n",
    "\n",
    "Your algorithm's runtime complexity must be in the order of O(log n).\n",
    "\n",
    "If the target is not found in the array, return [-1, -1].\n",
    "\n",
    "Example 1:\n",
    "\n",
    "Input: nums = [5,7,7,8,8,10], target = 8\n",
    "Output: [3,4]\n",
    "Example 2:\n",
    "\n",
    "Input: nums = [5,7,7,8,8,10], target = 6\n",
    "Output: [-1,-1]"
   ]
  },
  {
   "cell_type": "code",
   "execution_count": 22,
   "metadata": {},
   "outputs": [],
   "source": [
    "class Solution(object):\n",
    "    def searchRange(self, nums, target):\n",
    "        \"\"\"\n",
    "        :type nums: List[int]\n",
    "        :type target: int\n",
    "        :rtype: List[int]\n",
    "        \"\"\"\n",
    "        for i in range(len(nums)):\n",
    "            if nums[i] == target:\n",
    "                left = i\n",
    "                break\n",
    "        else:\n",
    "            return [-1, -1]\n",
    "\n",
    "        for j in range(len(nums)-1, -1, -1):\n",
    "            if nums[j] == target:\n",
    "                right = j\n",
    "                break\n",
    "\n",
    "        return [left, right]\n",
    "    \n",
    "# O(n) solution"
   ]
  },
  {
   "cell_type": "code",
   "execution_count": 23,
   "metadata": {},
   "outputs": [],
   "source": [
    "## another approach : O(logn)\n",
    "\n",
    "class Solution(object):\n",
    "    def searchRange(self, nums, target):\n",
    "        \"\"\"\n",
    "        :type nums: List[int]\n",
    "        :type target: int\n",
    "        :rtype: List[int]\n",
    "        \"\"\"\n",
    "        if nums == []:\n",
    "            return [-1, -1]\n",
    "        \n",
    "        low = 0\n",
    "        high = len(nums)-1\n",
    "        first = -1\n",
    "        last = -1\n",
    "        while low<=high:    \n",
    "            mid = (low+high)//2\n",
    "            if nums[mid]==target:\n",
    "                first = mid\n",
    "                break\n",
    "            elif nums[mid]>target:\n",
    "                high = mid-1\n",
    "            else:\n",
    "                low = mid+1\n",
    "        if first==-1:  # target not found\n",
    "            return [-1, -1]\n",
    "        \n",
    "        last = first\n",
    "        start = first\n",
    "        \n",
    "        while start>=0 and nums[start]==target:\n",
    "            start = start-1\n",
    "        while last<len(nums) and nums[last]==target:\n",
    "            last = last+1\n",
    "            \n",
    "        return [start+1, last-1]\n",
    "        "
   ]
  },
  {
   "cell_type": "markdown",
   "metadata": {},
   "source": [
    "### Merge Intervals"
   ]
  },
  {
   "cell_type": "markdown",
   "metadata": {},
   "source": [
    "Given a collection of intervals, merge all overlapping intervals.\n",
    "\n",
    "Example 1:\n",
    "\n",
    "Input: [[1,3],[2,6],[8,10],[15,18]]\n",
    "Output: [[1,6],[8,10],[15,18]]\n",
    "Explanation: Since intervals [1,3] and [2,6] overlaps, merge them into [1,6].\n",
    "Example 2:\n",
    "\n",
    "Input: [[1,4],[4,5]]\n",
    "Output: [[1,5]]\n",
    "Explanation: Intervals [1,4] and [4,5] are considered overlapping."
   ]
  },
  {
   "cell_type": "code",
   "execution_count": 58,
   "metadata": {},
   "outputs": [],
   "source": [
    "class Solution(object):\n",
    "    def merge(self, intervals):\n",
    "        \"\"\"\n",
    "        :type intervals: List[List[int]]\n",
    "        :rtype: List[List[int]]\n",
    "        \"\"\"\n",
    "        if intervals == []:\n",
    "            return \n",
    "        if len(intervals)==1:\n",
    "            return intervals\n",
    "        \n",
    "        if type(intervals)==list and len(intervals) == 2:\n",
    "            if intervals[0][1] >= intervals[1][0]:\n",
    "                val = [[intervals[0][0], intervals[1][1]]]\n",
    "                return val\n",
    "            else:\n",
    "                return intervals\n",
    "        \n",
    "        n = len(intervals)\n",
    "        a = self.merge(intervals[:n//2])\n",
    "        b = self.merge(intervals[n//2:])\n",
    "        \n",
    "        new = []\n",
    "        if type(a[0])==int:\n",
    "            new.extend([a])\n",
    "        else:\n",
    "            new.extend(a)\n",
    "        if type(b[0])==int:\n",
    "            new.extend([b])\n",
    "        else:\n",
    "            new.extend(b)\n",
    "        return new\n",
    "            "
   ]
  },
  {
   "cell_type": "code",
   "execution_count": 62,
   "metadata": {},
   "outputs": [],
   "source": [
    "#t = [[1,4],[4,5]]\n",
    "#t = [[1,3],[2,6],[8,10],[15,18]]\n",
    "# ans = [[1,6],[8,10],[15,18]] \n",
    "\n",
    "t = [[1,4],[0,4]]  "
   ]
  },
  {
   "cell_type": "code",
   "execution_count": 63,
   "metadata": {},
   "outputs": [],
   "source": [
    "obj = Solution()"
   ]
  },
  {
   "cell_type": "code",
   "execution_count": 64,
   "metadata": {},
   "outputs": [
    {
     "data": {
      "text/plain": [
       "[[1, 4]]"
      ]
     },
     "execution_count": 64,
     "metadata": {},
     "output_type": "execute_result"
    }
   ],
   "source": [
    "obj.merge(t)"
   ]
  },
  {
   "cell_type": "markdown",
   "metadata": {},
   "source": [
    "### Binary Tree Level Order Traversal"
   ]
  },
  {
   "cell_type": "markdown",
   "metadata": {},
   "source": [
    "Given a binary tree, return the level order traversal of its nodes' values. (ie, from left to right, level by level).\n",
    "\n",
    "For example:\n",
    "Given binary tree [3,9,20,null,null,15,7],\n",
    "    3\n",
    "   / \\\n",
    "  9  20\n",
    "    /  \\\n",
    "   15   7\n",
    "return its level order traversal as:\n",
    "[\n",
    "  [3],\n",
    "  [9,20],\n",
    "  [15,7]\n",
    "]"
   ]
  },
  {
   "cell_type": "code",
   "execution_count": 65,
   "metadata": {},
   "outputs": [],
   "source": [
    "# Definition for a binary tree node.\n",
    "# class TreeNode(object):\n",
    "#     def __init__(self, x):\n",
    "#         self.val = x\n",
    "#         self.left = None\n",
    "#         self.right = None\n",
    "\n",
    "class Solution(object):\n",
    "    def levelOrder(self, root):\n",
    "        \"\"\"\n",
    "        :type root: TreeNode\n",
    "        :rtype: List[List[int]]\n",
    "        \"\"\"\n",
    "        walk = [root.val]\n",
    "        que = [root]\n",
    "        \n",
    "        while len(que)>0:\n",
    "            p = que.pop(0)\n",
    "            \n",
    "            if p.left:\n",
    "                que.append(p.left)\n",
    "                walk.append(p.left.val)\n",
    "            if p.right:\n",
    "                que.append(p.right)\n",
    "                walk.append(p.right.val)\n",
    "            print(walk)\n",
    "        \n",
    "        return walk  \n",
    "            \n",
    "            \n",
    "            "
   ]
  },
  {
   "cell_type": "markdown",
   "metadata": {},
   "source": [
    "### Evaluate Reverse Polish Notation"
   ]
  },
  {
   "cell_type": "markdown",
   "metadata": {},
   "source": [
    "Evaluate the value of an arithmetic expression in Reverse Polish Notation.\n",
    "\n",
    "Valid operators are +, -, *, /. Each operand may be an integer or another expression.\n",
    "\n",
    "Note:\n",
    "\n",
    "Division between two integers should truncate toward zero.\n",
    "The given RPN expression is always valid. That means the expression would always evaluate to a result and there won't be any divide by zero operation.\n",
    "Example 1:\n",
    "\n",
    "Input: [\"2\", \"1\", \"+\", \"3\", \"*\"]\n",
    "Output: 9\n",
    "Explanation: ((2 + 1) * 3) = 9"
   ]
  },
  {
   "cell_type": "code",
   "execution_count": 15,
   "metadata": {},
   "outputs": [],
   "source": [
    "class Solution(object):\n",
    "    def evalRPN(self, tokens):\n",
    "        \"\"\"\n",
    "        :type tokens: List[str]\n",
    "        :rtype: int\n",
    "        \"\"\"\n",
    "        import math\n",
    "        op = ['+','-','/','*']\n",
    "        \n",
    "        i = 0\n",
    "        while i < len(tokens):\n",
    "            ch = tokens[i]\n",
    "            if ch in op:\n",
    "                a = tokens.pop(i-2)\n",
    "                b = tokens.pop(i-2)\n",
    "                i = i-2\n",
    "                \n",
    "                if ch == '+':\n",
    "                    tokens[i] = int(a)+int(b)\n",
    "                elif ch == '-':\n",
    "                    tokens[i] = int(a)-int(b)\n",
    "                elif ch == '*':\n",
    "                    tokens[i] = int(a)*int(b)\n",
    "                elif ch == '/':\n",
    "                    val = int(a)/int(b) \n",
    "                    if abs(val)>=0 and abs(val)<1: # decimal\n",
    "                        tokens[i] = 0\n",
    "                    else:\n",
    "                        tokens[i] = int(int(a)/int(b))\n",
    "        \n",
    "            print(tokens)\n",
    "            i+=1\n",
    "                \n",
    "        return tokens[0]"
   ]
  },
  {
   "cell_type": "code",
   "execution_count": 16,
   "metadata": {},
   "outputs": [],
   "source": [
    "inp = [\"10\", \"6\", \"9\", \"3\", \"+\", \"-11\", \"*\", \"/\", \"*\", \"17\", \"+\", \"5\", \"+\"]"
   ]
  },
  {
   "cell_type": "code",
   "execution_count": 17,
   "metadata": {},
   "outputs": [],
   "source": [
    "obj = Solution()"
   ]
  },
  {
   "cell_type": "code",
   "execution_count": 18,
   "metadata": {},
   "outputs": [
    {
     "name": "stdout",
     "output_type": "stream",
     "text": [
      "['10', '6', '9', '3', '+', '-11', '*', '/', '*', '17', '+', '5', '+']\n",
      "['10', '6', '9', '3', '+', '-11', '*', '/', '*', '17', '+', '5', '+']\n",
      "['10', '6', '9', '3', '+', '-11', '*', '/', '*', '17', '+', '5', '+']\n",
      "['10', '6', '9', '3', '+', '-11', '*', '/', '*', '17', '+', '5', '+']\n",
      "['10', '6', 12, '-11', '*', '/', '*', '17', '+', '5', '+']\n",
      "['10', '6', 12, '-11', '*', '/', '*', '17', '+', '5', '+']\n",
      "['10', '6', -132, '/', '*', '17', '+', '5', '+']\n",
      "['10', 0, '*', '17', '+', '5', '+']\n",
      "[0, '17', '+', '5', '+']\n",
      "[0, '17', '+', '5', '+']\n",
      "[17, '5', '+']\n",
      "[17, '5', '+']\n",
      "[22]\n"
     ]
    },
    {
     "data": {
      "text/plain": [
       "22"
      ]
     },
     "execution_count": 18,
     "metadata": {},
     "output_type": "execute_result"
    }
   ],
   "source": [
    "obj.evalRPN(inp)"
   ]
  },
  {
   "cell_type": "code",
   "execution_count": null,
   "metadata": {},
   "outputs": [],
   "source": []
  },
  {
   "cell_type": "code",
   "execution_count": null,
   "metadata": {},
   "outputs": [],
   "source": []
  },
  {
   "cell_type": "code",
   "execution_count": null,
   "metadata": {},
   "outputs": [],
   "source": []
  },
  {
   "cell_type": "code",
   "execution_count": null,
   "metadata": {},
   "outputs": [],
   "source": []
  },
  {
   "cell_type": "code",
   "execution_count": null,
   "metadata": {},
   "outputs": [],
   "source": []
  }
 ],
 "metadata": {
  "kernelspec": {
   "display_name": "Python 3",
   "language": "python",
   "name": "python3"
  },
  "language_info": {
   "codemirror_mode": {
    "name": "ipython",
    "version": 3
   },
   "file_extension": ".py",
   "mimetype": "text/x-python",
   "name": "python",
   "nbconvert_exporter": "python",
   "pygments_lexer": "ipython3",
   "version": "3.6.8"
  }
 },
 "nbformat": 4,
 "nbformat_minor": 2
}
