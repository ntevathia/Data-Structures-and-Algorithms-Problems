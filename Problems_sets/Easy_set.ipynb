{
 "cells": [
  {
   "cell_type": "markdown",
   "metadata": {},
   "source": [
    "### 1. Strobogrammatic Number"
   ]
  },
  {
   "cell_type": "markdown",
   "metadata": {},
   "source": [
    "A strobogrammatic number is a number that looks the same when rotated 180 degrees (looked at upside down).\n",
    "\n",
    "Write a function to determine if a number is strobogrammatic. The number is represented as a string.\n",
    "\n",
    "Example 1:\n",
    "\n",
    "Input:  \"69\"\n",
    "Output: true\n",
    "Example 2:\n",
    "\n",
    "Input:  \"88\"\n",
    "Output: true\n",
    "Example 3:\n",
    "\n",
    "Input:  \"962\"\n",
    "Output: false"
   ]
  },
  {
   "cell_type": "code",
   "execution_count": 1,
   "metadata": {},
   "outputs": [],
   "source": [
    "class Solution(object):\n",
    "    def isStrobogrammatic(self, num):\n",
    "        \"\"\"\n",
    "        :type num: str\n",
    "        :rtype: bool\n",
    "        \"\"\"\n",
    "        \n",
    "        sg = {'6':9, '8':8, '9':6, '0':0, '1':1}\n",
    "        print(sg.keys())\n",
    "        arr = []\n",
    "        for ch in num:\n",
    "            if ch not in sg.keys():\n",
    "                return False\n",
    "            \n",
    "            arr.append(sg[ch])\n",
    "        \n",
    "        s = ''\n",
    "        for elm in arr[::-1]:\n",
    "            s += str(elm)\n",
    "            \n",
    "        if s == num:\n",
    "            return True\n",
    "        return False"
   ]
  },
  {
   "cell_type": "markdown",
   "metadata": {},
   "source": [
    "### 2. Sentence Similarity"
   ]
  },
  {
   "cell_type": "markdown",
   "metadata": {},
   "source": [
    "Given two sentences words1, words2 (each represented as an array of strings), and a list of similar word pairs pairs, determine if two sentences are similar.\n",
    "\n",
    "For example, \"great acting skills\" and \"fine drama talent\" are similar, if the similar word pairs are pairs = [[\"great\", \"fine\"], [\"acting\",\"drama\"], [\"skills\",\"talent\"]].\n",
    "\n",
    "Note that the similarity relation is not transitive. For example, if \"great\" and \"fine\" are similar, and \"fine\" and \"good\" are similar, \"great\" and \"good\" are not necessarily similar.\n",
    "\n",
    "However, similarity is symmetric. For example, \"great\" and \"fine\" being similar is the same as \"fine\" and \"great\" being similar.\n",
    "\n",
    "Also, a word is always similar with itself. For example, the sentences words1 = [\"great\"], words2 = [\"great\"], pairs = [] are similar, even though there are no specified similar word pairs.\n",
    "\n",
    "Finally, sentences can only be similar if they have the same number of words. So a sentence like words1 = [\"great\"] can never be similar to words2 = [\"doubleplus\",\"good\"].\n",
    "\n"
   ]
  },
  {
   "cell_type": "code",
   "execution_count": 3,
   "metadata": {},
   "outputs": [],
   "source": [
    "class Solution(object):\n",
    "    def areSentencesSimilar(self, words1, words2, pairs):\n",
    "        \"\"\"\n",
    "        :type words1: List[str]\n",
    "        :type words2: List[str]\n",
    "        :type pairs: List[List[str]]\n",
    "        :rtype: bool\n",
    "        \"\"\"\n",
    "        if words1==words2:\n",
    "            return True\n",
    "        \n",
    "        if len(words1) != len(words2):\n",
    "            return False\n",
    "        \n",
    "        if len(words1)==1 and words1==words2:\n",
    "            return True\n",
    "        \n",
    "        pairset = set(map(tuple, pairs))\n",
    "    \n",
    "        for a, b in zip(words1, words2):\n",
    "            if a==b:\n",
    "                pass\n",
    "            elif (a,b) in pairset:\n",
    "                pass\n",
    "            elif(b,a) in pairset:\n",
    "                pass\n",
    "            else:\n",
    "                return False\n",
    "        \n",
    "        return True"
   ]
  },
  {
   "cell_type": "markdown",
   "metadata": {},
   "source": [
    "### 3. Logger Rate Limiter"
   ]
  },
  {
   "cell_type": "markdown",
   "metadata": {},
   "source": [
    "Design a logger system that receive stream of messages along with its timestamps, each message should be printed if and only if it is not printed in the last 10 seconds.\n",
    "\n",
    "Given a message and a timestamp (in seconds granularity), return true if the message should be printed in the given timestamp, otherwise returns false.\n",
    "\n",
    "It is possible that several messages arrive roughly at the same time.\n",
    "\n",
    "Example:\n",
    "\n",
    "Logger logger = new Logger();\n",
    "\n",
    "// logging string \"foo\" at timestamp 1\n",
    "logger.shouldPrintMessage(1, \"foo\"); returns true; \n",
    "\n",
    "// logging string \"bar\" at timestamp 2\n",
    "logger.shouldPrintMessage(2,\"bar\"); returns true;\n",
    "\n",
    "// logging string \"foo\" at timestamp 3\n",
    "logger.shouldPrintMessage(3,\"foo\"); returns false;\n",
    "\n",
    "// logging string \"bar\" at timestamp 8\n",
    "logger.shouldPrintMessage(8,\"bar\"); returns false;\n",
    "\n",
    "// logging string \"foo\" at timestamp 10\n",
    "logger.shouldPrintMessage(10,\"foo\"); returns false;\n",
    "\n",
    "// logging string \"foo\" at timestamp 11\n",
    "logger.shouldPrintMessage(11,\"foo\"); returns true;"
   ]
  },
  {
   "cell_type": "code",
   "execution_count": 4,
   "metadata": {},
   "outputs": [],
   "source": [
    "class Logger(object):\n",
    "\n",
    "    def __init__(self):\n",
    "        \"\"\"\n",
    "        Initialize your data structure here.\n",
    "        \"\"\"\n",
    "        self.d = dict()\n",
    "        \n",
    "\n",
    "    def shouldPrintMessage(self, timestamp, message):\n",
    "        \"\"\"\n",
    "        Returns true if the message should be printed in the given timestamp, otherwise returns false.\n",
    "        If this method returns false, the message will not be printed.\n",
    "        The timestamp is in seconds granularity.\n",
    "        :type timestamp: int\n",
    "        :type message: str\n",
    "        :rtype: bool\n",
    "        \"\"\"\n",
    "        if message not in self.d.keys():\n",
    "            self.d[message] = timestamp\n",
    "            return True\n",
    "        elif message in self.d.keys():\n",
    "            if self.d[message] < timestamp-9:\n",
    "                self.d[message] = timestamp\n",
    "                return True\n",
    "        \n",
    "        return False\n",
    "\n",
    "\n",
    "# Your Logger object will be instantiated and called as such:\n",
    "# obj = Logger()\n",
    "# param_1 = obj.shouldPrintMessage(timestamp,message)"
   ]
  },
  {
   "cell_type": "markdown",
   "metadata": {},
   "source": [
    "### 4. Maximum Depth of N-ary Tree"
   ]
  },
  {
   "cell_type": "markdown",
   "metadata": {},
   "source": [
    "Given a n-ary tree, find its maximum depth.\n",
    "\n",
    "The maximum depth is the number of nodes along the longest path from the root node down to the farthest leaf node.\n",
    "\n",
    "For example, given a 3-ary tree:\n",
    "\n",
    " \n",
    "\n",
    "\n",
    " \n",
    "\n",
    "We should return its max depth, which is 3."
   ]
  },
  {
   "cell_type": "code",
   "execution_count": 5,
   "metadata": {},
   "outputs": [],
   "source": [
    "\"\"\"\n",
    "# Definition for a Node.\n",
    "class Node(object):\n",
    "    def __init__(self, val, children):\n",
    "        self.val = val\n",
    "        self.children = children\n",
    "\"\"\"\n",
    "class Solution(object):\n",
    "    def maxDepth(self, root):\n",
    "        \"\"\"\n",
    "        :type root: Node\n",
    "        :rtype: int\n",
    "        \"\"\"\n",
    "        if root is None:\n",
    "            return 0\n",
    "        if root.children == []:\n",
    "            return 1\n",
    "        \n",
    "        d = [self.maxDepth(child) for child in root.children]\n",
    "        return max(d)+1"
   ]
  },
  {
   "cell_type": "markdown",
   "metadata": {},
   "source": [
    "### 5. Happy Number"
   ]
  },
  {
   "cell_type": "markdown",
   "metadata": {},
   "source": [
    "Write an algorithm to determine if a number is \"happy\".\n",
    "\n",
    "A happy number is a number defined by the following process: Starting with any positive integer, replace the number by the sum of the squares of its digits, and repeat the process until the number equals 1 (where it will stay), or it loops endlessly in a cycle which does not include 1. Those numbers for which this process ends in 1 are happy numbers.\n",
    "\n",
    "Example: \n",
    "\n",
    "Input: 19\n",
    "Output: true\n",
    "Explanation: \n",
    "12 + 92 = 82\n",
    "82 + 22 = 68\n",
    "62 + 82 = 100\n",
    "12 + 02 + 02 = 1"
   ]
  },
  {
   "cell_type": "code",
   "execution_count": 6,
   "metadata": {},
   "outputs": [],
   "source": [
    "class Solution(object):\n",
    "    def isHappy(self, n):\n",
    "        \"\"\"\n",
    "        :type n: int\n",
    "        :rtype: bool\n",
    "        \"\"\"\n",
    "        for iter in range(10):\n",
    "            n = sum([int(num)**2 for num in str(n)])\n",
    "    \n",
    "        return n == 1\n",
    "          "
   ]
  },
  {
   "cell_type": "markdown",
   "metadata": {},
   "source": [
    "### 6. Missing Number"
   ]
  },
  {
   "cell_type": "markdown",
   "metadata": {},
   "source": [
    "Given an array containing n distinct numbers taken from 0, 1, 2, ..., n, find the one that is missing from the array.\n",
    "\n",
    "Example 1:\n",
    "\n",
    "Input: [3,0,1]\n",
    "Output: 2\n",
    "Example 2:\n",
    "\n",
    "Input: [9,6,4,2,3,5,7,0,1]\n",
    "Output: 8\n",
    "Note:\n",
    "Your algorithm should run in linear runtime complexity. Could you implement it using only constant extra space complexity?"
   ]
  },
  {
   "cell_type": "code",
   "execution_count": null,
   "metadata": {},
   "outputs": [],
   "source": [
    "class Solution(object):\n",
    "    def missingNumber(self, nums):\n",
    "        \"\"\"\n",
    "        :type nums: List[int]\n",
    "        :rtype: int\n",
    "        \"\"\"\n",
    "    \n",
    "        # solution 1\n",
    "        #missing = set([a for a in range(len(nums)+1)]) - set(nums) \n",
    "        #return list(missing)[0]\n",
    "        \n",
    "        # solution 2\n",
    "        total = len(nums)*(len(nums)+1)//2\n",
    "        actual = sum(nums)\n",
    "        return total-actual\n",
    "        "
   ]
  },
  {
   "cell_type": "markdown",
   "metadata": {},
   "source": [
    "### 7. Convert Sorted Array to Binary Search Tree"
   ]
  },
  {
   "cell_type": "markdown",
   "metadata": {},
   "source": [
    "Given an array where elements are sorted in ascending order, convert it to a height balanced BST.\n",
    "\n",
    "For this problem, a height-balanced binary tree is defined as a binary tree in which the depth of the two subtrees of every node never differ by more than 1.\n",
    "\n",
    "Example:\n",
    "\n",
    "Given the sorted array: [-10,-3,0,5,9],\n",
    "\n",
    "One possible answer is: [0,-3,9,-10,null,5], which represents the following height balanced BST:\n",
    "\n",
    "      0\n",
    "     / \\\n",
    "   -3   9\n",
    "   /   /\n",
    " -10  5"
   ]
  },
  {
   "cell_type": "code",
   "execution_count": 7,
   "metadata": {},
   "outputs": [],
   "source": [
    "# Definition for a binary tree node.\n",
    "# class TreeNode(object):\n",
    "#     def __init__(self, x):\n",
    "#         self.val = x\n",
    "#         self.left = None\n",
    "#         self.right = None\n",
    "\n",
    "class Solution(object):\n",
    "    def sortedArrayToBST(self, nums):\n",
    "        \"\"\"\n",
    "        :type nums: List[int]\n",
    "        :rtype: TreeNode\n",
    "        \"\"\"\n",
    "        \n",
    "        if len(nums) == 0: \n",
    "            return\n",
    "        \n",
    "        return self.BST(nums, 0, len(nums)-1)\n",
    "    \n",
    "        \n",
    "    def BST(self, nums, low, high):\n",
    "        if low > high: \n",
    "            return \n",
    "        \n",
    "        mid = (low+high)//2\n",
    "        node = TreeNode(nums[mid])\n",
    "        node.left = self.BST(nums, low, mid-1)\n",
    "        node.right = self.BST(nums, mid + 1, high)\n",
    "        \n",
    "        return node\n",
    "        \n",
    "        "
   ]
  },
  {
   "cell_type": "markdown",
   "metadata": {},
   "source": [
    "### 8. Valid Anagram"
   ]
  },
  {
   "cell_type": "markdown",
   "metadata": {},
   "source": [
    "Given two strings s and t , write a function to determine if t is an anagram of s.\n",
    "\n",
    "Example 1:\n",
    "\n",
    "Input: s = \"anagram\", t = \"nagaram\"\n",
    "Output: true\n",
    "Example 2:\n",
    "\n",
    "Input: s = \"rat\", t = \"car\"\n",
    "Output: false\n",
    "Note:\n",
    "You may assume the string contains only lowercase alphabets.\n",
    "\n",
    "Follow up:\n",
    "What if the inputs contain unicode characters? How would you adapt your solution to such case?"
   ]
  },
  {
   "cell_type": "code",
   "execution_count": 11,
   "metadata": {},
   "outputs": [],
   "source": [
    "class Solution(object):\n",
    "    def isAnagram(self, s, t):\n",
    "        \"\"\"\n",
    "        :type s: str\n",
    "        :type t: str\n",
    "        :rtype: bool\n",
    "        \"\"\"\n",
    "        # soltuion 1\n",
    "        if len(s)!=len(t):\n",
    "            return False\n",
    "        s = [a for a in s]\n",
    "        t = [a for a in t]\n",
    "        s.sort()\n",
    "        t.sort()\n",
    "        if s==t:\n",
    "            return True\n",
    "        return False\n",
    "    \n",
    "        # solution 2\n",
    "        if len(s)!=len(t):\n",
    "            return False\n",
    "        arr = [0]*26\n",
    "        for i,char in enumerate(s):\n",
    "            pos = ord(char)-ord('a')\n",
    "            arr[pos] += 1\n",
    "            \n",
    "            pos = ord(t[i])-ord('a')\n",
    "            arr[pos] -= 1\n",
    "        \n",
    "       \n",
    "        for a in arr:\n",
    "            if a!=0:\n",
    "                return False\n",
    "        \n",
    "        return True\n",
    "        "
   ]
  },
  {
   "cell_type": "markdown",
   "metadata": {},
   "source": [
    "### 9. Roman to Integer"
   ]
  },
  {
   "cell_type": "markdown",
   "metadata": {},
   "source": [
    "Roman numerals are represented by seven different symbols: I, V, X, L, C, D and M.\n",
    "\n",
    "Symbol       Value\n",
    "I             1\n",
    "V             5\n",
    "X             10\n",
    "L             50\n",
    "C             100\n",
    "D             500\n",
    "M             1000\n",
    "For example, two is written as II in Roman numeral, just two one's added together. Twelve is written as, XII, which is simply X + II. The number twenty seven is written as XXVII, which is XX + V + II.\n",
    "\n",
    "Roman numerals are usually written largest to smallest from left to right. However, the numeral for four is not IIII. Instead, the number four is written as IV. Because the one is before the five we subtract it making four. The same principle applies to the number nine, which is written as IX. There are six instances where subtraction is used:\n",
    "\n",
    "I can be placed before V (5) and X (10) to make 4 and 9. \n",
    "X can be placed before L (50) and C (100) to make 40 and 90. \n",
    "C can be placed before D (500) and M (1000) to make 400 and 900.\n",
    "Given a roman numeral, convert it to an integer. Input is guaranteed to be within the range from 1 to 3999.\n",
    "\n",
    "Example 1:\n",
    "\n",
    "Input: \"III\"\n",
    "Output: 3\n",
    "Example 2:\n",
    "\n",
    "Input: \"IV\"\n",
    "Output: 4\n",
    "Example 3:\n",
    "\n",
    "Input: \"IX\"\n",
    "Output: 9\n",
    "Example 4:\n",
    "\n",
    "Input: \"LVIII\"\n",
    "Output: 58\n",
    "Explanation: L = 50, V= 5, III = 3.\n",
    "Example 5:\n",
    "\n",
    "Input: \"MCMXCIV\"\n",
    "Output: 1994\n",
    "Explanation: M = 1000, CM = 900, XC = 90 and IV = 4."
   ]
  },
  {
   "cell_type": "code",
   "execution_count": 15,
   "metadata": {},
   "outputs": [],
   "source": [
    "class Solution(object):\n",
    "    def romanToInt(self, s):\n",
    "        \"\"\"\n",
    "        :type s: str\n",
    "        :rtype: int\n",
    "        \"\"\"\n",
    "        d = {'I':1, 'V':5, 'X':10, 'L':50, 'C':100, 'D':500, 'M':1000}\n",
    "        \n",
    "        sm = 0\n",
    "        s = s.replace('IV','IIII')\n",
    "        s = s.replace('IX','VIIII')\n",
    "        s = s.replace('XL','XXXX')\n",
    "        s = s.replace('XC','LXXXX')\n",
    "        s = s.replace('CD','CCCC')\n",
    "        s = s.replace('CM','DCCCC')\n",
    "        \n",
    "        for char in s:\n",
    "            sm += d[char]\n",
    "            \n",
    "        return sm"
   ]
  },
  {
   "cell_type": "markdown",
   "metadata": {},
   "source": [
    "### 10. Delete Node in a Linked List (without having access to root node)"
   ]
  },
  {
   "cell_type": "markdown",
   "metadata": {},
   "source": [
    "Write a function to delete a node (except the tail) in a singly linked list, given only access to that node.\n",
    "\n",
    "Given linked list -- head = [4,5,1,9], which looks like following:\n",
    "\n",
    "\n",
    "\n",
    " \n",
    "\n",
    "Example 1:\n",
    "\n",
    "Input: head = [4,5,1,9], node = 5\n",
    "Output: [4,1,9]\n",
    "Explanation: You are given the second node with value 5, the linked list should become 4 -> 1 -> 9 after calling your function.\n",
    "Example 2:\n",
    "\n",
    "Input: head = [4,5,1,9], node = 1\n",
    "Output: [4,5,9]\n",
    "Explanation: You are given the third node with value 1, the linked list should become 4 -> 5 -> 9 after calling your function.\n"
   ]
  },
  {
   "cell_type": "code",
   "execution_count": 16,
   "metadata": {},
   "outputs": [],
   "source": [
    "# Definition for singly-linked list.\n",
    "# class ListNode(object):\n",
    "#     def __init__(self, x):\n",
    "#         self.val = x\n",
    "#         self.next = None\n",
    "\n",
    "class Solution(object):\n",
    "    def deleteNode(self, node):\n",
    "        \"\"\"\n",
    "        :type node: ListNode\n",
    "        :rtype: void Do not return anything, modify node in-place instead.\n",
    "        \"\"\"\n",
    "        \n",
    "        node.val = node.next.val\n",
    "        node.next = node.next.next\n",
    "        "
   ]
  },
  {
   "cell_type": "markdown",
   "metadata": {},
   "source": [
    "### 11. Find All Numbers Disappeared in an Array"
   ]
  },
  {
   "cell_type": "markdown",
   "metadata": {},
   "source": [
    "Given an array of integers where 1 ≤ a[i] ≤ n (n = size of array), some elements appear twice and others appear once.\n",
    "\n",
    "Find all the elements of [1, n] inclusive that do not appear in this array.\n",
    "\n",
    "Could you do it without extra space and in O(n) runtime? You may assume the returned list does not count as extra space.\n",
    "\n",
    "Example:\n",
    "\n",
    "Input:\n",
    "[4,3,2,7,8,2,3,1]\n",
    "\n",
    "Output:\n",
    "[5,6]"
   ]
  },
  {
   "cell_type": "code",
   "execution_count": 17,
   "metadata": {},
   "outputs": [],
   "source": [
    "class Solution(object):\n",
    "    def findDisappearedNumbers(self, nums):\n",
    "        \"\"\"\n",
    "        :type nums: List[int]\n",
    "        :rtype: List[int]\n",
    "        \"\"\"\n",
    "        #res = set([a for a in range(1,len(nums)+1) ]) - set(nums)\n",
    "        #return list(res)\n",
    "    \n",
    "        \n",
    "        for i in range(len(nums)):\n",
    "            n = nums[i]\n",
    "            pos = abs(n) - 1\n",
    "            nums[pos] = -abs(nums[pos])\n",
    "        print(nums)\n",
    "        \n",
    "        return [i+1 for i in range(len(nums)) if nums[i]>-1]"
   ]
  },
  {
   "cell_type": "markdown",
   "metadata": {},
   "source": [
    "### 12. Employee Importance"
   ]
  },
  {
   "cell_type": "markdown",
   "metadata": {},
   "source": [
    "You are given a data structure of employee information, which includes the employee's unique id, his importance value and his direct subordinates' id.\n",
    "\n",
    "For example, employee 1 is the leader of employee 2, and employee 2 is the leader of employee 3. They have importance value 15, 10 and 5, respectively. Then employee 1 has a data structure like [1, 15, [2]], and employee 2 has [2, 10, [3]], and employee 3 has [3, 5, []]. Note that although employee 3 is also a subordinate of employee 1, the relationship is not direct.\n",
    "\n",
    "Now given the employee information of a company, and an employee id, you need to return the total importance value of this employee and all his subordinates.\n",
    "\n",
    "Example 1:\n",
    "\n",
    "Input: [[1, 5, [2, 3]], [2, 3, []], [3, 3, []]], 1\n",
    "Output: 11\n",
    "Explanation:\n",
    "Employee 1 has importance value 5, and he has two direct subordinates: employee 2 and employee 3. They both have importance value 3. So the total importance value of employee 1 is 5 + 3 + 3 = 11."
   ]
  },
  {
   "cell_type": "code",
   "execution_count": 23,
   "metadata": {},
   "outputs": [],
   "source": [
    "\"\"\"\n",
    "# Employee info\n",
    "class Employee(object):\n",
    "    def __init__(self, id, importance, subordinates):\n",
    "        # It's the unique id of each node.\n",
    "        # unique id of this employee\n",
    "        self.id = id\n",
    "        # the importance value of this employee\n",
    "        self.importance = importance\n",
    "        # the id of direct subordinates\n",
    "        self.subordinates = subordinates\n",
    "\"\"\"\n",
    "class Solution(object):\n",
    "    def getImportance(self, employees, id):\n",
    "        \"\"\"\n",
    "        :type employees: Employee\n",
    "        :type id: int\n",
    "        :rtype: int\n",
    "        \"\"\"\n",
    "        \n",
    "        if employees == [] or id is None:\n",
    "            return 0\n",
    "        \n",
    "        d = {emp.id:emp for emp in employees}\n",
    "        stack = []\n",
    "        li = self.getSum(d, id, stack)\n",
    "        return sum(li)\n",
    "          \n",
    "    def getSum(self,d, id, stack):\n",
    "        emp = d[id]\n",
    "        stack.append(emp.importance)\n",
    "        \n",
    "        if emp.subordinates != []:\n",
    "            for e in emp.subordinates:\n",
    "                self.getSum(d, e, stack)\n",
    "        return stack\n",
    "    "
   ]
  },
  {
   "cell_type": "markdown",
   "metadata": {},
   "source": [
    "### 13. Move Zeroes"
   ]
  },
  {
   "cell_type": "markdown",
   "metadata": {},
   "source": [
    "Given an array nums, write a function to move all 0's to the end of it while maintaining the relative order of the non-zero elements.\n",
    "\n",
    "Example:\n",
    "\n",
    "Input: [0,1,0,3,12]\n",
    "Output: [1,3,12,0,0]\n",
    "Note:\n",
    "\n",
    "You must do this in-place without making a copy of the array.\n",
    "Minimize the total number of operations."
   ]
  },
  {
   "cell_type": "code",
   "execution_count": 32,
   "metadata": {},
   "outputs": [],
   "source": [
    "class Solution(object):\n",
    "    def moveZeroes(self, nums):\n",
    "        \"\"\"\n",
    "        :type nums: List[int]\n",
    "        :rtype: None Do not return anything, modify nums in-place instead.\n",
    "        \"\"\"\n",
    "        \n",
    "        for i in range(len(nums)):\n",
    "            flag = False\n",
    "            for j in range(i+1,len(nums)):\n",
    "                if flag == True:\n",
    "                    continue\n",
    "                if nums[i]==0 and nums[j]!=0:\n",
    "                    nums[i], nums[j] = nums[j], nums[i]\n",
    "                    flag = True\n",
    "                #print(nums)   \n",
    "        return nums\n",
    "# O(n^2)"
   ]
  },
  {
   "cell_type": "markdown",
   "metadata": {},
   "source": [
    "### 14. Reverse Linked List"
   ]
  },
  {
   "cell_type": "markdown",
   "metadata": {},
   "source": [
    "Reverse a singly linked list.\n",
    "\n",
    "Example:\n",
    "\n",
    "Input: 1->2->3->4->5->NULL\n",
    "Output: 5->4->3->2->1->NULL\n",
    "Follow up:\n",
    "\n",
    "A linked list can be reversed either iteratively or recursively. Could you implement both?"
   ]
  },
  {
   "cell_type": "code",
   "execution_count": 43,
   "metadata": {},
   "outputs": [],
   "source": [
    "# Definition for singly-linked list.\n",
    "# class ListNode(object):\n",
    "#     def __init__(self, x):\n",
    "#         self.val = x\n",
    "#         self.next = None\n",
    "\n",
    "class Solution(object):\n",
    "    def reverseList(self, head):\n",
    "        \"\"\"\n",
    "        :type head: ListNode\n",
    "        :rtype: ListNode\n",
    "        \"\"\"\n",
    "        \n",
    "        if head is None or head.next is None:\n",
    "            return head\n",
    "        else:\n",
    "            \n",
    "            rev = self.reverseList(head.next)\n",
    "            head.next.next = head\n",
    "            head.next = None\n",
    "            \n",
    "            return rev"
   ]
  },
  {
   "cell_type": "markdown",
   "metadata": {},
   "source": [
    "### 15. Invert Binary Tree"
   ]
  },
  {
   "cell_type": "markdown",
   "metadata": {},
   "source": [
    "Invert a binary tree.\n",
    "\n",
    "Example:\n",
    "\n",
    "Input:\n",
    "\n",
    "     4\n",
    "   /   \\\n",
    "  2     7\n",
    " / \\   / \\\n",
    "1   3 6   9\n",
    "Output:\n",
    "\n",
    "     4\n",
    "   /   \\\n",
    "  7     2\n",
    " / \\   / \\\n",
    "9   6 3   1"
   ]
  },
  {
   "cell_type": "code",
   "execution_count": 44,
   "metadata": {},
   "outputs": [],
   "source": [
    "# Definition for a binary tree node.\n",
    "# class TreeNode(object):\n",
    "#     def __init__(self, x):\n",
    "#         self.val = x\n",
    "#         self.left = None\n",
    "#         self.right = None\n",
    "\n",
    "class Solution(object):\n",
    "    def invertTree(self, root):\n",
    "        \"\"\"\n",
    "        :type root: TreeNode\n",
    "        :rtype: TreeNode\n",
    "        \"\"\"\n",
    "        if root is None:\n",
    "            return root\n",
    "        else:\n",
    "            left = self.invertTree(root.left)\n",
    "            right = self.invertTree(root.right)\n",
    "            root.left = right\n",
    "            root.right = left\n",
    "              \n",
    "            return root\n",
    "            "
   ]
  },
  {
   "cell_type": "markdown",
   "metadata": {},
   "source": [
    "### 16. Reshape the Matrix"
   ]
  },
  {
   "cell_type": "markdown",
   "metadata": {},
   "source": [
    "In MATLAB, there is a very useful function called 'reshape', which can reshape a matrix into a new one with different size but keep its original data.\n",
    "\n",
    "You're given a matrix represented by a two-dimensional array, and two positive integers r and c representing the row number and column number of the wanted reshaped matrix, respectively.\n",
    "\n",
    "The reshaped matrix need to be filled with all the elements of the original matrix in the same row-traversing order as they were.\n",
    "\n",
    "If the 'reshape' operation with given parameters is possible and legal, output the new reshaped matrix; Otherwise, output the original matrix.\n",
    "\n",
    "Example 1:\n",
    "Input: \n",
    "nums = \n",
    "[[1,2],\n",
    " [3,4]]\n",
    "r = 1, c = 4\n",
    "Output: \n",
    "[[1,2,3,4]]\n",
    "Explanation:\n",
    "The row-traversing of nums is [1,2,3,4]. The new reshaped matrix is a 1 * 4 matrix, fill it row by row by using the previous list."
   ]
  },
  {
   "cell_type": "code",
   "execution_count": 46,
   "metadata": {},
   "outputs": [],
   "source": [
    "class Solution(object):\n",
    "    def matrixReshape(self, nums, r, c):\n",
    "        \"\"\"\n",
    "        :type nums: List[List[int]]\n",
    "        :type r: int\n",
    "        :type c: int\n",
    "        :rtype: List[List[int]]\n",
    "        \"\"\"\n",
    "        if len(nums)*len(nums[0]) != r*c:\n",
    "            return nums\n",
    "        else:\n",
    "            # reshape is valid\n",
    "            \n",
    "            A = []\n",
    "            B = []\n",
    "            for rows in range(len(nums)):\n",
    "                for cols in range(len(nums[0])):\n",
    "                    B.append(nums[rows][cols])\n",
    "                    if len(B)==c:\n",
    "                        A.append(B)\n",
    "                        B = []\n",
    "                \n",
    "            return A         "
   ]
  },
  {
   "cell_type": "markdown",
   "metadata": {},
   "source": [
    "### 17. Number Complement"
   ]
  },
  {
   "cell_type": "markdown",
   "metadata": {},
   "source": [
    "Given a positive integer, output its complement number. The complement strategy is to flip the bits of its binary representation.\n",
    "\n",
    "Note:\n",
    "The given integer is guaranteed to fit within the range of a 32-bit signed integer.\n",
    "You could assume no leading zero bit in the integer’s binary representation.\n",
    "Example 1:\n",
    "Input: 5\n",
    "Output: 2\n",
    "Explanation: The binary representation of 5 is 101 (no leading zero bits), and its complement is 010. So you need to output 2."
   ]
  },
  {
   "cell_type": "code",
   "execution_count": 47,
   "metadata": {},
   "outputs": [],
   "source": [
    "class Solution(object):\n",
    "    def findComplement(self, num):\n",
    "        \"\"\"\n",
    "        :type num: int\n",
    "        :rtype: int\n",
    "        \"\"\"\n",
    "        \n",
    "        n = self.getBinary(num)\n",
    "        print(n)\n",
    "        for i,char in enumerate(n):\n",
    "            if char==1:\n",
    "                n[i] = 0\n",
    "            else:\n",
    "                n[i] = 1\n",
    "        print(n)\n",
    "        return self.getDecimal(n)\n",
    "        \n",
    "        \n",
    "    def getBinary(self, Dnum):\n",
    "        \n",
    "        b = []\n",
    "        while Dnum>0:\n",
    "            r = Dnum%2  \n",
    "            Dnum = Dnum//2\n",
    "            b.append(r)\n",
    "        return b[::-1]\n",
    "        \n",
    "    \n",
    "    def getDecimal(self, Bnum):\n",
    "        sm = 0\n",
    "        for i,char in enumerate(Bnum[::-1]):\n",
    "            sm += char*(2**i)\n",
    "        return sm\n",
    "                 "
   ]
  },
  {
   "cell_type": "markdown",
   "metadata": {},
   "source": [
    "### 18. Shortest Distance to a Character"
   ]
  },
  {
   "cell_type": "markdown",
   "metadata": {},
   "source": [
    "Given a string S and a character C, return an array of integers representing the shortest distance from the character C in the string.\n",
    "\n",
    "Example 1:\n",
    "\n",
    "Input: S = \"loveleetcode\", C = 'e'\n",
    "Output: [3, 2, 1, 0, 1, 0, 0, 1, 2, 2, 1, 0]\n",
    " \n",
    "\n",
    "Note:\n",
    "\n",
    "S string length is in [1, 10000].\n",
    "C is a single character, and guaranteed to be in string S.\n",
    "All letters in S and C are lowercase."
   ]
  },
  {
   "cell_type": "code",
   "execution_count": null,
   "metadata": {},
   "outputs": [],
   "source": [
    "class Solution(object):\n",
    "    def shortestToChar(self, S, C):\n",
    "        \"\"\"\n",
    "        :type S: str\n",
    "        :type C: str\n",
    "        :rtype: List[int]\n",
    "        \"\"\"\n",
    "        stack = [i for i,ch in enumerate(S) if ch == C]\n",
    "        print(stack) \n",
    "        ans = []\n",
    "        pos = 0\n",
    "        for i,ch in enumerate(S):\n",
    "            if pos>0:\n",
    "                ans.append(min(abs(i-stack[pos]), abs(i-stack[pos-1])))   \n",
    "            else:\n",
    "                ans.append(abs(i-stack[pos]))\n",
    "            if ch==C and len(stack)>1:\n",
    "                pos += 1\n",
    "        print(ans)\n",
    "        return ans\n"
   ]
  },
  {
   "cell_type": "markdown",
   "metadata": {},
   "source": [
    "### 19. Moving Average from Data Stream"
   ]
  },
  {
   "cell_type": "markdown",
   "metadata": {},
   "source": [
    "Given a stream of integers and a window size, calculate the moving average of all integers in the sliding window.\n",
    "\n",
    "Example:\n",
    "\n",
    "MovingAverage m = new MovingAverage(3);\n",
    "m.next(1) = 1\n",
    "m.next(10) = (1 + 10) / 2\n",
    "m.next(3) = (1 + 10 + 3) / 3\n",
    "m.next(5) = (10 + 3 + 5) / 3"
   ]
  },
  {
   "cell_type": "code",
   "execution_count": 53,
   "metadata": {},
   "outputs": [],
   "source": [
    "class MovingAverage(object):\n",
    "\n",
    "    def __init__(self, size):\n",
    "        \"\"\"\n",
    "        Initialize your data structure here.\n",
    "        :type size: int\n",
    "        \"\"\"\n",
    "        self.count = 0\n",
    "        self.array = []\n",
    "        self.size = size\n",
    "        \n",
    "\n",
    "    def next(self, val):\n",
    "        \"\"\"\n",
    "        :type val: int\n",
    "        :rtype: float\n",
    "        \"\"\"\n",
    "        self.count+=1\n",
    "        self.array.append(val)\n",
    "        \n",
    "        if self.count == 1:\n",
    "            return self.array[0]\n",
    "        elif self.count <= self.size:\n",
    "            return sum(self.array)/float(len(self.array))\n",
    "        elif self.count>self.size:\n",
    "            num = -self.size\n",
    "            return float(sum(self.array[num:]))/self.size\n",
    "        \n",
    "\n",
    "\n",
    "# Your MovingAverage object will be instantiated and called as such:\n",
    "# obj = MovingAverage(size)\n",
    "# param_1 = obj.next(val)"
   ]
  },
  {
   "cell_type": "markdown",
   "metadata": {},
   "source": [
    "### 20. License Key Formatting"
   ]
  },
  {
   "cell_type": "markdown",
   "metadata": {},
   "source": [
    "You are given a license key represented as a string S which consists only alphanumeric character and dashes. The string is separated into N+1 groups by N dashes.\n",
    "\n",
    "Given a number K, we would want to reformat the strings such that each group contains exactly K characters, except for the first group which could be shorter than K, but still must contain at least one character. Furthermore, there must be a dash inserted between two groups and all lowercase letters should be converted to uppercase.\n",
    "\n",
    "Given a non-empty string S and a number K, format the string according to the rules described above.\n",
    "\n",
    "Example 1:\n",
    "Input: S = \"5F3Z-2e-9-w\", K = 4\n",
    "\n",
    "Output: \"5F3Z-2E9W\"\n",
    "\n",
    "Explanation: The string S has been split into two parts, each part has 4 characters.\n",
    "Note that the two extra dashes are not needed and can be removed.\n",
    "Example 2:\n",
    "Input: S = \"2-5g-3-J\", K = 2\n",
    "\n",
    "Output: \"2-5G-3J\"\n",
    "\n",
    "Explanation: The string S has been split into three parts, each part has 2 characters except the first part as it could be shorter as mentioned above.\n",
    "Note:\n",
    "The length of string S will not exceed 12,000, and K is a positive integer.\n",
    "String S consists only of alphanumerical characters (a-z and/or A-Z and/or 0-9) and dashes(-).\n",
    "String S is non-empty."
   ]
  },
  {
   "cell_type": "code",
   "execution_count": 54,
   "metadata": {},
   "outputs": [],
   "source": [
    "class Solution(object):\n",
    "    def licenseKeyFormatting(self, S, K):\n",
    "        \"\"\"\n",
    "        :type S: str\n",
    "        :type K: int\n",
    "        :rtype: str\n",
    "        \"\"\"\n",
    "        S = S.upper()\n",
    "        S = \"\".join(S.split(\"-\"))\n",
    "        \n",
    "        if len(S) < K:\n",
    "            return S\n",
    "        \n",
    "        ans = \"\"\n",
    "        if len(S) % K != 0:\n",
    "            ans = S[0:len(S) % K] \n",
    "            S = S[len(S) % K:]\n",
    "        \n",
    "        st = []\n",
    "        for i in range(0,len(S),K):\n",
    "            st.append(S[i: i+K])\n",
    "        \n",
    "        st = '-'.join(st)\n",
    "        if ans != '':\n",
    "            return ans + '-' + st\n",
    "        return st"
   ]
  },
  {
   "cell_type": "code",
   "execution_count": null,
   "metadata": {},
   "outputs": [],
   "source": []
  },
  {
   "cell_type": "code",
   "execution_count": null,
   "metadata": {},
   "outputs": [],
   "source": []
  },
  {
   "cell_type": "code",
   "execution_count": null,
   "metadata": {},
   "outputs": [],
   "source": []
  },
  {
   "cell_type": "code",
   "execution_count": null,
   "metadata": {},
   "outputs": [],
   "source": []
  }
 ],
 "metadata": {
  "kernelspec": {
   "display_name": "Python 3",
   "language": "python",
   "name": "python3"
  },
  "language_info": {
   "codemirror_mode": {
    "name": "ipython",
    "version": 3
   },
   "file_extension": ".py",
   "mimetype": "text/x-python",
   "name": "python",
   "nbconvert_exporter": "python",
   "pygments_lexer": "ipython3",
   "version": "3.6.8"
  }
 },
 "nbformat": 4,
 "nbformat_minor": 2
}
