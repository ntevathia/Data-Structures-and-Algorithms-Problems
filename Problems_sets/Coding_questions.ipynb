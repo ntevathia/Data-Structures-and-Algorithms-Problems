{
 "cells": [
  {
   "cell_type": "markdown",
   "metadata": {},
   "source": [
    "### Paint House"
   ]
  },
  {
   "cell_type": "markdown",
   "metadata": {},
   "source": [
    "There are a row of n houses, each house can be painted with one of the three colors: red, blue or green. The cost of painting each house with a certain color is different. You have to paint all the houses such that no two adjacent houses have the same color.\n",
    "\n",
    "The cost of painting each house with a certain color is represented by a n x 3 cost matrix. For example, costs[0][0] is the cost of painting house 0 with color red; costs[1][2] is the cost of painting house 1 with color green, and so on... Find the minimum cost to paint all houses.\n",
    "\n",
    "Note:\n",
    "All costs are positive integers.\n",
    "\n",
    "Example:\n",
    "\n",
    "Input: [[17,2,17],[16,16,5],[14,3,19]]\n",
    "Output: 10\n",
    "Explanation: Paint house 0 into blue, paint house 1 into green, paint house 2 into blue. \n",
    "             Minimum cost: 2 + 5 + 3 = 10."
   ]
  },
  {
   "cell_type": "code",
   "execution_count": null,
   "metadata": {},
   "outputs": [],
   "source": [
    "class Solution:\n",
    "    def minCost(self, costs):\n",
    "        \n",
    "        length = len(costs)\n",
    "        dp  = [[0]*3 for _ in range(length+1)]\n",
    "        print(dp)\n",
    "        \n",
    "        for i in range(1, length+1):\n",
    "            dp[i][0] = min(dp[i-1][1], dp[i-1][2]) + costs[i-1][0]\n",
    "            dp[i][1] = min(dp[i-1][0], dp[i-1][2]) + costs[i-1][1]\n",
    "            dp[i][2] = min(dp[i-1][1], dp[i-1][0]) + costs[i-1][2]\n",
    "            print(dp)\n",
    "            \n",
    "        return min(dp[-1])"
   ]
  },
  {
   "cell_type": "markdown",
   "metadata": {},
   "source": [
    "### Minimum Window Substring"
   ]
  },
  {
   "cell_type": "markdown",
   "metadata": {},
   "source": [
    "Given a string S and a string T, find the minimum window in S which will contain all the characters in T in complexity O(n).\n",
    "\n",
    "Example:\n",
    "\n",
    "Input: S = \"ADOBECODEBANC\", T = \"ABC\"\n",
    "Output: \"BANC\"\n",
    "Note:\n",
    "\n",
    "If there is no such window in S that covers all characters in T, return the empty string \"\".\n",
    "If there is such window, you are guaranteed that there will always be only one unique minimum window in S.\n"
   ]
  },
  {
   "cell_type": "code",
   "execution_count": null,
   "metadata": {},
   "outputs": [],
   "source": [
    "class Solution:\n",
    "    def minWindow(self, s: str, t: str) -> str:\n",
    "        Tc = collections.Counter(t)\n",
    "        Sc = collections.Counter()\n",
    "\n",
    "        best_i = -sys.maxsize\n",
    "        best_j = sys.maxsize\n",
    "\n",
    "        i = 0\n",
    "\n",
    "        for j, char in enumerate(s):\n",
    "            Sc[char] += 1\n",
    "\n",
    "            while Sc & Tc == Tc:\n",
    "                if j - i < best_j - best_i:\n",
    "                    best_i, best_j = i, j\n",
    "\n",
    "                Sc[s[i]] -= 1\n",
    "                i += 1\n",
    "\n",
    "        return s[best_i : best_j + 1] if best_j - best_i < len(s) else \"\""
   ]
  },
  {
   "cell_type": "code",
   "execution_count": null,
   "metadata": {},
   "outputs": [],
   "source": []
  },
  {
   "cell_type": "markdown",
   "metadata": {},
   "source": [
    "### Max contiguous sub-sequence"
   ]
  },
  {
   "cell_type": "code",
   "execution_count": null,
   "metadata": {},
   "outputs": [],
   "source": [
    "def maxSum(A):\n",
    "    ans = 0\n",
    "    mx = 0\n",
    "    for elm in A:\n",
    "        ans += elm\n",
    "        if ans>mx:\n",
    "            mx = ans\n",
    "        elif ans<0:\n",
    "            ans = 0\n",
    "    return mx"
   ]
  },
  {
   "cell_type": "code",
   "execution_count": null,
   "metadata": {},
   "outputs": [],
   "source": [
    "A = [1, 2, -4, 1, 3, -2, 3, -1]"
   ]
  },
  {
   "cell_type": "code",
   "execution_count": null,
   "metadata": {},
   "outputs": [],
   "source": [
    "maxSum(A)"
   ]
  },
  {
   "cell_type": "markdown",
   "metadata": {},
   "source": [
    "### Max contiguous product"
   ]
  },
  {
   "cell_type": "code",
   "execution_count": null,
   "metadata": {},
   "outputs": [],
   "source": [
    "def maxProduct(A):\n",
    "    \n",
    "    \n",
    "    \n",
    "    \n",
    "    "
   ]
  },
  {
   "cell_type": "code",
   "execution_count": null,
   "metadata": {},
   "outputs": [],
   "source": []
  },
  {
   "cell_type": "markdown",
   "metadata": {},
   "source": [
    "### Ponds and Islands\n",
    "- count the number of islands"
   ]
  },
  {
   "cell_type": "code",
   "execution_count": null,
   "metadata": {},
   "outputs": [],
   "source": [
    "class Solution:\n",
    "    def numIslands(self, grid: List[List[str]]) -> int:\n",
    "        s = 0\n",
    "        for i in range(len(grid)) :\n",
    "            for j in range(len(grid[i])):\n",
    "                s+=self.sink(i,j, grid)\n",
    "        return s\n",
    "                \n",
    "        \n",
    "    def sink(self, r, c, grid):\n",
    "        if 0 <= r < len(grid) and 0 <= c < len(grid[r]) and grid[r][c] == '1':\n",
    "            grid[r][c] = '0'\n",
    "            self.sink(r+1, c, grid)\n",
    "            self.sink(r-1, c, grid)\n",
    "            self.sink(r, c+1, grid)\n",
    "            self.sink(r, c-1, grid)\n",
    "            return 1\n",
    "            \n",
    "        return 0"
   ]
  },
  {
   "cell_type": "markdown",
   "metadata": {},
   "source": [
    "### Print factors\n",
    "- incomplete"
   ]
  },
  {
   "cell_type": "code",
   "execution_count": null,
   "metadata": {},
   "outputs": [],
   "source": [
    "def div(num, factor, s):\n",
    "    if num == 1:\n",
    "        return s+\"*1\"\n",
    "    for i in range(2,factor+1):\n",
    "        if num%i == 0:\n",
    "            print(i)\n",
    "            if s==\"\":\n",
    "                div(num/i, i, str(i))\n",
    "            else:\n",
    "                div(num/i, i, s+\"*\"+str(i))            "
   ]
  },
  {
   "cell_type": "code",
   "execution_count": null,
   "metadata": {},
   "outputs": [],
   "source": [
    "def getfactors(num):\n",
    "    s = \"\"\n",
    "    div(num, num, s)\n",
    "    print(s)   "
   ]
  },
  {
   "cell_type": "code",
   "execution_count": null,
   "metadata": {},
   "outputs": [],
   "source": [
    "getfactors(12)"
   ]
  },
  {
   "cell_type": "code",
   "execution_count": null,
   "metadata": {},
   "outputs": [],
   "source": [
    "def print_factors_helper(n, biggest_so_far, so_far):\n",
    "    for i in range(max(2, biggest_so_far), int(math.sqrt(n)) + 1):\n",
    "        if n % i == 0:\n",
    "            print(f\"{n/i} {i} {so_far})\n",
    "            print_factors_helper(n/i, i, f\"{i} {so_far}\")\n",
    "                  \n",
    "def print_factors(n):\n",
    "    print(f\"{n}*1\")\n",
    "    print_factors_helper(n, 0, \"\")"
   ]
  },
  {
   "cell_type": "code",
   "execution_count": null,
   "metadata": {
    "scrolled": true
   },
   "outputs": [],
   "source": [
    "print_factors(12)"
   ]
  },
  {
   "cell_type": "code",
   "execution_count": 3,
   "metadata": {},
   "outputs": [],
   "source": [
    "class Solution:\n",
    "    def getFactors(self, n):\n",
    "        return self.factor(n, 2, [], [])\n",
    "    \n",
    "    def factor(self, n, i, combi, combis):\n",
    "        while i * i <= n:\n",
    "            if n % i == 0:\n",
    "                combis += combi + [i, n//i], \n",
    "                self.factor(n/i, i, combi+[i], combis)\n",
    "            i += 1\n",
    "        return combis"
   ]
  },
  {
   "cell_type": "code",
   "execution_count": 4,
   "metadata": {},
   "outputs": [],
   "source": [
    "obj = Solution()"
   ]
  },
  {
   "cell_type": "code",
   "execution_count": 5,
   "metadata": {},
   "outputs": [
    {
     "data": {
      "text/plain": [
       "[[2, 6], [2, 2, 3.0], [3, 4]]"
      ]
     },
     "execution_count": 5,
     "metadata": {},
     "output_type": "execute_result"
    }
   ],
   "source": [
    "obj.getFactors(12)"
   ]
  },
  {
   "cell_type": "code",
   "execution_count": null,
   "metadata": {},
   "outputs": [],
   "source": []
  },
  {
   "cell_type": "code",
   "execution_count": null,
   "metadata": {},
   "outputs": [],
   "source": []
  },
  {
   "cell_type": "markdown",
   "metadata": {},
   "source": [
    "### Common Ancestor in Tree"
   ]
  },
  {
   "cell_type": "code",
   "execution_count": null,
   "metadata": {},
   "outputs": [],
   "source": [
    "def findCommonParent(root, A, B):\n",
    "    if root is None or root == A or root == B:\n",
    "        return root\n",
    "    left = findCommonParent(root.left, A, B)\n",
    "    right = findCommonParent(root.right, A, B)\n",
    "    \n",
    "    if left != None and right != None:\n",
    "        return root\n",
    "    else:\n",
    "        if left != None:\n",
    "            return left\n",
    "        return right"
   ]
  },
  {
   "cell_type": "markdown",
   "metadata": {},
   "source": [
    "### Isomorphic Strings"
   ]
  },
  {
   "cell_type": "code",
   "execution_count": null,
   "metadata": {},
   "outputs": [],
   "source": [
    "class Solution:\n",
    "    def isIsomorphic(self, s: str, t: str) -> bool:\n",
    "        \n",
    "        seen = {}\n",
    "        for a,b in zip(s,t):\n",
    "            \n",
    "            if a not in seen and b not in seen.values():\n",
    "                seen[a] = b\n",
    "            elif a not in seen and b in seen.values():\n",
    "                return False\n",
    "            elif seen[a] == b:\n",
    "                continue\n",
    "            elif seen[a]!=b:\n",
    "                return False\n",
    "        return True"
   ]
  },
  {
   "cell_type": "markdown",
   "metadata": {},
   "source": [
    "### Design Compressed String Iterator"
   ]
  },
  {
   "cell_type": "markdown",
   "metadata": {},
   "source": [
    "Design and implement a data structure for a compressed string iterator. It should support the following operations: next and hasNext.\n",
    "\n",
    "The given compressed string will be in the form of each letter followed by a positive integer representing the number of this letter existing in the original uncompressed string.\n",
    "\n",
    "next() - if the original string still has uncompressed characters, return the next letter; Otherwise return a white space.\n",
    "hasNext() - Judge whether there is any letter needs to be uncompressed.\n",
    "\n",
    "Note:\n",
    "Please remember to RESET your class variables declared in StringIterator, as static/class variables are persisted across multiple test cases. Please see here for more details."
   ]
  },
  {
   "cell_type": "code",
   "execution_count": null,
   "metadata": {},
   "outputs": [],
   "source": [
    "class StringIterator:\n",
    "\n",
    "    def __init__(self, compressedString: str):\n",
    "        self.comp = [char for char in compressedString]\n",
    "        self.pos = 0\n",
    "\n",
    "    def next(self) -> str:\n",
    "        if self.hasNext() == False:\n",
    "            return ' '\n",
    "        else:\n",
    "            letter = self.comp[0]\n",
    "            ptr = 1\n",
    "            while self.comp[ptr+1].isdigit() and (ptr+1)<len(self.comp)-1:\n",
    "                ptr = ptr+1\n",
    "            \n",
    "            if ptr==1: # single digit number\n",
    "                num = int(self.comp[1])\n",
    "                self.comp[1] = str(num-1)\n",
    "            else:\n",
    "                num = int(''.join(self.comp[1:ptr+1]))\n",
    "                self.comp[1:ptr+1] = str(num-1)\n",
    "                \n",
    "            if self.comp[1]=='0':\n",
    "                self.comp.pop(0)\n",
    "                self.comp.pop(0)\n",
    "            return letter\n",
    "        \n",
    "\n",
    "    def hasNext(self) -> bool:\n",
    "        return self.comp!=''\n",
    "        \n",
    "\n",
    "\n",
    "# Your StringIterator object will be instantiated and called as such:\n",
    "# obj = StringIterator(compressedString)\n",
    "# param_1 = obj.next()\n",
    "# param_2 = obj.hasNext()"
   ]
  },
  {
   "cell_type": "code",
   "execution_count": null,
   "metadata": {},
   "outputs": [],
   "source": [
    "[\"StringIterator\",\"next\",\"next\",\"next\",\"next\",\"next\",\"next\",\"hasNext\",\"next\",\"hasNext\"]\n",
    "[[\"L10e2t1C1o1d1e11\"],[],[],[],[],[],[],[],[],[]]"
   ]
  },
  {
   "cell_type": "code",
   "execution_count": null,
   "metadata": {},
   "outputs": [],
   "source": [
    "obj = StringIterator('L10e2t1C1o1d1e11')"
   ]
  },
  {
   "cell_type": "code",
   "execution_count": null,
   "metadata": {},
   "outputs": [],
   "source": [
    "obj.next()"
   ]
  },
  {
   "cell_type": "markdown",
   "metadata": {},
   "source": [
    "### BFS tree traversal"
   ]
  },
  {
   "cell_type": "code",
   "execution_count": null,
   "metadata": {},
   "outputs": [],
   "source": [
    "def levelOrder(self, root):\n",
    "    \"\"\"\n",
    "    :type root: TreeNode\n",
    "    :rtype: List[List[int]]\n",
    "    \"\"\"\n",
    "    if root == None:\n",
    "        return root\n",
    "\n",
    "    walk = [[root.val]]\n",
    "    que = [[root]]\n",
    "\n",
    "    while len(que)>0:\n",
    "        path = que.pop(0)\n",
    "\n",
    "        li = []\n",
    "        q = []\n",
    "        for p in path:\n",
    "            if p.left:\n",
    "                q.append(p.left)\n",
    "                li.append(p.left.val)\n",
    "            if p.right:\n",
    "                q.append(p.right)\n",
    "                li.append(p.right.val)\n",
    "        if q!=[]: que.append(q)\n",
    "        if li!=[]: walk.append(li)\n",
    "\n",
    "    return walk  "
   ]
  },
  {
   "cell_type": "markdown",
   "metadata": {},
   "source": [
    "### Nested List Weight Sum"
   ]
  },
  {
   "cell_type": "code",
   "execution_count": null,
   "metadata": {},
   "outputs": [],
   "source": [
    "li = [[1,1],2,[1,1]]"
   ]
  },
  {
   "cell_type": "code",
   "execution_count": null,
   "metadata": {},
   "outputs": [],
   "source": [
    "class Solution:\n",
    "    def depthSum(self, nestedList):\n",
    "        return self.depthSuml(nestedList, 1)\n",
    "\n",
    "\n",
    "    def depthSuml(self, li, depth):\n",
    "        sm = 0\n",
    "        for elm in li:\n",
    "            if isinstance(elm,int):\n",
    "                sm += elm * depth\n",
    "            else:\n",
    "                sm += self.depthSuml(elm, depth + 1)\n",
    "\n",
    "        return sm "
   ]
  },
  {
   "cell_type": "code",
   "execution_count": null,
   "metadata": {},
   "outputs": [],
   "source": [
    "obj = Solution()"
   ]
  },
  {
   "cell_type": "code",
   "execution_count": null,
   "metadata": {},
   "outputs": [],
   "source": [
    "obj.depthSum(li)"
   ]
  },
  {
   "cell_type": "markdown",
   "metadata": {},
   "source": [
    "### Sparse matrix operations"
   ]
  },
  {
   "cell_type": "markdown",
   "metadata": {},
   "source": [
    "https://www.geeksforgeeks.org/operations-sparse-matrices/"
   ]
  },
  {
   "cell_type": "code",
   "execution_count": null,
   "metadata": {},
   "outputs": [],
   "source": [
    "class SparseMatrix:\n",
    "    \n",
    "    def __init__(self, r,c,A=None):\n",
    "        self.row = r\n",
    "        self.col = c\n",
    "        self.store = self.process(A)\n",
    "        \n",
    "    def process(self,A):\n",
    "        m = {}\n",
    "        if not A:\n",
    "            return m\n",
    "        for i in range(len(A)):\n",
    "            for j in range(len(A[0])):\n",
    "                if A[i][j]!=0:\n",
    "                    if i not in m:\n",
    "                        m[i] = {}\n",
    "                    m[i][j] = A[i][j]\n",
    "  \n",
    "        return m\n",
    "    \n",
    "    def multiply(self, B):\n",
    "        result = SparseMatrix(self.row, B.col)\n",
    "\n",
    "        for i in self.store:\n",
    "            if i not in result.store:\n",
    "                result.store[i] = collections.defaultdict(int)\n",
    "            for j in self.store[i]:\n",
    "                if j in B.store:\n",
    "                    for col in B.store[j]:\n",
    "                            result.store[i][col] += self.store[i][j]*B.store[j][col]\n",
    "\n",
    "        return result\n",
    "    \n",
    "    def add(self,B):\n",
    "        result = SparseMatrix(self.row,self.col)\n",
    "        for i in self.store:\n",
    "            if i not in result.store:\n",
    "                result.store[i] = {}\n",
    "            for j in self.store[i]:\n",
    "                result.store[i][j] = self.store[i][j]\n",
    "                \n",
    "        for i in B.store:\n",
    "            if i not in result.store:\n",
    "                result.store[i] = collections.defaultdict()\n",
    "            for j in self.store[i]:\n",
    "                result.store[i][j] += B.store[i][j]\n",
    "        \n",
    "        return result\n",
    "        \n",
    "    def to_array(self):\n",
    "        array = [[0]*self.col for _ in range(self.row)]\n",
    "        for i in self.store:\n",
    "            for j in self.store[i]:\n",
    "                array[i][j] = self.store[i][j]\n",
    "        return array\n",
    "    \n",
    "class Solution:\n",
    "    def multiply(self, A: List[List[int]], B: List[List[int]]) -> List[List[int]]:\n",
    "        matrixA = SparseMatrix(len(A),len(A[0]), A)\n",
    "        matrixB = SparseMatrix(len(B),len(B[0]), B)\n",
    "        return matrixA.multiply(matrixB).to_array()\n",
    "        "
   ]
  },
  {
   "cell_type": "markdown",
   "metadata": {},
   "source": [
    "### Valid Tree\n",
    "Graph Valid Tree in leetcode"
   ]
  },
  {
   "cell_type": "code",
   "execution_count": null,
   "metadata": {},
   "outputs": [],
   "source": [
    "n = 5 \n",
    "edges = [[0, 1], [1, 2], [2, 3], [1, 3], [1, 4]]\n",
    "#return true.\n",
    "\n",
    "#Given n = 5 and edges = [[0, 1], [1, 2], [2, 3], [1, 3], [1, 4]], return false."
   ]
  },
  {
   "cell_type": "code",
   "execution_count": null,
   "metadata": {},
   "outputs": [],
   "source": [
    "import collections"
   ]
  },
  {
   "cell_type": "code",
   "execution_count": null,
   "metadata": {},
   "outputs": [],
   "source": [
    "class Solution:\n",
    "    def validTree(self, n: int, edges):\n",
    "        \n",
    "        if len(edges) != n-1: \n",
    "            return False\n",
    "        \n",
    "        neighbors = collections.defaultdict(list)\n",
    "        #print(neighbors)\n",
    "        \n",
    "        # construct adjancency list\n",
    "        for s,t in edges:\n",
    "            neighbors[s].append(t)\n",
    "            neighbors[t].append(s)\n",
    "        #print(neighbors)\n",
    "        \n",
    "        visited = set([0])\n",
    "        queue = collections.deque([0])\n",
    "        while queue:\n",
    "            p = queue.popleft()\n",
    "            print(p)\n",
    "            for q in neighbors[p]:\n",
    "                if q not in visited:\n",
    "                    visited.add(q)\n",
    "                    queue.append(q)\n",
    "                    \n",
    "        \n",
    "        #print(visited)\n",
    "        return len(visited) == n"
   ]
  },
  {
   "cell_type": "code",
   "execution_count": null,
   "metadata": {},
   "outputs": [],
   "source": [
    "obj = Solution()\n",
    "obj.validTree(n, edges)"
   ]
  },
  {
   "cell_type": "markdown",
   "metadata": {},
   "source": [
    "### Connected Components in an Undirected Graph\n",
    "-- Number of Connected Components in an Undirected Graph in Leetcode"
   ]
  },
  {
   "cell_type": "code",
   "execution_count": null,
   "metadata": {},
   "outputs": [],
   "source": []
  },
  {
   "cell_type": "code",
   "execution_count": null,
   "metadata": {},
   "outputs": [],
   "source": []
  },
  {
   "cell_type": "code",
   "execution_count": null,
   "metadata": {},
   "outputs": [],
   "source": []
  },
  {
   "cell_type": "code",
   "execution_count": null,
   "metadata": {},
   "outputs": [],
   "source": [
    "#linear spline transformation."
   ]
  },
  {
   "cell_type": "markdown",
   "metadata": {},
   "source": [
    "### Longest Palindromic Subsequence"
   ]
  },
  {
   "cell_type": "code",
   "execution_count": null,
   "metadata": {},
   "outputs": [],
   "source": [
    "class Solution(object):\n",
    "    def longestPalindromeSubseq(self, s):\n",
    "        \"\"\"\n",
    "        :type s: str\n",
    "        :rtype: int\n",
    "        \"\"\"\n",
    "        \n",
    "        return self.dp(s, 0, len(s) - 1)\n",
    "        \n",
    "        \n",
    "    def dp(self, s, low, high):\n",
    "        if low == high:\n",
    "            return 1\n",
    "        if high < low:\n",
    "            return 0\n",
    "        if s[low] == s[high]:\n",
    "            return 2 + self.dp(s, low+1, high-1)\n",
    "        else:\n",
    "            return max(self.dp(s, low, high-1), self.dp(s, low+1, high))"
   ]
  },
  {
   "cell_type": "code",
   "execution_count": null,
   "metadata": {},
   "outputs": [],
   "source": []
  },
  {
   "cell_type": "code",
   "execution_count": null,
   "metadata": {},
   "outputs": [],
   "source": []
  },
  {
   "cell_type": "code",
   "execution_count": null,
   "metadata": {},
   "outputs": [],
   "source": []
  },
  {
   "cell_type": "code",
   "execution_count": null,
   "metadata": {},
   "outputs": [],
   "source": []
  }
 ],
 "metadata": {
  "kernelspec": {
   "display_name": "Python 3",
   "language": "python",
   "name": "python3"
  },
  "language_info": {
   "codemirror_mode": {
    "name": "ipython",
    "version": 3
   },
   "file_extension": ".py",
   "mimetype": "text/x-python",
   "name": "python",
   "nbconvert_exporter": "python",
   "pygments_lexer": "ipython3",
   "version": "3.6.8"
  }
 },
 "nbformat": 4,
 "nbformat_minor": 2
}
