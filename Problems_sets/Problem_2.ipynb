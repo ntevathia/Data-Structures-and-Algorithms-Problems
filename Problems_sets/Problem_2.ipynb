{
 "cells": [
  {
   "cell_type": "markdown",
   "metadata": {},
   "source": [
    "### Exclusive Time of Functions"
   ]
  },
  {
   "cell_type": "markdown",
   "metadata": {},
   "source": [
    "On a single threaded CPU, we execute some functions.  Each function has a unique id between 0 and N-1.\n",
    "\n",
    "We store logs in timestamp order that describe when a function is entered or exited.\n",
    "\n",
    "Each log is a string with this format: \"{function_id}:{\"start\" | \"end\"}:{timestamp}\".  For example, \"0:start:3\" means the function with id 0 started at the beginning of timestamp 3.  \"1:end:2\" means the function with id 1 ended at the end of timestamp 2.\n",
    "\n",
    "A function's exclusive time is the number of units of time spent in this function.  Note that this does not include any recursive calls to child functions.\n",
    "\n",
    "Return the exclusive time of each function, sorted by their function id."
   ]
  },
  {
   "cell_type": "markdown",
   "metadata": {},
   "source": [
    "Input:\n",
    "n = 2\n",
    "logs = [\"0:start:0\",\"1:start:2\",\"1:end:5\",\"0:end:6\"]\n",
    "Output: [3, 4]\n",
    "Explanation:\n",
    "Function 0 starts at the beginning of time 0, then it executes 2 units of time and reaches the end of time 1.\n",
    "Now function 1 starts at the beginning of time 2, executes 4 units of time and ends at time 5.\n",
    "Function 0 is running again at the beginning of time 6, and also ends at the end of time 6, thus executing for 1 unit of time. \n",
    "So function 0 spends 2 + 1 = 3 units of total time executing, and function 1 spends 4 units of total time executing.\n"
   ]
  },
  {
   "cell_type": "code",
   "execution_count": 39,
   "metadata": {},
   "outputs": [],
   "source": [
    "class Solution(object):\n",
    "    def exclusiveTime(self, n, logs):\n",
    "        \"\"\"\n",
    "        :type n: int\n",
    "        :type logs: List[str]\n",
    "        :rtype: List[int]\n",
    "        \"\"\"\n",
    "    \n",
    "        ans = [0] * n\n",
    "        stack = []\n",
    "        pre = 0\n",
    "        for elm in logs:\n",
    "            job, state, time = elm.split(':')\n",
    "            # add to empty stack\n",
    "            if stack==[]: \n",
    "                stack.append((int(job), int(time)))\n",
    "            else:\n",
    "                # difference in time between current state and previous state\n",
    "                diff = int(time) - pre[0]\n",
    "                if state == \"end\":\n",
    "                    \n",
    "                    ans[int(job)] += diff + pre[1]\n",
    "                    stack.pop()\n",
    "                else:  # new job start\n",
    "                    job_pos = stack[-1][0]  \n",
    "                    ans[job_pos] += diff - (1-pre[1])\n",
    "                    stack.append((int(job), int(time)))\n",
    "            pre = (int(time), state == \"start\")\n",
    "        return ans\n"
   ]
  },
  {
   "cell_type": "code",
   "execution_count": 40,
   "metadata": {},
   "outputs": [],
   "source": [
    "# n = 3\n",
    "# jobs = [\"0:start:0\",\"0:end:0\",\"1:start:1\",\"1:end:1\",\"2:start:2\",\"2:end:2\",\"2:start:3\",\"2:end:3\"]\n",
    "# exp = [1,1,2]\n",
    "\n",
    "# n = 2\n",
    "# jobs = [\"0:start:0\",\"0:start:2\",\"0:end:5\",\"1:start:6\",\"1:end:6\",\"0:end:7\"]\n",
    "# exp = [7,1]\n",
    "\n",
    "n = 3\n",
    "jobs = [\"0:start:0\",\"0:end:5\",\"1:start:6\",\"1:end:6\",\"2:start:7\",\"2:end:9\",\"2:start:10\",\"2:end:13\"]\n",
    "exp =[6,1,7]"
   ]
  },
  {
   "cell_type": "code",
   "execution_count": 41,
   "metadata": {},
   "outputs": [],
   "source": [
    "obj = Solution()"
   ]
  },
  {
   "cell_type": "code",
   "execution_count": 42,
   "metadata": {},
   "outputs": [
    {
     "data": {
      "text/plain": [
       "[6, 1, 7]"
      ]
     },
     "execution_count": 42,
     "metadata": {},
     "output_type": "execute_result"
    }
   ],
   "source": [
    "obj.exclusiveTime(n, jobs)"
   ]
  },
  {
   "cell_type": "markdown",
   "metadata": {},
   "source": [
    "### Search in Rotated Sorted Array"
   ]
  },
  {
   "cell_type": "markdown",
   "metadata": {},
   "source": [
    "Suppose an array sorted in ascending order is rotated at some pivot unknown to you beforehand.\n",
    "\n",
    "(i.e., [0,1,2,4,5,6,7] might become [4,5,6,7,0,1,2]).\n",
    "\n",
    "You are given a target value to search. If found in the array return its index, otherwise return -1.\n",
    "\n",
    "You may assume no duplicate exists in the array.\n",
    "\n",
    "Your algorithm's runtime complexity must be in the order of O(log n).\n",
    "\n",
    "Example 1:\n",
    "\n",
    "Input: nums = [4,5,6,7,0,1,2], target = 0\n",
    "Output: 4\n",
    "Example 2:\n",
    "\n",
    "Input: nums = [4,5,6,7,0,1,2], target = 3\n",
    "Output: -1"
   ]
  },
  {
   "cell_type": "code",
   "execution_count": 66,
   "metadata": {},
   "outputs": [],
   "source": [
    "class Solution(object):\n",
    "    def search(self, nums, target):\n",
    "        \"\"\"\n",
    "        :type nums: List[int]\n",
    "        :type target: int\n",
    "        :rtype: int\n",
    "        \"\"\"\n",
    "        if nums == []:\n",
    "            return -1\n",
    "        \n",
    "        if len(nums)==1 and nums[0]!=target:\n",
    "            return -1\n",
    "        elif len(nums)==1 and nums[0]==target:\n",
    "            return 0\n",
    "            \n",
    "        split = self.get_split_pos(nums, 0, len(nums)-1)\n",
    "        #print(\"split \",split)\n",
    "        pos = self.binary_search(nums, 0, split, target)\n",
    "        if pos !=-1:\n",
    "            return pos\n",
    "        else:\n",
    "            return self.binary_search(nums, split+1, len(nums)-1, target)\n",
    "        \n",
    "    def binary_search(self, nums, low, high, target):\n",
    "        if low>high:\n",
    "            return -1\n",
    "        \n",
    "        mid = (low+high)//2\n",
    "        if nums[mid]==target:\n",
    "            return mid # got the key\n",
    "        elif nums[mid]<target:\n",
    "            return self.binary_search(nums, mid+1, high, target)\n",
    "        elif nums[mid]>target:\n",
    "            return self.binary_search(nums, low, mid-1, target)\n",
    "        \n",
    "        return -1\n",
    "             \n",
    "    def get_split_pos(self, nums, low, high):\n",
    "        #print(\"inside split\")\n",
    "        if low>high:\n",
    "            return -1\n",
    "        mid = (low+high)//2\n",
    "        #print(mid)\n",
    "        if nums[mid]>nums[mid+1]:\n",
    "            return mid # got the split point \n",
    "        else:\n",
    "            if low!=mid:\n",
    "                left = self.get_split_pos(nums, low, mid) \n",
    "                if left != -1:\n",
    "                    return left\n",
    "                else:\n",
    "                    if high!=mid+1:\n",
    "                        return self.get_split_pos(nums, mid+1, high)\n",
    "        return -1"
   ]
  },
  {
   "cell_type": "code",
   "execution_count": 67,
   "metadata": {},
   "outputs": [],
   "source": [
    "inp = [1,3, 5]\n",
    "target = 0"
   ]
  },
  {
   "cell_type": "code",
   "execution_count": 68,
   "metadata": {},
   "outputs": [],
   "source": [
    "obj = Solution()"
   ]
  },
  {
   "cell_type": "code",
   "execution_count": 69,
   "metadata": {},
   "outputs": [
    {
     "data": {
      "text/plain": [
       "-1"
      ]
     },
     "execution_count": 69,
     "metadata": {},
     "output_type": "execute_result"
    }
   ],
   "source": [
    "obj.search(inp, target)"
   ]
  },
  {
   "cell_type": "markdown",
   "metadata": {},
   "source": [
    "### Combination Sum"
   ]
  },
  {
   "cell_type": "markdown",
   "metadata": {},
   "source": [
    "Given a set of candidate numbers (candidates) (without duplicates) and a target number (target), find all unique combinations in candidates where the candidate numbers sums to target.\n",
    "\n",
    "The same repeated number may be chosen from candidates unlimited number of times.\n",
    "\n",
    "Note:\n",
    "\n",
    "All numbers (including target) will be positive integers.\n",
    "The solution set must not contain duplicate combinations.\n",
    "Example 1:\n",
    "\n",
    "Input: candidates = [2,3,6,7], target = 7,\n",
    "A solution set is:\n",
    "[\n",
    "  [7],\n",
    "  [2,2,3]\n",
    "]\n",
    "Example 2:\n",
    "\n",
    "Input: candidates = [2,3,5], target = 8,\n",
    "A solution set is:\n",
    "[\n",
    "  [2,2,2,2],\n",
    "  [2,3,3],\n",
    "  [3,5]\n",
    "]"
   ]
  },
  {
   "cell_type": "code",
   "execution_count": 70,
   "metadata": {},
   "outputs": [],
   "source": [
    "class Solution(object):\n",
    "    def combinationSum(self, candidates, target):\n",
    "        \"\"\"\n",
    "        :type candidates: List[int]\n",
    "        :type target: int\n",
    "        :rtype: List[List[int]]\n",
    "        \"\"\"\n",
    "        res = []\n",
    "        self.dfs(candidates, target, 0, [], res)\n",
    "        return res\n",
    "    \n",
    "    def dfs(self, nums, target, index, path, res):\n",
    "        if target < 0:\n",
    "            return \n",
    "        if target == 0:\n",
    "            res.append(path)\n",
    "            return \n",
    "        for i in range(index, len(nums)):\n",
    "            # print(i)\n",
    "            self.dfs(nums, target-nums[i], i, path+[nums[i]], res)"
   ]
  },
  {
   "cell_type": "markdown",
   "metadata": {},
   "source": [
    "### Permutations"
   ]
  },
  {
   "cell_type": "markdown",
   "metadata": {},
   "source": [
    "Given a collection of distinct integers, return all possible permutations.\n",
    "\n",
    "Example:\n",
    "\n",
    "Input: [1,2,3]\n",
    "Output:\n",
    "[\n",
    "  [1,2,3],\n",
    "  [1,3,2],\n",
    "  [2,1,3],\n",
    "  [2,3,1],\n",
    "  [3,1,2],\n",
    "  [3,2,1]\n",
    "]"
   ]
  },
  {
   "cell_type": "code",
   "execution_count": 72,
   "metadata": {},
   "outputs": [],
   "source": [
    "class Solution(object):\n",
    "    def permute(self, nums):\n",
    "        \"\"\"\n",
    "        :type nums: List[int]\n",
    "        :rtype: List[List[int]]\n",
    "        \"\"\"\n",
    "        \n",
    "        ans = []\n",
    "        self.backtrack(nums, 0, [], ans)\n",
    "        return ans\n",
    "        \n",
    "        \n",
    "    def backtrack(self, nums, index, path, ans):\n",
    "        if index == len(nums):\n",
    "            ans.append(path)\n",
    "            return\n",
    "        \n",
    "        for i in range(len(nums)):\n",
    "            if nums[i] not in path:\n",
    "                self.backtrack(nums, index+1, path+[nums[i]], ans)       "
   ]
  },
  {
   "cell_type": "markdown",
   "metadata": {},
   "source": [
    "### Maximum Subarray"
   ]
  },
  {
   "cell_type": "markdown",
   "metadata": {},
   "source": [
    "Given an integer array nums, find the contiguous subarray (containing at least one number) which has the largest sum and return its sum.\n",
    "\n",
    "Example:\n",
    "\n",
    "Input: [-2,1,-3,4,-1,2,1,-5,4],\n",
    "Output: 6\n",
    "Explanation: [4,-1,2,1] has the largest sum = 6."
   ]
  },
  {
   "cell_type": "code",
   "execution_count": 73,
   "metadata": {},
   "outputs": [],
   "source": [
    "class Solution(object):\n",
    "    def maxSubArray(self, nums):\n",
    "        \"\"\"\n",
    "        :type nums: List[int]\n",
    "        :rtype: int\n",
    "        \"\"\"\n",
    "        mx = nums[0]\n",
    "        for i in range(1, len(nums)):\n",
    "            if nums[i-1] > 0:\n",
    "                nums[i] += nums[i-1]\n",
    "            if mx < nums[i]:\n",
    "                mx = nums[i]\n",
    "        \n",
    "        return mx"
   ]
  },
  {
   "cell_type": "markdown",
   "metadata": {},
   "source": [
    "### Edit Distance"
   ]
  },
  {
   "cell_type": "markdown",
   "metadata": {},
   "source": [
    "Given two words word1 and word2, find the minimum number of operations required to convert word1 to word2.\n",
    "\n",
    "You have the following 3 operations permitted on a word:\n",
    "\n",
    "Insert a character\n",
    "Delete a character\n",
    "Replace a character\n",
    "Example 1:\n",
    "\n",
    "Input: word1 = \"horse\", word2 = \"ros\"\n",
    "Output: 3\n",
    "Explanation: \n",
    "horse -> rorse (replace 'h' with 'r')\n",
    "rorse -> rose (remove 'r')\n",
    "rose -> ros (remove 'e')\n",
    "Example 2:\n",
    "\n",
    "Input: word1 = \"intention\", word2 = \"execution\"\n",
    "Output: 5\n",
    "Explanation: \n",
    "intention -> inention (remove 't')\n",
    "inention -> enention (replace 'i' with 'e')\n",
    "enention -> exention (replace 'n' with 'x')\n",
    "exention -> exection (replace 'n' with 'c')\n",
    "exection -> execution (insert 'u')"
   ]
  },
  {
   "cell_type": "markdown",
   "metadata": {},
   "source": [
    "**Very tough problem** - New algorithm for getting word distances"
   ]
  },
  {
   "cell_type": "code",
   "execution_count": 122,
   "metadata": {},
   "outputs": [],
   "source": [
    "class Solution(object):\n",
    "    def minDistance(self, word1, word2):\n",
    "        \"\"\"\n",
    "        :type word1: str\n",
    "        :type word2: str\n",
    "        :rtype: int\n",
    "        \"\"\"\n",
    "        n = len(word1)\n",
    "        m = len(word2)\n",
    "        \n",
    "        if n == 0:\n",
    "            return m\n",
    "        if m == 0:\n",
    "            return n\n",
    "        \n",
    "        # create a matrix of shape n+1, m+1\n",
    "        D = [[0]*(m+1) for a in range(n+1)]\n",
    "        \n",
    "        # populate 1st column \n",
    "        for i in range(n+1):\n",
    "            D[i][0] = i\n",
    "        # populate 1st row\n",
    "        for j in range(m+1):\n",
    "            D[0][j] = j    \n",
    "        \n",
    "        for i in range(1, n+1):\n",
    "            for j in range(1, m+1):\n",
    "                k = 1\n",
    "                if word1[i-1]!=word2[j-1]:\n",
    "                    k = 0\n",
    "                D[i][j] = 1 + min(D[i-1][j], D[i][j-1], D[i-1][j-1]-k)\n",
    "                \n",
    "        return D[n][m]"
   ]
  },
  {
   "cell_type": "code",
   "execution_count": 123,
   "metadata": {},
   "outputs": [],
   "source": [
    "obj = Solution()"
   ]
  },
  {
   "cell_type": "code",
   "execution_count": 124,
   "metadata": {},
   "outputs": [],
   "source": [
    "word1 = \"horse\"\n",
    "word2 = \"ros\""
   ]
  },
  {
   "cell_type": "code",
   "execution_count": 125,
   "metadata": {},
   "outputs": [
    {
     "data": {
      "text/plain": [
       "3"
      ]
     },
     "execution_count": 125,
     "metadata": {},
     "output_type": "execute_result"
    }
   ],
   "source": [
    "obj.minDistance(word1, word2)"
   ]
  },
  {
   "cell_type": "markdown",
   "metadata": {},
   "source": [
    "### Maximum Product Subarray"
   ]
  },
  {
   "cell_type": "markdown",
   "metadata": {},
   "source": [
    "Given an integer array nums, find the contiguous subarray within an array (containing at least one number) which has the largest product.\n",
    "\n",
    "Example 1:\n",
    "\n",
    "Input: [2,3,-2,4]\n",
    "Output: 6\n",
    "Explanation: [2,3] has the largest product 6.\n",
    "Example 2:\n",
    "\n",
    "Input: [-2,0,-1]\n",
    "Output: 0\n",
    "Explanation: The result cannot be 2, because [-2,-1] is not a subarray."
   ]
  },
  {
   "cell_type": "code",
   "execution_count": 170,
   "metadata": {},
   "outputs": [],
   "source": [
    "class Solution(object):\n",
    "    def maxProduct(self, nums):\n",
    "        \"\"\"\n",
    "        :type nums: List[int]\n",
    "        :rtype: int\n",
    "        \"\"\"\n",
    "        \n",
    "        if len(nums)==1:\n",
    "            return nums[0]\n",
    "        \n",
    "        A = nums\n",
    "        B = A[::-1]\n",
    "        mx = A[0] if A[0]>B[0] else B[0]\n",
    "        for i in range(1, len(A)):\n",
    "            A[i] *= A[i - 1] or 1\n",
    "            B[i] *= B[i - 1] or 1\n",
    "            if A[i]>=B[i] and A[i]>mx:\n",
    "                mx = A[i]\n",
    "            elif B[i] > A[i] and B[i] > mx:\n",
    "                mx = B[i]\n",
    "            \n",
    "        return mx      \n",
    "        "
   ]
  },
  {
   "cell_type": "code",
   "execution_count": 171,
   "metadata": {},
   "outputs": [],
   "source": [
    "obj = Solution()"
   ]
  },
  {
   "cell_type": "code",
   "execution_count": 172,
   "metadata": {},
   "outputs": [],
   "source": [
    "inp = [3,-1,4]"
   ]
  },
  {
   "cell_type": "code",
   "execution_count": 173,
   "metadata": {},
   "outputs": [
    {
     "data": {
      "text/plain": [
       "4"
      ]
     },
     "execution_count": 173,
     "metadata": {},
     "output_type": "execute_result"
    }
   ],
   "source": [
    "obj.maxProduct(inp)"
   ]
  },
  {
   "cell_type": "markdown",
   "metadata": {},
   "source": [
    "### Paint House"
   ]
  },
  {
   "cell_type": "markdown",
   "metadata": {},
   "source": [
    "There are a row of n houses, each house can be painted with one of the three colors: red, blue or green. The cost of painting each house with a certain color is different. You have to paint all the houses such that no two adjacent houses have the same color.\n",
    "\n",
    "The cost of painting each house with a certain color is represented by a n x 3 cost matrix. For example, costs[0][0] is the cost of painting house 0 with color red; costs[1][2] is the cost of painting house 1 with color green, and so on... Find the minimum cost to paint all houses.\n",
    "\n",
    "Note:\n",
    "All costs are positive integers.\n",
    "\n",
    "Example:\n",
    "\n",
    "Input: [[17,2,17],[16,16,5],[14,3,19]]\n",
    "Output: 10\n",
    "Explanation: Paint house 0 into blue, paint house 1 into green, paint house 2 into blue. \n",
    "             Minimum cost: 2 + 5 + 3 = 10."
   ]
  },
  {
   "cell_type": "code",
   "execution_count": 225,
   "metadata": {},
   "outputs": [],
   "source": [
    "# incomplete\n",
    "class Solution(object):\n",
    "    def minCost(self, costs):\n",
    "        \"\"\"\n",
    "        :type costs: List[List[int]]\n",
    "        :rtype: int\n",
    "        \"\"\"\n",
    "        if costs == []:\n",
    "            return 0\n",
    "        \n",
    "        value = 0\n",
    "        color = len(costs[0])+1\n",
    "        \n",
    "        for i in range(len(costs)):\n",
    "            print(\"i \", i)\n",
    "            mn = 1e10\n",
    "            for j in range(0,len(costs[0])):\n",
    "                print(\"j \", j)\n",
    "                if mn > costs[i][j] and color!=j:\n",
    "                    mn = costs[i][j]\n",
    "                    color = j\n",
    "            value += mn\n",
    "            print(\"min is \", mn)\n",
    "            print(\"color is\", color)\n",
    "                \n",
    "                \n",
    "        print(value)\n",
    "        return value"
   ]
  },
  {
   "cell_type": "code",
   "execution_count": 226,
   "metadata": {},
   "outputs": [],
   "source": [
    "obj = Solution()"
   ]
  },
  {
   "cell_type": "code",
   "execution_count": 229,
   "metadata": {},
   "outputs": [],
   "source": [
    "inp = [[5,8,6],[19,14,13],[7,5,12],[14,15,17],[3,20,10]]"
   ]
  },
  {
   "cell_type": "code",
   "execution_count": 230,
   "metadata": {},
   "outputs": [
    {
     "name": "stdout",
     "output_type": "stream",
     "text": [
      "i  0\n",
      "j  0\n",
      "j  1\n",
      "j  2\n",
      "min is  5\n",
      "color is 0\n",
      "i  1\n",
      "j  0\n",
      "j  1\n",
      "j  2\n",
      "min is  13\n",
      "color is 2\n",
      "i  2\n",
      "j  0\n",
      "j  1\n",
      "j  2\n",
      "min is  5\n",
      "color is 1\n",
      "i  3\n",
      "j  0\n",
      "j  1\n",
      "j  2\n",
      "min is  14\n",
      "color is 0\n",
      "i  4\n",
      "j  0\n",
      "j  1\n",
      "j  2\n",
      "min is  10\n",
      "color is 2\n",
      "47\n"
     ]
    },
    {
     "data": {
      "text/plain": [
       "47"
      ]
     },
     "execution_count": 230,
     "metadata": {},
     "output_type": "execute_result"
    }
   ],
   "source": [
    "obj.minCost(inp)"
   ]
  },
  {
   "cell_type": "markdown",
   "metadata": {},
   "source": [
    "### Binary Tree Upside Down"
   ]
  },
  {
   "cell_type": "markdown",
   "metadata": {},
   "source": [
    "Given a binary tree where all the right nodes are either leaf nodes with a sibling (a left node that shares the same parent node) or empty, flip it upside down and turn it into a tree where the original right nodes turned into left leaf nodes. Return the new root.\n",
    "\n",
    "Example:\n",
    "\n",
    "Input: [1,2,3,4,5]\n",
    "\n",
    "    1\n",
    "   / \\\n",
    "  2   3\n",
    " / \\\n",
    "4   5\n",
    "\n",
    "Output: return the root of the binary tree [4,5,2,#,#,3,1]\n",
    "\n",
    "   4\n",
    "  / \\\n",
    " 5   2\n",
    "    / \\\n",
    "   3   1  "
   ]
  },
  {
   "cell_type": "code",
   "execution_count": null,
   "metadata": {},
   "outputs": [],
   "source": [
    "# Definition for a binary tree node.\n",
    "# class TreeNode(object):\n",
    "#     def __init__(self, x):\n",
    "#         self.val = x\n",
    "#         self.left = None\n",
    "#         self.right = None\n",
    "\n",
    "class Solution(object):\n",
    "    def upsideDownBinaryTree(self, root):\n",
    "        \"\"\"\n",
    "        :type root: TreeNode\n",
    "        :rtype: TreeNode\n",
    "        \"\"\"\n",
    "        if root is None or root.left is None :\n",
    "            return root\n",
    "        \n",
    "        if root.left:\n",
    "            left = self.upsideDownBinaryTree(root.left)\n",
    "        \n",
    "        root.left.left = root.right\n",
    "        root.left.right = root\n",
    "        root.left = None\n",
    "        root.right = None\n",
    "        \n",
    "        return left"
   ]
  },
  {
   "cell_type": "code",
   "execution_count": null,
   "metadata": {},
   "outputs": [],
   "source": []
  },
  {
   "cell_type": "code",
   "execution_count": 234,
   "metadata": {},
   "outputs": [
    {
     "data": {
      "text/plain": [
       "True"
      ]
     },
     "execution_count": 234,
     "metadata": {},
     "output_type": "execute_result"
    }
   ],
   "source": [
    "\"harry\" in \"harry sh ab\".lower()"
   ]
  },
  {
   "cell_type": "code",
   "execution_count": null,
   "metadata": {},
   "outputs": [],
   "source": []
  },
  {
   "cell_type": "code",
   "execution_count": null,
   "metadata": {},
   "outputs": [],
   "source": []
  },
  {
   "cell_type": "code",
   "execution_count": 236,
   "metadata": {},
   "outputs": [],
   "source": [
    "topics = {\n",
    "\n",
    "    \"Price\": [\"cheap\", \"expensive\", \"price\"],\n",
    "    \"Business specialties\": [\"gnome\", \"gnomes\"],\n",
    "    \"Harry Shrub\": [\"harry shrub\"]\n",
    "}\n",
    "\n",
    "reviews=[\n",
    "    \"Harry Shrub did a great job with my garden, but I expected more gnomes for the price.\",\n",
    "    \"I love my new gnomes, they are so cute! My dog loves them too! Thanks Harry!\",\n",
    "    \"Very expensive at fifty dollars per gnome. Next time I'll buy from Cheap Gnomes Warehouse.\"\n",
    "]"
   ]
  },
  {
   "cell_type": "code",
   "execution_count": 274,
   "metadata": {},
   "outputs": [
    {
     "name": "stdout",
     "output_type": "stream",
     "text": [
      "{'Price': 2, 'Business specialties': 3, 'Harry Shrub': 1}\n"
     ]
    }
   ],
   "source": [
    "d = dict()\n",
    "for key in topics.keys():\n",
    "    li = topics[key]\n",
    "    ans = [0]*len(reviews)\n",
    "    for word in li:\n",
    "        for i,r in enumerate(reviews):\n",
    "            if word.lower() in r.lower():\n",
    "                ans[i] = 1\n",
    "            d[key] = sum(ans)\n",
    "print(d)"
   ]
  },
  {
   "cell_type": "code",
   "execution_count": null,
   "metadata": {},
   "outputs": [],
   "source": []
  },
  {
   "cell_type": "code",
   "execution_count": null,
   "metadata": {},
   "outputs": [],
   "source": []
  }
 ],
 "metadata": {
  "kernelspec": {
   "display_name": "Python 3",
   "language": "python",
   "name": "python3"
  },
  "language_info": {
   "codemirror_mode": {
    "name": "ipython",
    "version": 3
   },
   "file_extension": ".py",
   "mimetype": "text/x-python",
   "name": "python",
   "nbconvert_exporter": "python",
   "pygments_lexer": "ipython3",
   "version": "3.6.8"
  }
 },
 "nbformat": 4,
 "nbformat_minor": 2
}
