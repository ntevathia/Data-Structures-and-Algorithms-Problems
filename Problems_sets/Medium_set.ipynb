{
 "cells": [
  {
   "cell_type": "markdown",
   "metadata": {},
   "source": [
    "### 1. Count Univalue Subtrees"
   ]
  },
  {
   "cell_type": "markdown",
   "metadata": {},
   "source": [
    "Given a binary tree, count the number of uni-value subtrees.\n",
    "\n",
    "A Uni-value subtree means all nodes of the subtree have the same value.\n",
    "\n",
    "Example :\n",
    "\n",
    "Input:  root = [5,1,5,5,5,null,5]\n",
    "\n",
    "              5\n",
    "             / \\\n",
    "            1   5\n",
    "           / \\   \\\n",
    "          5   5   5\n",
    "\n",
    "Output: 4"
   ]
  },
  {
   "cell_type": "code",
   "execution_count": 1,
   "metadata": {},
   "outputs": [],
   "source": [
    "# Definition for a binary tree node.\n",
    "# class TreeNode(object):\n",
    "#     def __init__(self, x):\n",
    "#         self.val = x\n",
    "#         self.left = None\n",
    "#         self.right = None\n",
    "\n",
    "class Solution(object):\n",
    "    def countUnivalSubtrees(self, root):\n",
    "        \"\"\"\n",
    "        :type root: TreeNode\n",
    "        :rtype: int\n",
    "        \"\"\"\n",
    "        self.count = 0\n",
    "        self.dfs(root, -1)\n",
    "        return self.count\n",
    "        \n",
    "    def dfs(self, root, value):\n",
    "        if root is None:\n",
    "            return True\n",
    "        \n",
    "        if not all([self.dfs(root.left, root.val), self.dfs(root.right, root.val)]):\n",
    "            return False\n",
    "        \n",
    "        self.count+=1\n",
    "        return root.val == value\n",
    "        "
   ]
  },
  {
   "cell_type": "markdown",
   "metadata": {},
   "source": [
    "### 2. Group Shifted Strings"
   ]
  },
  {
   "cell_type": "markdown",
   "metadata": {},
   "source": [
    "Given a string, we can \"shift\" each of its letter to its successive letter, for example: \"abc\" -> \"bcd\". We can keep \"shifting\" which forms the sequence:\n",
    "\n",
    "\"abc\" -> \"bcd\" -> ... -> \"xyz\"\n",
    "Given a list of strings which contains only lowercase alphabets, group all strings that belong to the same shifting sequence.\n",
    "\n",
    "Example:\n",
    "\n",
    "Input: [\"abc\", \"bcd\", \"acef\", \"xyz\", \"az\", \"ba\", \"a\", \"z\"],\n",
    "Output: \n",
    "[\n",
    "  [\"abc\",\"bcd\",\"xyz\"],\n",
    "  [\"az\",\"ba\"],\n",
    "  [\"acef\"],\n",
    "  [\"a\",\"z\"]\n",
    "]"
   ]
  },
  {
   "cell_type": "code",
   "execution_count": 20,
   "metadata": {},
   "outputs": [],
   "source": [
    "class Solution(object):\n",
    "    def groupStrings(self, strings):\n",
    "        \"\"\"\n",
    "        :type strings: List[str]\n",
    "        :rtype: List[List[str]]\n",
    "        \"\"\"\n",
    "        alpha = 'abcdefghijklmnopqrstuvwxyz'\n",
    "        d = {al:i for i,al in enumerate(alpha)}\n",
    "        \n",
    "        ans = dict()\n",
    "        for al in strings:\n",
    "            arr = []    \n",
    "            pos = d[al[0]]\n",
    "            for char in al:\n",
    "                arr.append((d[char]-pos)%26)\n",
    "            if tuple(arr) not in ans.keys():\n",
    "                ans[tuple(arr)] = [al]\n",
    "            else:\n",
    "                ans[tuple(arr)].append(al)\n",
    "        return list(ans.values())"
   ]
  },
  {
   "cell_type": "code",
   "execution_count": 21,
   "metadata": {},
   "outputs": [],
   "source": [
    "Input= [\"abc\", \"bcd\", \"acef\", \"xyz\", \"az\", \"ba\", \"a\", \"z\"]\n",
    "obj = Solution()"
   ]
  },
  {
   "cell_type": "code",
   "execution_count": 22,
   "metadata": {},
   "outputs": [
    {
     "data": {
      "text/plain": [
       "[['abc', 'bcd', 'xyz'], ['acef'], ['az', 'ba'], ['a', 'z']]"
      ]
     },
     "execution_count": 22,
     "metadata": {},
     "output_type": "execute_result"
    }
   ],
   "source": [
    "obj.groupStrings(Input)"
   ]
  },
  {
   "cell_type": "markdown",
   "metadata": {},
   "source": [
    "### 3. Hand of Straights"
   ]
  },
  {
   "cell_type": "markdown",
   "metadata": {},
   "source": [
    "Alice has a hand of cards, given as an array of integers.\n",
    "\n",
    "Now she wants to rearrange the cards into groups so that each group is size W, and consists of W consecutive cards.\n",
    "\n",
    "Return true if and only if she can.\n",
    "\n",
    " \n",
    "\n",
    "Example 1:\n",
    "\n",
    "Input: hand = [1,2,3,6,2,3,4,7,8], W = 3\n",
    "Output: true\n",
    "Explanation: Alice's hand can be rearranged as [1,2,3],[2,3,4],[6,7,8].\n",
    "Example 2:\n",
    "\n",
    "Input: hand = [1,2,3,4,5], W = 4\n",
    "Output: false\n",
    "Explanation: Alice's hand can't be rearranged into groups of 4."
   ]
  },
  {
   "cell_type": "code",
   "execution_count": 24,
   "metadata": {},
   "outputs": [],
   "source": [
    "class Solution(object):\n",
    "    def isNStraightHand(self, hand, W):\n",
    "        \"\"\"\n",
    "        :type hand: List[int]\n",
    "        :type W: int\n",
    "        :rtype: bool\n",
    "        \"\"\"\n",
    "        if len(hand)%W!=0:\n",
    "            return False    \n",
    "            \n",
    "        hand.sort()\n",
    "        while hand:\n",
    "            elm = hand[0]\n",
    "            for i in range(W):\n",
    "                if elm+i in hand:\n",
    "                    hand.remove(elm+i)\n",
    "                else:\n",
    "                    return False\n",
    "        return True\n",
    "    "
   ]
  },
  {
   "cell_type": "markdown",
   "metadata": {},
   "source": [
    "### 4. Minimum Area Rectangle"
   ]
  },
  {
   "cell_type": "markdown",
   "metadata": {},
   "source": [
    "Given a set of points in the xy-plane, determine the minimum area of a rectangle formed from these points, with sides parallel to the x and y axes.\n",
    "\n",
    "If there isn't any rectangle, return 0.\n",
    "\n",
    " \n",
    "\n",
    "Example 1:\n",
    "\n",
    "Input: [[1,1],[1,3],[3,1],[3,3],[2,2]]\n",
    "Output: 4\n",
    "Example 2:\n",
    "\n",
    "Input: [[1,1],[1,3],[3,1],[3,3],[4,1],[4,3]]\n",
    "Output: 2"
   ]
  },
  {
   "cell_type": "code",
   "execution_count": 25,
   "metadata": {},
   "outputs": [],
   "source": [
    "class Solution(object):\n",
    "    def minAreaRect(self, points):\n",
    "        \"\"\"\n",
    "        :type points: List[List[int]]\n",
    "        :rtype: int\n",
    "        \"\"\"\n",
    "        seen = set()\n",
    "        val = points[0]\n",
    "        seen.add((val[0],val[1]))\n",
    "        mn = float('inf')\n",
    "        \n",
    "        for x1, y1 in points[1:]:\n",
    "            for x2, y2 in seen:\n",
    "                if (x1, y2) in seen and (x2, y1) in seen:\n",
    "                    area = abs(x1 - x2) * abs(y1 - y2) # area of ractangle formed by x1,y1 and x2,y2\n",
    "                    if area < mn:\n",
    "                        mn = area\n",
    "            seen.add((x1, y1))\n",
    "        return mn if mn < float('inf') else 0"
   ]
  },
  {
   "cell_type": "markdown",
   "metadata": {},
   "source": [
    "### 5. Inorder Successor in BST II"
   ]
  },
  {
   "cell_type": "markdown",
   "metadata": {},
   "source": [
    "Given a binary search tree and a node in it, find the in-order successor of that node in the BST.\n",
    "\n",
    "The successor of a node p is the node with the smallest key greater than p.val.\n",
    "\n",
    "You will have direct access to the node but not to the root of the tree. Each node will have a reference to its parent node.\n",
    "\n",
    " \n",
    "\n",
    "Example 1:\n",
    "\n",
    "\n",
    "Input: \n",
    "root = {\"$id\":\"1\",\"left\":{\"$id\":\"2\",\"left\":null,\"parent\":{\"$ref\":\"1\"},\"right\":null,\"val\":1},\"parent\":null,\"right\":{\"$id\":\"3\",\"left\":null,\"parent\":{\"$ref\":\"1\"},\"right\":null,\"val\":3},\"val\":2}\n",
    "p = 1\n",
    "Output: 2\n",
    "Explanation: 1's in-order successor node is 2. Note that both p and the return value is of Node type.\n",
    "Example 2:\n",
    "\n",
    "\n",
    "Input: \n",
    "root = {\"$id\":\"1\",\"left\":{\"$id\":\"2\",\"left\":{\"$id\":\"3\",\"left\":{\"$id\":\"4\",\"left\":null,\"parent\":{\"$ref\":\"3\"},\"right\":null,\"val\":1},\"parent\":{\"$ref\":\"2\"},\"right\":null,\"val\":2},\"parent\":{\"$ref\":\"1\"},\"right\":{\"$id\":\"5\",\"left\":null,\"parent\":{\"$ref\":\"2\"},\"right\":null,\"val\":4},\"val\":3},\"parent\":null,\"right\":{\"$id\":\"6\",\"left\":null,\"parent\":{\"$ref\":\"1\"},\"right\":null,\"val\":6},\"val\":5}\n",
    "p = 6\n",
    "Output: null\n",
    "Explanation: There is no in-order successor of the current node, so the answer is null.\n"
   ]
  },
  {
   "cell_type": "code",
   "execution_count": 26,
   "metadata": {},
   "outputs": [],
   "source": [
    "\"\"\"\n",
    "# Definition for a Node.\n",
    "class Node(object):\n",
    "    def __init__(self, val, left, right, parent):\n",
    "        self.val = val\n",
    "        self.left = left\n",
    "        self.right = right\n",
    "        self.parent = parent\n",
    "\"\"\"\n",
    "class Solution(object):\n",
    "    def inorderSuccessor(self, node):\n",
    "        \"\"\"\n",
    "        :type node: Node\n",
    "        :rtype: Node\n",
    "        \"\"\"\n",
    "        # if node right exists we need to go right -> left to get the smallest in right subtree\n",
    "        if node.right:\n",
    "            node = node.right\n",
    "            while node.left:\n",
    "                node = node.left\n",
    "            return node\n",
    "        \n",
    "        # if node is the leaf we need to traverse up to the parent\n",
    "        while node.parent and node.parent.left != node:\n",
    "            node = node.parent\n",
    "        return node.parent"
   ]
  },
  {
   "cell_type": "markdown",
   "metadata": {},
   "source": [
    "### 6. Split BST"
   ]
  },
  {
   "cell_type": "markdown",
   "metadata": {},
   "source": [
    "Given a Binary Search Tree (BST) with root node root, and a target value V, split the tree into two subtrees where one subtree has nodes that are all smaller or equal to the target value, while the other subtree has all nodes that are greater than the target value.  It's not necessarily the case that the tree contains a node with value V.\n",
    "\n",
    "Additionally, most of the structure of the original tree should remain.  Formally, for any child C with parent P in the original tree, if they are both in the same subtree after the split, then node C should still have the parent P.\n",
    "\n",
    "You should output the root TreeNode of both subtrees after splitting, in any order.\n",
    "\n",
    "Example 1:\n",
    "\n",
    "Input: root = [4,2,6,1,3,5,7], V = 2\n",
    "Output: [[2,1],[4,3,6,null,null,5,7]]\n",
    "Explanation:\n",
    "Note that root, output[0], and output[1] are TreeNode objects, not arrays.\n",
    "\n",
    "The given tree [4,2,6,1,3,5,7] is represented by the following diagram:\n",
    "\n",
    "          4\n",
    "        /   \\\n",
    "      2      6\n",
    "     / \\    / \\\n",
    "    1   3  5   7\n",
    "\n",
    "while the diagrams for the outputs are:\n",
    "\n",
    "          4\n",
    "        /   \\\n",
    "      3      6      and    2\n",
    "            / \\           /\n",
    "           5   7         1"
   ]
  },
  {
   "cell_type": "code",
   "execution_count": 27,
   "metadata": {},
   "outputs": [],
   "source": [
    "# Definition for a binary tree node.\n",
    "# class TreeNode(object):\n",
    "#     def __init__(self, x):\n",
    "#         self.val = x\n",
    "#         self.left = None\n",
    "#         self.right = None\n",
    "\n",
    "class Solution(object):\n",
    "    def splitBST(self, root, V):\n",
    "        \"\"\"\n",
    "        :type root: TreeNode\n",
    "        :type V: int\n",
    "        :rtype: List[TreeNode]\n",
    "        \"\"\"\n",
    "        if root is None:\n",
    "            return None, None\n",
    "        \n",
    "        if root.val <= V:\n",
    "            right = self.splitBST(root.right, V)\n",
    "            root.right = right[0]\n",
    "            return root, right[1]\n",
    "            \n",
    "        else:   \n",
    "            left = self.splitBST(root.left, V)\n",
    "            root.left = left[1]\n",
    "            return left[0], root\n",
    "\n",
    "# tough"
   ]
  },
  {
   "cell_type": "markdown",
   "metadata": {},
   "source": [
    "### 7. Plus One Linked List"
   ]
  },
  {
   "cell_type": "markdown",
   "metadata": {},
   "source": [
    "Given a non-negative integer represented as non-empty a singly linked list of digits, plus one to the integer.\n",
    "\n",
    "You may assume the integer do not contain any leading zero, except the number 0 itself.\n",
    "\n",
    "The digits are stored such that the most significant digit is at the head of the list.\n",
    "\n",
    "Example :\n",
    "\n",
    "Input: [1,2,3]\n",
    "Output: [1,2,4]\n"
   ]
  },
  {
   "cell_type": "code",
   "execution_count": 29,
   "metadata": {},
   "outputs": [],
   "source": [
    "# Definition for singly-linked list.\n",
    "# class ListNode(object):\n",
    "#     def __init__(self, x):\n",
    "#         self.val = x\n",
    "#         self.next = None\n",
    "\n",
    "class Solution(object):\n",
    "    def plusOne(self, head):\n",
    "        \"\"\"\n",
    "        :type head: ListNode\n",
    "        :rtype: ListNode\n",
    "        \"\"\"\n",
    "        if head is None:\n",
    "            return 1\n",
    "        \n",
    "        else:\n",
    "            start = head\n",
    "            last = None\n",
    "            flag = True\n",
    "            while flag == True:\n",
    "                \n",
    "                if start == last and last.val == 0:\n",
    "                    node = ListNode(1)\n",
    "                    node.next = head\n",
    "                    return node\n",
    "                \n",
    "                cur = head\n",
    "                while cur.next != last:\n",
    "                    cur = cur.next\n",
    "                \n",
    "                last = cur\n",
    "                # if no carry, return the head after adding 1 at end\n",
    "                if cur.val<9:\n",
    "                    cur.val += 1\n",
    "                    return head\n",
    "                \n",
    "                # when number is 9\n",
    "                if cur.val == 9:\n",
    "                    cur.val = 0\n",
    "                    continue\n"
   ]
  },
  {
   "cell_type": "markdown",
   "metadata": {},
   "source": [
    "### 8. Design Log Storage System"
   ]
  },
  {
   "cell_type": "markdown",
   "metadata": {},
   "source": [
    "You are given several logs that each log contains a unique id and timestamp. Timestamp is a string that has the following format: Year:Month:Day:Hour:Minute:Second, for example, 2017:01:01:23:59:59. All domains are zero-padded decimal numbers.\n",
    "\n",
    "Design a log storage system to implement the following functions:\n",
    "\n",
    "void Put(int id, string timestamp): Given a log's unique id and timestamp, store the log in your storage system.\n",
    "\n",
    "\n",
    "int[] Retrieve(String start, String end, String granularity): Return the id of logs whose timestamps are within the range from start to end. Start and end all have the same format as timestamp. However, granularity means the time level for consideration. For example, start = \"2017:01:01:23:59:59\", end = \"2017:01:02:23:59:59\", granularity = \"Day\", it means that we need to find the logs within the range from Jan. 1st 2017 to Jan. 2nd 2017.\n",
    "\n",
    "Example 1:\n",
    "put(1, \"2017:01:01:23:59:59\");\n",
    "put(2, \"2017:01:01:22:59:59\");\n",
    "put(3, \"2016:01:01:00:00:00\");\n",
    "retrieve(\"2016:01:01:01:01:01\",\"2017:01:01:23:00:00\",\"Year\"); // return [1,2,3], because you need to return all logs within 2016 and 2017.\n",
    "retrieve(\"2016:01:01:01:01:01\",\"2017:01:01:23:00:00\",\"Hour\"); // return [1,2], because you need to return all logs start from 2016:01:01:01 to 2017:01:01:23, where log 3 is left outside the range.\n"
   ]
  },
  {
   "cell_type": "code",
   "execution_count": 30,
   "metadata": {},
   "outputs": [],
   "source": [
    "class LogSystem(object):\n",
    "\n",
    "    def __init__(self):\n",
    "        self.logs = dict()\n",
    "\n",
    "    def put(self, id, timestamp):\n",
    "        \"\"\"\n",
    "        :type id: int\n",
    "        :type timestamp: str\n",
    "        :rtype: None\n",
    "        \"\"\"\n",
    "        self.logs[id] = timestamp\n",
    "\n",
    "    def retrieve(self, s, e, gra):\n",
    "        \"\"\"\n",
    "        :type s: str\n",
    "        :type e: str\n",
    "        :type gra: str\n",
    "        :rtype: List[int]\n",
    "        \"\"\"        \n",
    "        if gra == \"Year\":\n",
    "            index = 4\n",
    "            start = s[:4]\n",
    "            end = e[:4]\n",
    "        elif gra == \"Month\":\n",
    "            index = 7\n",
    "            start = s[:7]\n",
    "            end = e[:7]\n",
    "        elif gra == \"Day\":\n",
    "            index = 10\n",
    "            start = s[:10]\n",
    "            end = e[:10]\n",
    "        elif gra == \"Hour\":\n",
    "            index = 13\n",
    "            start = s[:13]\n",
    "            end = e[:13]\n",
    "        elif gra == \"Minute\":\n",
    "            index = 16\n",
    "            start = s[:16]\n",
    "            end = e[:16]\n",
    "        elif gra == \"Second\":\n",
    "            index = 19\n",
    "            start = s[:19]\n",
    "            end = e[:19]\n",
    "        \n",
    "        \n",
    "        ans = []\n",
    "        for key in self.logs.keys():\n",
    "            ts = self.logs[key]\n",
    "            if start<= ts[:index] <=end:\n",
    "                ans.append(key)\n",
    "        \n",
    "        ans.sort()\n",
    "        return ans\n",
    "\n",
    "        \n",
    "# Your LogSystem object will be instantiated and called as such:\n",
    "# obj = LogSystem()\n",
    "# obj.put(id,timestamp)\n",
    "# param_2 = obj.retrieve(s,e,gra)"
   ]
  },
  {
   "cell_type": "markdown",
   "metadata": {},
   "source": [
    "### 9. Most Stones Removed with Same Row or Column"
   ]
  },
  {
   "cell_type": "markdown",
   "metadata": {},
   "source": [
    "On a 2D plane, we place stones at some integer coordinate points.  Each coordinate point may have at most one stone.\n",
    "\n",
    "Now, a move consists of removing a stone that shares a column or row with another stone on the grid.\n",
    "\n",
    "What is the largest possible number of moves we can make?\n",
    "\n",
    " \n",
    "\n",
    "Example 1:\n",
    "\n",
    "Input: stones = [[0,0],[0,1],[1,0],[1,2],[2,1],[2,2]]\n",
    "Output: 5\n",
    "Example 2:\n",
    "\n",
    "Input: stones = [[0,0],[0,2],[1,1],[2,0],[2,2]]\n",
    "Output: 3"
   ]
  },
  {
   "cell_type": "code",
   "execution_count": 53,
   "metadata": {},
   "outputs": [],
   "source": [
    "class Solution(object):\n",
    "    def removeStones(self, stones):\n",
    "        \"\"\"\n",
    "        :type stones: List[List[int]]\n",
    "        :rtype: int\n",
    "        \"\"\"\n",
    "        \n",
    "        count = 0\n",
    "        for i, x in enumerate(stones):\n",
    "            x1, y1 = x[0], x[1]\n",
    "            for j in range(i+1, len(stones)):\n",
    "                x2, y2 = stones[j]\n",
    "                if abs(x1-x2)*(abs(y1-y2))==0:\n",
    "                    print(x1, y1)\n",
    "                    print(x2, y2)\n",
    "                    count += 1\n",
    "                    break\n",
    "        return count"
   ]
  },
  {
   "cell_type": "code",
   "execution_count": 57,
   "metadata": {},
   "outputs": [],
   "source": [
    "stones = [[0,0],[0,1],[1,0],[1,2],[2,1],[2,2]]"
   ]
  },
  {
   "cell_type": "code",
   "execution_count": 58,
   "metadata": {},
   "outputs": [],
   "source": [
    "obj = Solution()"
   ]
  },
  {
   "cell_type": "code",
   "execution_count": 59,
   "metadata": {},
   "outputs": [
    {
     "name": "stdout",
     "output_type": "stream",
     "text": [
      "0 0\n",
      "0 1\n",
      "0 1\n",
      "2 1\n",
      "1 0\n",
      "1 2\n",
      "1 2\n",
      "2 2\n",
      "2 1\n",
      "2 2\n"
     ]
    },
    {
     "data": {
      "text/plain": [
       "5"
      ]
     },
     "execution_count": 59,
     "metadata": {},
     "output_type": "execute_result"
    }
   ],
   "source": [
    "obj.removeStones(stones)"
   ]
  },
  {
   "cell_type": "markdown",
   "metadata": {},
   "source": [
    "### 10. Zigzag Iterator"
   ]
  },
  {
   "cell_type": "markdown",
   "metadata": {},
   "source": [
    "Given two 1d vectors, implement an iterator to return their elements alternately.\n",
    "\n",
    "Example:\n",
    "\n",
    "Input:\n",
    "v1 = [1,2]\n",
    "v2 = [3,4,5,6] \n",
    "\n",
    "Output: [1,3,2,4,5,6]\n",
    "\n",
    "Explanation: By calling next repeatedly until hasNext returns false, \n",
    "             the order of elements returned by next should be: [1,3,2,4,5,6].\n",
    "Follow up: What if you are given k 1d vectors? How well can your code be extended to such cases?\n",
    "\n",
    "Clarification for the follow up question:\n",
    "The \"Zigzag\" order is not clearly defined and is ambiguous for k > 2 cases. If \"Zigzag\" does not look right to you, replace \"Zigzag\" with \"Cyclic\". For example:\n",
    "\n",
    "Input:\n",
    "[1,2,3]\n",
    "[4,5,6,7]\n",
    "[8,9]\n",
    "\n",
    "Output: [1,4,8,2,5,9,3,6,7]."
   ]
  },
  {
   "cell_type": "code",
   "execution_count": 60,
   "metadata": {},
   "outputs": [],
   "source": [
    "class ZigzagIterator(object):\n",
    "\n",
    "    def __init__(self, v1, v2):\n",
    "        \"\"\"\n",
    "        Initialize your data structure here.\n",
    "        :type v1: List[int]\n",
    "        :type v2: List[int]\n",
    "        \"\"\"\n",
    "        self.A = v1\n",
    "        self.B = v2\n",
    "        self.i = 0\n",
    "        self.j = 0\n",
    "\n",
    "    def next(self):\n",
    "        \"\"\"\n",
    "        :rtype: int\n",
    "        \"\"\"\n",
    "        if (self.A and self.B):\n",
    "            if (self.i <= self.j):\n",
    "                elm = self.A.pop(0)\n",
    "                self.i += 1\n",
    "            else:\n",
    "                elm = self.B.pop(0)\n",
    "                self.j += 1\n",
    "        elif self.A:\n",
    "            elm = self.A.pop(0)   \n",
    "        elif self.B:\n",
    "            elm = self.B.pop(0)\n",
    "        \n",
    "        return elm\n",
    "\n",
    "    def hasNext(self):\n",
    "        \"\"\"\n",
    "        :rtype: bool\n",
    "        \"\"\"\n",
    "        return self.A or self.B\n",
    "\n",
    "# Your ZigzagIterator object will be instantiated and called as such:\n",
    "# i, v = ZigzagIterator(v1, v2), []\n",
    "# while i.hasNext(): v.append(i.next())"
   ]
  },
  {
   "cell_type": "markdown",
   "metadata": {},
   "source": [
    "### 11. Encode and Decode TinyURL"
   ]
  },
  {
   "cell_type": "markdown",
   "metadata": {},
   "source": [
    "TinyURL is a URL shortening service where you enter a URL such as https://leetcode.com/problems/design-tinyurl and it returns a short URL such as http://tinyurl.com/4e9iAk.\n",
    "\n",
    "Design the encode and decode methods for the TinyURL service. There is no restriction on how your encode/decode algorithm should work. You just need to ensure that a URL can be encoded to a tiny URL and the tiny URL can be decoded to the original URL."
   ]
  },
  {
   "cell_type": "code",
   "execution_count": 61,
   "metadata": {},
   "outputs": [],
   "source": [
    "class Codec:\n",
    "    def __init__(self):\n",
    "        self.count = 0\n",
    "        self.d = dict()\n",
    "        \n",
    "    def encode(self, longUrl):\n",
    "        \"\"\"Encodes a URL to a shortened URL.\n",
    "        \n",
    "        :type longUrl: str\n",
    "        :rtype: str\n",
    "        \"\"\"\n",
    "        self.d[self.count] = longUrl\n",
    "        self.count+=1\n",
    "        return \"http://tinyurl.com/\" + str(self.count);\n",
    "\n",
    "    def decode(self, shortUrl):\n",
    "        \"\"\"Decodes a shortened URL to its original URL.\n",
    "        \n",
    "        :type shortUrl: str\n",
    "        :rtype: str\n",
    "        \"\"\"\n",
    "        key = int(shortUrl.split(\"/\")[-1])-1\n",
    "        return self.d[key]\n",
    "        \n",
    "\n",
    "# Your Codec object will be instantiated and called as such:\n",
    "# codec = Codec()\n",
    "# codec.decode(codec.encode(url))\n",
    "\n",
    "## Or we can use hash on each url to encode and decode."
   ]
  },
  {
   "cell_type": "markdown",
   "metadata": {},
   "source": [
    "### 12. Top K Frequent Elements"
   ]
  },
  {
   "cell_type": "markdown",
   "metadata": {},
   "source": [
    "Given a non-empty array of integers, return the k most frequent elements.\n",
    "\n",
    "Example 1:\n",
    "\n",
    "Input: nums = [1,1,1,2,2,3], k = 2\n",
    "Output: [1,2]\n",
    "Example 2:\n",
    "\n",
    "Input: nums = [1], k = 1\n",
    "Output: [1]\n",
    "Note:\n",
    "\n",
    "You may assume k is always valid, 1 ≤ k ≤ number of unique elements.\n",
    "Your algorithm's time complexity must be better than O(n log n), where n is the array's size."
   ]
  },
  {
   "cell_type": "code",
   "execution_count": 62,
   "metadata": {},
   "outputs": [],
   "source": [
    "class Solution(object):\n",
    "    def topKFrequent(self, nums, k):\n",
    "        \"\"\"\n",
    "        :type nums: List[int]\n",
    "        :type k: int\n",
    "        :rtype: List[int]\n",
    "        \"\"\"\n",
    "        d = dict()\n",
    "        \n",
    "        for elm in nums:\n",
    "            if elm not in d.keys():\n",
    "                d[elm] = 1\n",
    "            else:\n",
    "                d[elm] += 1\n",
    "        \n",
    "        return list(sorted(d, key = lambda x: d[x], reverse=True))[:k]\n",
    "        "
   ]
  },
  {
   "cell_type": "markdown",
   "metadata": {},
   "source": [
    "### 13. Binary Tree Inorder Traversal"
   ]
  },
  {
   "cell_type": "markdown",
   "metadata": {},
   "source": [
    "Given a binary tree, return the inorder traversal of its nodes' values.\n",
    "\n",
    "Example:\n",
    "\n",
    "Input: [1,null,2,3]\n",
    "   1\n",
    "    \\\n",
    "     2\n",
    "    /\n",
    "   3\n",
    "\n",
    "Output: [1,3,2]"
   ]
  },
  {
   "cell_type": "code",
   "execution_count": 63,
   "metadata": {},
   "outputs": [],
   "source": [
    "# Definition for a binary tree node.\n",
    "# class TreeNode(object):\n",
    "#     def __init__(self, x):\n",
    "#         self.val = x\n",
    "#         self.left = None\n",
    "#         self.right = None\n",
    "\n",
    "class Solution(object):\n",
    "    def inorderTraversal(self, root):\n",
    "        \"\"\"\n",
    "        :type root: TreeNode\n",
    "        :rtype: List[int]\n",
    "        \"\"\"\n",
    "        li = []\n",
    "        self.traverse(root, li)\n",
    "        return li\n",
    "        \n",
    "    def traverse(self, root, li):  \n",
    "        if root is None:\n",
    "            return\n",
    "        self.traverse(root.left, li)\n",
    "        li.append(root.val)\n",
    "        self.traverse(root.right, li)"
   ]
  },
  {
   "cell_type": "code",
   "execution_count": 64,
   "metadata": {},
   "outputs": [],
   "source": [
    "# iterative approach\n",
    "class Solution(object):\n",
    "    def inorderTraversal(self, root):\n",
    "        \"\"\"\n",
    "        :type root: TreeNode\n",
    "        :rtype: List[int]\n",
    "        \"\"\"\n",
    "        \n",
    "        if root is None:\n",
    "            return\n",
    "        ans = []\n",
    "        walk = []\n",
    "        cur = root\n",
    "        while walk or cur:\n",
    "            while cur is not None:\n",
    "                walk.append(cur)\n",
    "                cur = cur.left\n",
    "            cur = walk.pop()\n",
    "            ans.append(cur.val)\n",
    "            cur = cur.right\n",
    "        return ans"
   ]
  },
  {
   "cell_type": "markdown",
   "metadata": {},
   "source": [
    "### 14. Search in a Sorted Array of Unknown Size"
   ]
  },
  {
   "cell_type": "markdown",
   "metadata": {},
   "source": [
    "Given an integer array sorted in ascending order, write a function to search target in nums.  If target exists, then return its index, otherwise return -1. However, the array size is unknown to you. You may only access the array using an ArrayReader interface, where ArrayReader.get(k) returns the element of the array at index k (0-indexed).\n",
    "\n",
    "You may assume all integers in the array are less than 10000, and if you access the array out of bounds, ArrayReader.get will return 2147483647.\n",
    "\n",
    " \n",
    "\n",
    "Example 1:\n",
    "\n",
    "Input: array = [-1,0,3,5,9,12], target = 9\n",
    "Output: 4\n",
    "Explanation: 9 exists in nums and its index is 4\n",
    "Example 2:\n",
    "\n",
    "Input: array = [-1,0,3,5,9,12], target = 2\n",
    "Output: -1\n",
    "Explanation: 2 does not exist in nums so return -1"
   ]
  },
  {
   "cell_type": "code",
   "execution_count": 67,
   "metadata": {},
   "outputs": [],
   "source": [
    "class Solution(object):\n",
    "    def search(self, reader, target):\n",
    "        \"\"\"\n",
    "        :type reader: ArrayReader\n",
    "        :type target: int\n",
    "        :rtype: int\n",
    "        \"\"\"\n",
    "        oob = 2147483647\n",
    "        \n",
    "        low = 0\n",
    "        high = oob # random position\n",
    "        \n",
    "        while low <= high:\n",
    "            mid = (low+high)//2\n",
    "            midValue = reader.get(mid)\n",
    "            \n",
    "            if midValue == target:\n",
    "                return mid\n",
    "            \n",
    "            if midValue == oob or midValue>target:\n",
    "                # hit out of bound: decrease the upper bound\n",
    "                high = mid-1\n",
    "            else:\n",
    "                low = mid+1\n",
    "        \n",
    "        return -1"
   ]
  },
  {
   "cell_type": "markdown",
   "metadata": {},
   "source": [
    "### 15. Daily Temperatures"
   ]
  },
  {
   "cell_type": "markdown",
   "metadata": {},
   "source": [
    "Given a list of daily temperatures T, return a list such that, for each day in the input, tells you how many days you would have to wait until a warmer temperature. If there is no future day for which this is possible, put 0 instead.\n",
    "\n",
    "For example, given the list of temperatures T = [73, 74, 75, 71, 69, 72, 76, 73], your output should be [1, 1, 4, 2, 1, 1, 0, 0].\n",
    "\n",
    "Note: The length of temperatures will be in the range [1, 30000]. Each temperature will be an integer in the range [30, 100]."
   ]
  },
  {
   "cell_type": "code",
   "execution_count": 90,
   "metadata": {},
   "outputs": [],
   "source": [
    "class Solution(object):\n",
    "    def dailyTemperatures(self, T):\n",
    "        \"\"\"\n",
    "        :type T: List[int]\n",
    "        :rtype: List[int]\n",
    "        \"\"\"\n",
    "#         i = 0\n",
    "#         j = 1\n",
    "#         while i<len(T)-1:\n",
    "            \n",
    "#             while j<len(T)-1 and T[j]<=T[i]:\n",
    "#                 j+=1\n",
    "#             if T[i]<T[j]:\n",
    "#                 T[i] = j-i\n",
    "#             else:\n",
    "#                 T[i] = 0\n",
    "                \n",
    "#             i = i+1\n",
    "#             j = i+1\n",
    "#         T[i] = 0    \n",
    "       \n",
    "#         return T\n",
    "            \n",
    "        # using stack\n",
    "        ans = [0] * len(T)\n",
    "        stack = [] #indexes from hottest to coldest\n",
    "        for i in range(len(T) - 1, -1, -1):\n",
    "            while stack and T[i] >= T[stack[-1]]:\n",
    "                stack.pop()\n",
    "            if stack:\n",
    "                ans[i] = stack[-1] - i\n",
    "            stack.append(i)\n",
    "        return ans\n",
    "                  \n",
    "            "
   ]
  },
  {
   "cell_type": "code",
   "execution_count": 91,
   "metadata": {},
   "outputs": [],
   "source": [
    "inp = [89,62,70,58,47,47,46,76,100,70]\n",
    "out = [8,1,5,4,3,2,1,1,0,0]"
   ]
  },
  {
   "cell_type": "code",
   "execution_count": 92,
   "metadata": {},
   "outputs": [],
   "source": [
    "obj = Solution()"
   ]
  },
  {
   "cell_type": "code",
   "execution_count": 93,
   "metadata": {},
   "outputs": [
    {
     "data": {
      "text/plain": [
       "[8, 1, 5, 4, 3, 2, 1, 1, 0, 0]"
      ]
     },
     "execution_count": 93,
     "metadata": {},
     "output_type": "execute_result"
    }
   ],
   "source": [
    "obj.dailyTemperatures(inp)"
   ]
  },
  {
   "cell_type": "markdown",
   "metadata": {},
   "source": [
    "### 16. Find Leaves of Binary Tree"
   ]
  },
  {
   "cell_type": "markdown",
   "metadata": {},
   "source": [
    "Given a binary tree, collect a tree's nodes as if you were doing this: Collect and remove all leaves, repeat until the tree is empty.\n",
    "\n",
    " \n",
    "\n",
    "Example:\n",
    "\n",
    "Input: [1,2,3,4,5]\n",
    "  \n",
    "          1\n",
    "         / \\\n",
    "        2   3\n",
    "       / \\     \n",
    "      4   5    \n",
    "\n",
    "Output: [[4,5,3],[2],[1]]"
   ]
  },
  {
   "cell_type": "code",
   "execution_count": 94,
   "metadata": {},
   "outputs": [],
   "source": [
    "# Definition for a binary tree node.\n",
    "# class TreeNode(object):\n",
    "#     def __init__(self, x):\n",
    "#         self.val = x\n",
    "#         self.left = None\n",
    "#         self.right = None\n",
    "\n",
    "class Solution(object):\n",
    "    def findLeaves(self, root):\n",
    "        \"\"\"\n",
    "        :type root: TreeNode\n",
    "        :rtype: List[List[int]]\n",
    "        \"\"\"\n",
    "        if root is None:\n",
    "            return\n",
    "        \n",
    "        self.res = []\n",
    "        while root.left or root.right: \n",
    "            self.temp = []\n",
    "            self.getLeaves(root, None, None)\n",
    "            print(self.temp)\n",
    "            self.res.append(self.temp)\n",
    "        \n",
    "        return self.res + [[root.val]]\n",
    "        \n",
    "        \n",
    "    def getLeaves(self, root, parent, lr):\n",
    "        if root is None: \n",
    "            return\n",
    "        if root.left is None and root.right is None: \n",
    "            self.temp.append(root.val)\n",
    "            if lr == \"l\": \n",
    "                parent.left = None\n",
    "            else: \n",
    "                parent.right = None\n",
    "        else:\n",
    "            self.getLeaves(root.left, root, \"l\")\n",
    "            self.getLeaves(root.right, root, \"r\")\n",
    "        "
   ]
  },
  {
   "cell_type": "markdown",
   "metadata": {},
   "source": [
    "### 17. Convert Binary Search Tree to Sorted Doubly Linked List"
   ]
  },
  {
   "cell_type": "markdown",
   "metadata": {},
   "source": [
    "Convert a BST to a sorted circular doubly-linked list in-place. Think of the left and right pointers as synonymous to the previous and next pointers in a doubly-linked list.\n",
    "\n",
    "Let's take the following BST as an example, it may help you understand the problem better:\n",
    "\n",
    " \n",
    "\n",
    "\n",
    " \n",
    "We want to transform this BST into a circular doubly linked list. Each node in a doubly linked list has a predecessor and successor. For a circular doubly linked list, the predecessor of the first element is the last element, and the successor of the last element is the first element.\n",
    "\n",
    "The figure below shows the circular doubly linked list for the BST above. The \"head\" symbol means the node it points to is the smallest element of the linked list.\n",
    "\n",
    " \n",
    "\n",
    "\n",
    " \n",
    "Specifically, we want to do the transformation in place. After the transformation, the left pointer of the tree node should point to its predecessor, and the right pointer should point to its successor. We should return the pointer to the first element of the linked list."
   ]
  },
  {
   "cell_type": "code",
   "execution_count": 95,
   "metadata": {},
   "outputs": [],
   "source": [
    "\"\"\"\n",
    "# Definition for a Node.\n",
    "class Node(object):\n",
    "    def __init__(self, val, left, right):\n",
    "        self.val = val\n",
    "        self.left = left\n",
    "        self.right = right\n",
    "\"\"\"\n",
    "class Solution(object):\n",
    "    def treeToDoublyList(self, root):\n",
    "        \"\"\"\n",
    "        :type root: Node\n",
    "        :rtype: Node\n",
    "        \"\"\"\n",
    "        if root is None: \n",
    "            return None\n",
    "        prev = head = None  \n",
    "   \n",
    "        stack = []\n",
    "        cur = root  \n",
    "        while cur or stack: \n",
    "            while cur:\n",
    "                stack.append(cur)  # collect all left nodes\n",
    "                cur = cur.left\n",
    "            cur = stack.pop()\n",
    "            if head is None: # point head to the leftmost node\n",
    "                head = cur\n",
    "            else:\n",
    "                prev.right = cur\n",
    "                cur.left = prev\n",
    "            prev = cur\n",
    "            cur = cur.right\n",
    "            \n",
    "        head.left = prev\n",
    "        prev.right = head\n",
    "        return head"
   ]
  },
  {
   "cell_type": "markdown",
   "metadata": {},
   "source": [
    "### 18. Flip Equivalent Binary Trees"
   ]
  },
  {
   "cell_type": "markdown",
   "metadata": {},
   "source": [
    "For a binary tree T, we can define a flip operation as follows: choose any node, and swap the left and right child subtrees.\n",
    "\n",
    "A binary tree X is flip equivalent to a binary tree Y if and only if we can make X equal to Y after some number of flip operations.\n",
    "\n",
    "Write a function that determines whether two binary trees are flip equivalent.  The trees are given by root nodes root1 and root2.\n",
    "\n",
    " \n",
    "\n",
    "Example 1:\n",
    "\n",
    "Input: root1 = [1,2,3,4,5,6,null,null,null,7,8], root2 = [1,3,2,null,6,4,5,null,null,null,null,8,7]\n",
    "Output: true\n",
    "Explanation: We flipped at nodes with values 1, 3, and 5.\n",
    "Flipped Trees Diagram"
   ]
  },
  {
   "cell_type": "code",
   "execution_count": 96,
   "metadata": {},
   "outputs": [],
   "source": [
    "# Definition for a binary tree node.\n",
    "# class TreeNode(object):\n",
    "#     def __init__(self, x):\n",
    "#         self.val = x\n",
    "#         self.left = None\n",
    "#         self.right = None\n",
    "\n",
    "class Solution(object):\n",
    "    def flipEquiv(self, root1, root2):\n",
    "        \"\"\"\n",
    "        :type root1: TreeNode\n",
    "        :type root2: TreeNode\n",
    "        :rtype: bool\n",
    "        \"\"\"\n",
    "        if root1 == root2:\n",
    "            return True\n",
    "        \n",
    "        if root1 is None or root2 is None:\n",
    "            return False\n",
    "        \n",
    "        if root1.val != root2.val:\n",
    "            return False\n",
    "        \n",
    "        a = (self.flipEquiv(root1.left, root2.left) and self.flipEquiv(root1.right, root2.right))\n",
    "        \n",
    "        b = (self.flipEquiv(root1.left, root2.right) and  self.flipEquiv(root1.right, root2.left))\n",
    "        \n",
    "        return a or b"
   ]
  },
  {
   "cell_type": "markdown",
   "metadata": {},
   "source": [
    "### 19. Distribute Coins in Binary Tree"
   ]
  },
  {
   "cell_type": "markdown",
   "metadata": {},
   "source": [
    "Given the root of a binary tree with N nodes, each node in the tree has node.val coins, and there are N coins total.\n",
    "\n",
    "In one move, we may choose two adjacent nodes and move one coin from one node to another.  (The move may be from parent to child, or from child to parent.)\n",
    "\n",
    "Return the number of moves required to make every node have exactly one coin.\n",
    "\n",
    " \n",
    "\n",
    "Example 1:\n",
    "\n",
    "\n",
    "\n",
    "Input: [3,0,0]\n",
    "Output: 2\n",
    "Explanation: From the root of the tree, we move one coin to its left child, and one coin to its right child.\n",
    "Example 2:\n",
    "\n",
    "\n",
    "\n",
    "Input: [0,3,0]\n",
    "Output: 3\n",
    "Explanation: From the left child of the root, we move two coins to the root [taking two moves].  Then, we move one coin from the root of the tree to the right child.\n",
    "Example 3:\n",
    "\n",
    "\n",
    "\n",
    "Input: [1,0,2]\n",
    "Output: 2\n",
    "Example 4:\n",
    "\n",
    "\n",
    "\n",
    "Input: [1,0,0,null,3]\n",
    "Output: 4"
   ]
  },
  {
   "cell_type": "code",
   "execution_count": 97,
   "metadata": {},
   "outputs": [],
   "source": [
    "# Definition for a binary tree node.\n",
    "# class TreeNode(object):\n",
    "#     def __init__(self, x):\n",
    "#         self.val = x\n",
    "#         self.left = None\n",
    "#         self.right = None\n",
    "\n",
    "class Solution(object):\n",
    "    def distributeCoins(self, root):\n",
    "        \"\"\"\n",
    "        :type root: TreeNode\n",
    "        :rtype: int\n",
    "        \"\"\"\n",
    "        self.count = 0\n",
    "        self.inOrderTraversal(root)\n",
    "        return self.count\n",
    "        \n",
    "    def inOrderTraversal(self, root):\n",
    "        if root is None:\n",
    "            return 0\n",
    "        \n",
    "        left = self.inOrderTraversal(root.left)\n",
    "        right = self.inOrderTraversal(root.right)\n",
    "        self.count += abs(left) + abs(right)\n",
    "        return root.val + left + right -1\n",
    "        "
   ]
  },
  {
   "cell_type": "markdown",
   "metadata": {},
   "source": [
    "### 20. Number of Distinct Islands"
   ]
  },
  {
   "cell_type": "markdown",
   "metadata": {},
   "source": [
    "Given a non-empty 2D array grid of 0's and 1's, an island is a group of 1's (representing land) connected 4-directionally (horizontal or vertical.) You may assume all four edges of the grid are surrounded by water.\n",
    "\n",
    "Count the number of distinct islands. An island is considered to be the same as another if and only if one island can be translated (and not rotated or reflected) to equal the other.\n",
    "\n",
    "Example 1:\n",
    "11000\n",
    "11000\n",
    "00011\n",
    "00011\n",
    "Given the above grid map, return 1.\n",
    "Example 2:\n",
    "11011\n",
    "10000\n",
    "00001\n",
    "11011\n",
    "Given the above grid map, return 3.\n",
    "\n",
    "Notice that:\n",
    "11\n",
    "1\n",
    "and\n",
    " 1\n",
    "11\n",
    "are considered different island shapes, because we do not consider reflection / rotation.\n"
   ]
  },
  {
   "cell_type": "code",
   "execution_count": 98,
   "metadata": {},
   "outputs": [],
   "source": [
    "class Solution(object):\n",
    "    def numDistinctIslands(self, grid):\n",
    "        \"\"\"\n",
    "        :type grid: List[List[int]]\n",
    "        :rtype: int\n",
    "        \"\"\"\n",
    "        seen = set()\n",
    "        shapes = set()\n",
    "        for r in range(len(grid)):\n",
    "            for c in range(len(grid[0])):\n",
    "                shape = set()\n",
    "                self.explore(r, c, r, c, grid, seen, shape)\n",
    "                if shape:\n",
    "                    shapes.add(frozenset(shape))\n",
    "        return len(shapes)\n",
    "    \n",
    "    def explore(self, r, c, r0, c0, grid, seen, shape):\n",
    "        if (0 <= r < len(grid) and 0 <= c < len(grid[0]) and\n",
    "                grid[r][c] and (r, c) not in seen):\n",
    "            seen.add((r, c))\n",
    "            shape.add((r - r0, c - c0))\n",
    "            self.explore(r+1, c, r0, c0, grid, seen, shape)\n",
    "            self.explore(r-1, c, r0, c0, grid, seen, shape)\n",
    "            self.explore(r, c+1, r0, c0, grid, seen, shape)\n",
    "            self.explore(r, c-1, r0, c0, grid, seen, shape)\n"
   ]
  },
  {
   "cell_type": "markdown",
   "metadata": {},
   "source": [
    "### 21. Number of Islands"
   ]
  },
  {
   "cell_type": "markdown",
   "metadata": {},
   "source": [
    "Given a 2d grid map of '1's (land) and '0's (water), count the number of islands. An island is surrounded by water and is formed by connecting adjacent lands horizontally or vertically. You may assume all four edges of the grid are all surrounded by water.\n",
    "\n",
    "Example 1:\n",
    "\n",
    "Input:\n",
    "11110\n",
    "11010\n",
    "11000\n",
    "00000\n",
    "\n",
    "Output: 1\n",
    "Example 2:\n",
    "\n",
    "Input:\n",
    "11000\n",
    "11000\n",
    "00100\n",
    "00011\n",
    "\n",
    "Output: 3"
   ]
  },
  {
   "cell_type": "code",
   "execution_count": 99,
   "metadata": {},
   "outputs": [],
   "source": [
    "class Solution(object):\n",
    "    def numIslands(self, grid):\n",
    "        \"\"\"\n",
    "        :type grid: List[List[str]]\n",
    "        :rtype: int\n",
    "        \"\"\"\n",
    "        s = 0\n",
    "        for i in range(len(grid)) :\n",
    "            for j in range(len(grid[i])):\n",
    "                s+=self.sink(i,j, grid)\n",
    "        return s\n",
    "                \n",
    "        \n",
    "    def sink(self, r, c, grid):\n",
    "        if 0 <= r < len(grid) and 0 <= c < len(grid[r]) and grid[r][c] == '1':\n",
    "            grid[r][c] = '0'\n",
    "            self.sink(r+1, c, grid)\n",
    "            self.sink(r-1, c, grid)\n",
    "            self.sink(r, c+1, grid)\n",
    "            self.sink(r, c-1, grid)\n",
    "            return 1\n",
    "            \n",
    "        return 0\n",
    "        "
   ]
  },
  {
   "cell_type": "markdown",
   "metadata": {},
   "source": [
    "### 22. All Possible Full Binary Trees"
   ]
  },
  {
   "cell_type": "markdown",
   "metadata": {},
   "source": [
    "A full binary tree is a binary tree where each node has exactly 0 or 2 children.\n",
    "\n",
    "Return a list of all possible full binary trees with N nodes.  Each element of the answer is the root node of one possible tree.\n",
    "\n",
    "Each node of each tree in the answer must have node.val = 0.\n",
    "\n",
    "You may return the final list of trees in any order.\n",
    "\n",
    " \n",
    "\n",
    "Example 1:\n",
    "\n",
    "Input: 7\n",
    "Output: [[0,0,0,null,null,0,0,null,null,0,0],[0,0,0,null,null,0,0,0,0],[0,0,0,0,0,0,0],[0,0,0,0,0,null,null,null,null,0,0],[0,0,0,0,0,null,null,0,0]]\n",
    "Explanation:\n",
    "\n",
    " \n",
    "\n"
   ]
  },
  {
   "cell_type": "code",
   "execution_count": 100,
   "metadata": {},
   "outputs": [],
   "source": [
    "# Definition for a binary tree node.\n",
    "# class TreeNode(object):\n",
    "#     def __init__(self, x):\n",
    "#         self.val = x\n",
    "#         self.left = None\n",
    "#         self.right = None\n",
    "\n",
    "class Solution(object):\n",
    "    def allPossibleFBT(self, N):\n",
    "        \"\"\"\n",
    "        :type N: int\n",
    "        :rtype: List[TreeNode]\n",
    "        \"\"\"\n",
    "        self.lookup = {1 : [TreeNode(0)]}\n",
    "        \n",
    "        if N%2 == 0:\n",
    "            return None\n",
    "        \n",
    "        if N not in self.lookup.keys():\n",
    "            ans = []\n",
    "            for x in range(1,N,2):\n",
    "                y = N - 1 -x\n",
    "                for left in self.allPossibleFBT(x):\n",
    "                    for right in self.allPossibleFBT(y):\n",
    "                        root = TreeNode(0)\n",
    "                        root.left = left\n",
    "                        root.right = right\n",
    "                        ans.append(root)\n",
    "            #print(ans)\n",
    "            self.lookup[N] = ans\n",
    "        #print(self.lookup.keys())\n",
    "        return self.lookup[N]\n",
    "# not clear logic"
   ]
  },
  {
   "cell_type": "code",
   "execution_count": null,
   "metadata": {},
   "outputs": [],
   "source": []
  }
 ],
 "metadata": {
  "kernelspec": {
   "display_name": "Python 3",
   "language": "python",
   "name": "python3"
  },
  "language_info": {
   "codemirror_mode": {
    "name": "ipython",
    "version": 3
   },
   "file_extension": ".py",
   "mimetype": "text/x-python",
   "name": "python",
   "nbconvert_exporter": "python",
   "pygments_lexer": "ipython3",
   "version": "3.6.8"
  }
 },
 "nbformat": 4,
 "nbformat_minor": 2
}
