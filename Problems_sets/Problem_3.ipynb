{
 "cells": [
  {
   "cell_type": "markdown",
   "metadata": {},
   "source": [
    "### 1. Word Frequency"
   ]
  },
  {
   "cell_type": "markdown",
   "metadata": {},
   "source": [
    "Write a bash script to calculate the frequency of each word in a text file words.txt.\n",
    "\n",
    "For simplicity sake, you may assume:\n",
    "\n",
    "words.txt contains only lowercase characters and space ' ' characters.\n",
    "Each word must consist of lowercase characters only.\n",
    "Words are separated by one or more whitespace characters.\n",
    "Example:\n",
    "\n",
    "Assume that words.txt has the following content:\n",
    "\n",
    "the day is sunny the the\n",
    "the sunny is is\n",
    "Your script should output the following, sorted by descending frequency:\n",
    "\n",
    "the 4\n",
    "is 3\n",
    "sunny 2\n",
    "day 1"
   ]
  },
  {
   "cell_type": "code",
   "execution_count": 1,
   "metadata": {},
   "outputs": [
    {
     "name": "stdout",
     "output_type": "stream",
     "text": [
      "cat: words.txt: No such file or directory\r\n"
     ]
    }
   ],
   "source": [
    "cat words.txt | tr -s ' ' '\\n' | sort | uniq -c | sort -r | awk '{ print $2, $1}'"
   ]
  },
  {
   "cell_type": "markdown",
   "metadata": {},
   "source": [
    "### 2. Top K Frequent Words"
   ]
  },
  {
   "cell_type": "markdown",
   "metadata": {},
   "source": [
    "Given a non-empty list of words, return the k most frequent elements.\n",
    "\n",
    "Your answer should be sorted by frequency from highest to lowest. If two words have the same frequency, then the word with the lower alphabetical order comes first.\n",
    "\n",
    "Example 1:\n",
    "Input: [\"i\", \"love\", \"leetcode\", \"i\", \"love\", \"coding\"], k = 2\n",
    "Output: [\"i\", \"love\"]\n",
    "Explanation: \"i\" and \"love\" are the two most frequent words.\n",
    "    Note that \"i\" comes before \"love\" due to a lower alphabetical order.\n",
    "Example 2:\n",
    "Input: [\"the\", \"day\", \"is\", \"sunny\", \"the\", \"the\", \"the\", \"sunny\", \"is\", \"is\"], k = 4\n",
    "Output: [\"the\", \"is\", \"sunny\", \"day\"]\n",
    "Explanation: \"the\", \"is\", \"sunny\" and \"day\" are the four most frequent words,\n",
    "    with the number of occurrence being 4, 3, 2 and 1 respectively.\n"
   ]
  },
  {
   "cell_type": "code",
   "execution_count": 3,
   "metadata": {},
   "outputs": [],
   "source": [
    "class Solution(object):\n",
    "    def topKFrequent(self, words, k):\n",
    "        \"\"\"\n",
    "        :type words: List[str]\n",
    "        :type k: int\n",
    "        :rtype: List[str]\n",
    "        \"\"\"\n",
    "        \n",
    "        d = collections.Counter(words)\n",
    "        \n",
    "        s = sorted(d.items(), key=lambda k,v: (-v,k))\n",
    "        \n",
    "        return [elm[0] for elm in s[:k]]\n"
   ]
  },
  {
   "cell_type": "markdown",
   "metadata": {},
   "source": [
    "### 3. Minimum Index Sum of Two Lists"
   ]
  },
  {
   "cell_type": "markdown",
   "metadata": {},
   "source": [
    "Suppose Andy and Doris want to choose a restaurant for dinner, and they both have a list of favorite restaurants represented by strings.\n",
    "\n",
    "You need to help them find out their common interest with the least list index sum. If there is a choice tie between answers, output all of them with no order requirement. You could assume there always exists an answer.\n",
    "\n",
    "Example 1:\n",
    "Input:\n",
    "[\"Shogun\", \"Tapioca Express\", \"Burger King\", \"KFC\"]\n",
    "[\"Piatti\", \"The Grill at Torrey Pines\", \"Hungry Hunter Steakhouse\", \"Shogun\"]\n",
    "Output: [\"Shogun\"]\n",
    "Explanation: The only restaurant they both like is \"Shogun\"."
   ]
  },
  {
   "cell_type": "code",
   "execution_count": 4,
   "metadata": {},
   "outputs": [],
   "source": [
    "class Solution(object):\n",
    "    def findRestaurant(self, list1, list2):\n",
    "        \"\"\"\n",
    "        :type list1: List[str]\n",
    "        :type list2: List[str]\n",
    "        :rtype: List[str]\n",
    "        \"\"\"\n",
    "        \n",
    "        d1 = dict()\n",
    "        for i,elm in enumerate(list1):\n",
    "            d1[elm] = i\n",
    "        \n",
    "        d2 = dict()\n",
    "        for i,elm in enumerate(list2):\n",
    "            d2[elm] = i\n",
    "            \n",
    "        # find common \n",
    "        mn = float('inf')\n",
    "        ans = []\n",
    "        for key in d1.keys():\n",
    "            if key in d2.keys() and (d1[key] +d2[key])<mn:\n",
    "                mn = d1[key] +d2[key]\n",
    "                ans = []\n",
    "                ans.append(key)\n",
    "            elif key in d2.keys() and (d1[key] +d2[key])==mn:\n",
    "                    ans.append(key)   \n",
    "        return ans\n",
    "        \n",
    "        "
   ]
  },
  {
   "cell_type": "markdown",
   "metadata": {},
   "source": [
    "### 4. Merge Intervals"
   ]
  },
  {
   "cell_type": "markdown",
   "metadata": {},
   "source": [
    "Given a collection of intervals, merge all overlapping intervals.\n",
    "\n",
    "Example 1:\n",
    "\n",
    "Input: [[1,3],[2,6],[8,10],[15,18]]\n",
    "Output: [[1,6],[8,10],[15,18]]\n",
    "Explanation: Since intervals [1,3] and [2,6] overlaps, merge them into [1,6].\n",
    "Example 2:\n",
    "\n",
    "Input: [[1,4],[4,5]]\n",
    "Output: [[1,5]]\n",
    "Explanation: Intervals [1,4] and [4,5] are considered overlapping.\n"
   ]
  },
  {
   "cell_type": "code",
   "execution_count": 5,
   "metadata": {},
   "outputs": [],
   "source": [
    "class Solution(object):\n",
    "    def merge(self, intervals):\n",
    "        \"\"\"\n",
    "        :type intervals: List[List[int]]\n",
    "        :rtype: List[List[int]]\n",
    "        \"\"\"\n",
    "        if intervals ==[]:\n",
    "            return \n",
    "        intervals.sort()\n",
    "        ans = [intervals[0]]\n",
    "        \n",
    "        for start,end in intervals[1:]:\n",
    "\n",
    "            last = ans[-1]\n",
    "            if last[1] >= start:\n",
    "                last[1] = max(last[1], end)\n",
    "            else:\n",
    "                ans.append([start, end])\n",
    "                \n",
    "        return ans"
   ]
  },
  {
   "cell_type": "markdown",
   "metadata": {},
   "source": [
    "### 5. Top K Frequent Elements"
   ]
  },
  {
   "cell_type": "markdown",
   "metadata": {},
   "source": [
    "Given a non-empty array of integers, return the k most frequent elements.\n",
    "\n",
    "Example 1:\n",
    "\n",
    "Input: nums = [1,1,1,2,2,3], k = 2\n",
    "Output: [1,2]\n",
    "Example 2:\n",
    "\n",
    "Input: nums = [1], k = 1\n",
    "Output: [1]\n"
   ]
  },
  {
   "cell_type": "code",
   "execution_count": null,
   "metadata": {},
   "outputs": [],
   "source": [
    "class Solution(object):\n",
    "    def topKFrequent(self, nums, k):\n",
    "        \"\"\"\n",
    "        :type nums: List[int]\n",
    "        :type k: int\n",
    "        :rtype: List[int]\n",
    "        \"\"\"\n",
    "        d = dict()\n",
    "        \n",
    "        for elm in nums:\n",
    "            if elm not in d.keys():\n",
    "                d[elm] = 1\n",
    "            else:\n",
    "                d[elm] += 1\n",
    "        \n",
    "        return list(sorted(d, key = lambda x: d[x], reverse=True))[:k]"
   ]
  },
  {
   "cell_type": "code",
   "execution_count": null,
   "metadata": {},
   "outputs": [],
   "source": [
    "# OR\n",
    "\n",
    "class Solution(object):\n",
    "    def topKFrequent(self, nums, k):\n",
    "        \"\"\"\n",
    "        :type nums: List[int]\n",
    "        :type k: int\n",
    "        :rtype: List[int]\n",
    "        \"\"\"\n",
    "        \n",
    "        d = collections.Counter(nums) \n",
    "        ans = list(sorted(d.items(), key=lambda x: x[1], reverse=True))[:k]\n",
    "        return [elm[0] for elm in ans]\n",
    "        "
   ]
  },
  {
   "cell_type": "markdown",
   "metadata": {},
   "source": [
    "### 6. Meeting Rooms II"
   ]
  },
  {
   "cell_type": "markdown",
   "metadata": {},
   "source": [
    "Given an array of meeting time intervals consisting of start and end times [[s1,e1],[s2,e2],...] (si < ei), find the minimum number of conference rooms required.\n",
    "\n",
    "Example 1:\n",
    "\n",
    "Input: [[0, 30],[5, 10],[15, 20]]\n",
    "Output: 2\n",
    "Example 2:\n",
    "\n",
    "Input: [[7,10],[2,4]]\n",
    "Output: 1"
   ]
  },
  {
   "cell_type": "code",
   "execution_count": 28,
   "metadata": {},
   "outputs": [],
   "source": [
    "class Solution(object):\n",
    "    def minMeetingRooms(self, intervals):\n",
    "        \"\"\"\n",
    "        :type intervals: List[List[int]]\n",
    "        :rtype: int\n",
    "        \"\"\"\n",
    "        count = 0\n",
    "        rooms = []\n",
    "        \n",
    "        for start, end in sorted(intervals): \n",
    "            for room in rooms:\n",
    "                if room[1]<=start:\n",
    "                    rooms.remove(room)\n",
    "            \n",
    "            rooms.append((start,end)) \n",
    "            count = max(count, len(rooms)) \n",
    "        \n",
    "        return count"
   ]
  },
  {
   "cell_type": "code",
   "execution_count": null,
   "metadata": {},
   "outputs": [],
   "source": []
  },
  {
   "cell_type": "markdown",
   "metadata": {},
   "source": [
    "### 7. Merge Two Sorted Lists"
   ]
  },
  {
   "cell_type": "markdown",
   "metadata": {},
   "source": [
    "Merge two sorted linked lists and return it as a new list. The new list should be made by splicing together the nodes of the first two lists.\n",
    "\n",
    "Example:\n",
    "\n",
    "Input: 1->2->4, 1->3->4\n",
    "Output: 1->1->2->3->4->4"
   ]
  },
  {
   "cell_type": "code",
   "execution_count": null,
   "metadata": {},
   "outputs": [],
   "source": [
    "# Definition for singly-linked list.\n",
    "# class ListNode(object):\n",
    "#     def __init__(self, x):\n",
    "#         self.val = x\n",
    "#         self.next = None\n",
    "\n",
    "## RECURSIVE\n",
    "class Solution(object):\n",
    "    def mergeTwoLists(self, l1, l2):\n",
    "        \"\"\"\n",
    "        :type l1: ListNode\n",
    "        :type l2: ListNode\n",
    "        :rtype: ListNode\n",
    "        \"\"\"\n",
    "        if l1 is None:\n",
    "            return l2\n",
    "        if l2 is None:\n",
    "            return l1\n",
    "        elif l1.val<l2.val:\n",
    "            l1.next = self.mergeTwoLists(l1.next, l2)\n",
    "            return l1\n",
    "        else:\n",
    "            l2.next = self.mergeTwoLists(l1, l2.next)\n",
    "            return l2\n",
    "        \n",
    "        \n",
    "        \n",
    "                \n",
    "# Definition for singly-linked list.\n",
    "# class ListNode(object):\n",
    "#     def __init__(self, x):\n",
    "#         self.val = x\n",
    "#         self.next = None\n",
    "\n",
    "\n",
    "## ITERATIVE\n",
    "class Solution(object):\n",
    "    def mergeTwoLists(self, l1, l2):\n",
    "        \"\"\"\n",
    "        :type l1: ListNode\n",
    "        :type l2: ListNode\n",
    "        :rtype: ListNode\n",
    "        \"\"\"\n",
    "        \n",
    "        prev = start = ListNode(-1)\n",
    "        while l1 is not None and l2 is not None:\n",
    "            if l1.val<l2.val:\n",
    "                prev.next = l1\n",
    "                l1 =l1.next\n",
    "            else:\n",
    "                prev.next = l2\n",
    "                l2 =l2.next\n",
    "            prev = prev.next\n",
    "        if l1 is not None:\n",
    "            prev.next = l1\n",
    "        if l2 is not None:\n",
    "            prev.next = l2\n",
    "        return start.next"
   ]
  },
  {
   "cell_type": "markdown",
   "metadata": {},
   "source": [
    "### 8. Copy List with Random Pointer"
   ]
  },
  {
   "cell_type": "markdown",
   "metadata": {},
   "source": [
    "A linked list is given such that each node contains an additional random pointer which could point to any node in the list or null.\n",
    "\n",
    "Return a deep copy of the list.\n",
    "\n",
    " \n",
    "\n",
    "Example 1:\n",
    "\n",
    "\n",
    "\n",
    "Input:\n",
    "{\"$id\":\"1\",\"next\":{\"$id\":\"2\",\"next\":null,\"random\":{\"$ref\":\"2\"},\"val\":2},\"random\":{\"$ref\":\"2\"},\"val\":1}\n",
    "\n",
    "Explanation:\n",
    "Node 1's value is 1, both of its next and random pointer points to Node 2.\n",
    "Node 2's value is 2, its next pointer points to null and its random pointer points to itself.\n",
    " \n",
    "\n",
    "Note:\n",
    "\n",
    "You must return the copy of the given head as a reference to the cloned list.\n"
   ]
  },
  {
   "cell_type": "code",
   "execution_count": 6,
   "metadata": {},
   "outputs": [],
   "source": [
    "\"\"\"\n",
    "# Definition for a Node.\n",
    "class Node(object):\n",
    "    def __init__(self, val, next, random):\n",
    "        self.val = val\n",
    "        self.next = next\n",
    "        self.random = random\n",
    "\"\"\"\n",
    "class Solution(object):\n",
    "    def copyRandomList(self, head):\n",
    "        \"\"\"\n",
    "        :type head: Node\n",
    "        :rtype: Node\n",
    "        \"\"\"\n",
    "        \n",
    "        if head is None:\n",
    "            return None\n",
    "        \n",
    "        d = dict()\n",
    "        cur = head\n",
    "        while cur:\n",
    "            d[cur] = Node(cur.val, None, None)\n",
    "            cur = cur.next\n",
    "        \n",
    "        cur = head\n",
    "        while cur:\n",
    "            d[cur].next = d[cur.next] if cur.next else None\n",
    "            d[cur].random = d[cur.random] if cur.random else None\n",
    "            cur = cur.next\n",
    "        return d[head]\n",
    "                \n",
    "            "
   ]
  },
  {
   "cell_type": "markdown",
   "metadata": {},
   "source": [
    "### 9. Reconstruct Itinerary"
   ]
  },
  {
   "cell_type": "markdown",
   "metadata": {},
   "source": [
    "Given a list of airline tickets represented by pairs of departure and arrival airports [from, to], reconstruct the itinerary in order. All of the tickets belong to a man who departs from JFK. Thus, the itinerary must begin with JFK.\n",
    "\n",
    "Note:\n",
    "\n",
    "If there are multiple valid itineraries, you should return the itinerary that has the smallest lexical order when read as a single string. For example, the itinerary [\"JFK\", \"LGA\"] has a smaller lexical order than [\"JFK\", \"LGB\"].\n",
    "All airports are represented by three capital letters (IATA code).\n",
    "You may assume all tickets form at least one valid itinerary.\n",
    "Example 1:\n",
    "\n",
    "Input: [[\"MUC\", \"LHR\"], [\"JFK\", \"MUC\"], [\"SFO\", \"SJC\"], [\"LHR\", \"SFO\"]]\n",
    "Output: [\"JFK\", \"MUC\", \"LHR\", \"SFO\", \"SJC\"]\n",
    "Example 2:\n",
    "\n",
    "Input: [[\"JFK\",\"SFO\"],[\"JFK\",\"ATL\"],[\"SFO\",\"ATL\"],[\"ATL\",\"JFK\"],[\"ATL\",\"SFO\"]]\n",
    "Output: [\"JFK\",\"ATL\",\"JFK\",\"SFO\",\"ATL\",\"SFO\"]\n",
    "Explanation: Another possible reconstruction is [\"JFK\",\"SFO\",\"ATL\",\"JFK\",\"ATL\",\"SFO\"].\n",
    "             But it is larger in lexical order."
   ]
  },
  {
   "cell_type": "code",
   "execution_count": 22,
   "metadata": {},
   "outputs": [],
   "source": [
    "import collections\n",
    "import copy"
   ]
  },
  {
   "cell_type": "code",
   "execution_count": 23,
   "metadata": {},
   "outputs": [],
   "source": [
    "class Solution(object):\n",
    "    def findItinerary(self, tickets):\n",
    "        \"\"\"\n",
    "        :type tickets: List[List[str]]\n",
    "        :rtype: List[str]\n",
    "        \"\"\"\n",
    "        d = collections.defaultdict(list)\n",
    "        for start, end in tickets:\n",
    "            d[start].append(end)\n",
    "        \n",
    "        for key in d:\n",
    "            d[key].sort()\n",
    "            \n",
    "        return self.dfs(\"JFK\", [\"JFK\"], d, tickets)\n",
    "        \n",
    "    def dfs(self, start, result, d, tickets): \n",
    "        if start in d:\n",
    "            # Pick smallest lexical end destination\n",
    "            for dest in d[start]:\n",
    "                copy_dict = copy.deepcopy(d)\n",
    "                copy_dict[start].remove(dest)\n",
    "                ret = self.dfs(dest, result + [dest], copy_dict, tickets)\n",
    "                \n",
    "                if len(ret) == (1 + len(tickets)):\n",
    "                    return ret\n",
    "        return result"
   ]
  },
  {
   "cell_type": "code",
   "execution_count": 24,
   "metadata": {},
   "outputs": [],
   "source": [
    "ip = [[\"JFK\",\"KUL\"],[\"JFK\",\"NRT\"],[\"NRT\",\"JFK\"]]"
   ]
  },
  {
   "cell_type": "code",
   "execution_count": 25,
   "metadata": {},
   "outputs": [],
   "source": [
    "obj = Solution()"
   ]
  },
  {
   "cell_type": "code",
   "execution_count": 26,
   "metadata": {},
   "outputs": [
    {
     "data": {
      "text/plain": [
       "['JFK', 'NRT', 'JFK', 'KUL']"
      ]
     },
     "execution_count": 26,
     "metadata": {},
     "output_type": "execute_result"
    }
   ],
   "source": [
    "obj.findItinerary(ip)"
   ]
  },
  {
   "cell_type": "markdown",
   "metadata": {},
   "source": [
    "### 10.  Longest Common Prefix"
   ]
  },
  {
   "cell_type": "markdown",
   "metadata": {},
   "source": [
    "Write a function to find the longest common prefix string amongst an array of strings.\n",
    "\n",
    "If there is no common prefix, return an empty string \"\".\n",
    "\n",
    "Example 1:\n",
    "\n",
    "Input: [\"flower\",\"flow\",\"flight\"]\n",
    "Output: \"fl\"\n",
    "Example 2:\n",
    "\n",
    "Input: [\"dog\",\"racecar\",\"car\"]\n",
    "Output: \"\"\n",
    "Explanation: There is no common prefix among the input strings."
   ]
  },
  {
   "cell_type": "code",
   "execution_count": 27,
   "metadata": {},
   "outputs": [],
   "source": [
    "class Solution(object):\n",
    "    def longestCommonPrefix(self, strs):\n",
    "        \"\"\"\n",
    "        :type strs: List[str]\n",
    "        :rtype: str\n",
    "        \"\"\"\n",
    "        \n",
    "        if strs==[]:\n",
    "            return \"\"\n",
    "        \n",
    "        pre = min(strs, key=len)\n",
    "        strs.remove(pre)\n",
    "        \n",
    "        for i, char in enumerate(pre):\n",
    "            for other in strs:\n",
    "                if other[i] != char:\n",
    "                    return pre[:i]\n",
    "        return pre\n",
    "            "
   ]
  },
  {
   "cell_type": "markdown",
   "metadata": {},
   "source": [
    "### 11. Generate Parentheses"
   ]
  },
  {
   "cell_type": "markdown",
   "metadata": {},
   "source": [
    "Given n pairs of parentheses, write a function to generate all combinations of well-formed parentheses.\n",
    "\n",
    "For example, given n = 3, a solution set is:\n",
    "\n",
    "[\n",
    "  \"((()))\",\n",
    "  \"(()())\",\n",
    "  \"(())()\",\n",
    "  \"()(())\",\n",
    "  \"()()()\"\n",
    "]"
   ]
  },
  {
   "cell_type": "code",
   "execution_count": 29,
   "metadata": {},
   "outputs": [],
   "source": [
    "class Solution(object):\n",
    "\n",
    "    def __init__(self, w):\n",
    "        \"\"\"\n",
    "        :type w: List[int]\n",
    "        \"\"\"\n",
    "        self.d = self.setvalues(w)\n",
    "\n",
    "    def setvalues(self, weights):\n",
    "        d = {}\n",
    "        for i,elm in enumerate(weights):\n",
    "            d[i] = elm\n",
    "        print(d)\n",
    "        return d\n",
    "        \n",
    "    def pickIndex(self):\n",
    "        \"\"\"\n",
    "        :rtype: int\n",
    "        \"\"\"\n",
    "        idx = random.randint(0, len(self.d)-1)\n",
    "        return \n",
    "   \n",
    " \n",
    "        #return bisect.bisect_left(self.w, x)\n",
    "\n",
    "\n",
    "# Your Solution object will be instantiated and called as such:\n",
    "# obj = Solution(w)\n",
    "# param_1 = obj.pickIndex()"
   ]
  },
  {
   "cell_type": "markdown",
   "metadata": {},
   "source": [
    "### 12. Meeting Rooms"
   ]
  },
  {
   "cell_type": "markdown",
   "metadata": {},
   "source": [
    "Given an array of meeting time intervals consisting of start and end times [[s1,e1],[s2,e2],...] (si < ei), determine if a person could attend all meetings.\n",
    "\n",
    "Example 1:\n",
    "\n",
    "Input: [[0,30],[5,10],[15,20]]\n",
    "Output: false\n",
    "Example 2:\n",
    "\n",
    "Input: [[7,10],[2,4]]\n",
    "Output: true\n",
    "NOTE: input types have been changed on April 15, 2019. Please reset to default code definition to get new method signature."
   ]
  },
  {
   "cell_type": "code",
   "execution_count": 30,
   "metadata": {},
   "outputs": [],
   "source": [
    "class Solution(object):\n",
    "    def canAttendMeetings(self, intervals):\n",
    "        \"\"\"\n",
    "        :type intervals: List[List[int]]\n",
    "        :rtype: bool\n",
    "        \"\"\"\n",
    "        \n",
    "        ans = []\n",
    "        intervals.sort()\n",
    "        for start,end in intervals:\n",
    "            for room in ans:\n",
    "                if room[1]>start:\n",
    "                    return False\n",
    "        \n",
    "            ans.append((start,end))\n",
    "        return len(ans)==len(intervals)"
   ]
  },
  {
   "cell_type": "markdown",
   "metadata": {},
   "source": [
    "### 13. 3Sum"
   ]
  },
  {
   "cell_type": "markdown",
   "metadata": {},
   "source": [
    "Given an array nums of n integers, are there elements a, b, c in nums such that a + b + c = 0? Find all unique triplets in the array which gives the sum of zero.\n",
    "\n",
    "Note:\n",
    "\n",
    "The solution set must not contain duplicate triplets.\n",
    "\n",
    "Example:\n",
    "\n",
    "Given array nums = [-1, 0, 1, 2, -1, -4],\n",
    "\n",
    "A solution set is:\n",
    "[\n",
    "  [-1, 0, 1],\n",
    "  [-1, -1, 2]\n",
    "]"
   ]
  },
  {
   "cell_type": "code",
   "execution_count": null,
   "metadata": {},
   "outputs": [],
   "source": [
    "class Solution:\n",
    "    def threeSum(self, nums):\n",
    "        \"\"\"\n",
    "        :type nums: List[int]\n",
    "        :rtype: List[List[int]]\n",
    "        \"\"\"\n",
    "        nums.sort()\n",
    "        \n",
    "        values = []\n",
    "        for i in range(len(nums)):\n",
    "            start = i+1\n",
    "            end = len(nums)-1\n",
    "    \n",
    "            val = nums[i]\n",
    "    \n",
    "            while start<end:\n",
    "                if i>0 and nums[i-1]==val:    # if the val repeats in nums skip that iteration as it will give duplicates\n",
    "                    break\n",
    "        \n",
    "                su = val + nums[start] + nums[end]\n",
    "                if su == 0:\n",
    "                    values.append([val ,nums[start], nums[end]])\n",
    "                    \n",
    "                    s = start\n",
    "                    e = end\n",
    "                    start += 1\n",
    "                    end -= 1\n",
    "\n",
    "                    while nums[start]==nums[s]:\n",
    "                        \n",
    "                        # increase start and decrease end, otherwsie duplicate values will exist\n",
    "                        if start != len(nums)-1:\n",
    "                            start += 1\n",
    "                        else:\n",
    "                            break\n",
    "                            \n",
    "                    while nums[end]==nums[e]:\n",
    "                        if end != 0:\n",
    "                            end -= 1  \n",
    "                        else: \n",
    "                            break\n",
    "            \n",
    "                elif su<0:        # sum is negative, increase start value towards big num\n",
    "                    start += 1\n",
    "                elif su>0:        # sum is positive\n",
    "                    end -= 1      # decrease end towards less value\n",
    "                    \n",
    "        return values\n",
    "            \n",
    "    "
   ]
  },
  {
   "cell_type": "markdown",
   "metadata": {},
   "source": [
    "### 14. Group Anagrams"
   ]
  },
  {
   "cell_type": "markdown",
   "metadata": {},
   "source": [
    "Given an array of strings, group anagrams together.\n",
    "\n",
    "Example:\n",
    "\n",
    "Input: [\"eat\", \"tea\", \"tan\", \"ate\", \"nat\", \"bat\"],\n",
    "Output:\n",
    "[\n",
    "  [\"ate\",\"eat\",\"tea\"],\n",
    "  [\"nat\",\"tan\"],\n",
    "  [\"bat\"]\n",
    "]"
   ]
  },
  {
   "cell_type": "code",
   "execution_count": 1,
   "metadata": {},
   "outputs": [],
   "source": [
    "class Solution(object):\n",
    "    def groupAnagrams(self, strs):\n",
    "        \"\"\"\n",
    "        :type strs: List[str]\n",
    "        :rtype: List[List[str]]\n",
    "        \"\"\"\n",
    "        \n",
    "        ans = collections.defaultdict(list)\n",
    "        \n",
    "        for s in strs:\n",
    "            a = sorted(s)\n",
    "            ans[tuple(a)].append(s)\n",
    "        \n",
    "        print(ans)\n",
    "        return ans.values()"
   ]
  },
  {
   "cell_type": "markdown",
   "metadata": {},
   "source": [
    "Time Complexity: O(NK \\log K)O(NKlogK), where NN is the length of strs, and KK is the maximum length of a string in strs. The outer loop has complexity O(N)O(N) as we iterate through each string. Then, we sort each string in O(K \\log K)O(KlogK) time."
   ]
  },
  {
   "cell_type": "code",
   "execution_count": 2,
   "metadata": {},
   "outputs": [],
   "source": [
    "class Solution(object):\n",
    "    def groupAnagrams(self, strs):\n",
    "        \"\"\"\n",
    "        :type strs: List[str]\n",
    "        :rtype: List[List[str]]\n",
    "        \"\"\"\n",
    "        \n",
    "        ans = collections.defaultdict(list)\n",
    "        \n",
    "        for s in strs:\n",
    "            count = [0] * 26\n",
    "            for c in s:\n",
    "                count[ord(c) - ord('a')] += 1\n",
    "            ans[tuple(count)].append(s)\n",
    "            \n",
    "        return ans.values()\n",
    "    \n",
    "# O(NK)"
   ]
  },
  {
   "cell_type": "markdown",
   "metadata": {},
   "source": [
    "### 15. Merge Sorted Array"
   ]
  },
  {
   "cell_type": "markdown",
   "metadata": {},
   "source": [
    "Given two sorted integer arrays nums1 and nums2, merge nums2 into nums1 as one sorted array.\n",
    "\n",
    "Note:\n",
    "\n",
    "The number of elements initialized in nums1 and nums2 are m and n respectively.\n",
    "You may assume that nums1 has enough space (size that is greater or equal to m + n) to hold additional elements from nums2.\n",
    "Example:\n",
    "\n",
    "Input:\n",
    "nums1 = [1,2,3,0,0,0], m = 3\n",
    "nums2 = [2,5,6],       n = 3\n",
    "\n",
    "Output: [1,2,2,3,5,6]"
   ]
  },
  {
   "cell_type": "code",
   "execution_count": 3,
   "metadata": {},
   "outputs": [],
   "source": [
    "class Solution(object):\n",
    "    def merge(self, nums1, m, nums2, n):\n",
    "        \"\"\"\n",
    "        :type nums1: List[int]\n",
    "        :type m: int\n",
    "        :type nums2: List[int]\n",
    "        :type n: int\n",
    "        :rtype: None Do not return anything, modify nums1 in-place instead.\n",
    "        \"\"\"\n",
    "        \n",
    "        i = 0\n",
    "        j = 0\n",
    "        ans = []\n",
    "        arr1 = nums1[:m]\n",
    "        nums1[:] = []\n",
    "\n",
    "        while i<m and j<n:\n",
    "            if arr1[i]<=nums2[j]:\n",
    "                nums1.append(arr1[i])\n",
    "                i+=1\n",
    "            else:\n",
    "                nums1.append(nums2[j])\n",
    "                j+=1\n",
    "            #print(ans)\n",
    "       \n",
    "        while i<m:\n",
    "            nums1.append(arr1[i])\n",
    "            i+=1\n",
    "        while j<n:\n",
    "            nums1.append(nums2[j])\n",
    "            j+=1\n",
    "\n",
    "# O(n+m)"
   ]
  },
  {
   "cell_type": "markdown",
   "metadata": {},
   "source": [
    "### 16. Pascal's Triangle"
   ]
  },
  {
   "cell_type": "markdown",
   "metadata": {},
   "source": [
    "Given a non-negative integer numRows, generate the first numRows of Pascal's triangle.\n",
    "Input: 5\n",
    "Output:\n",
    "[\n",
    "     [1],\n",
    "    [1,1],\n",
    "   [1,2,1],\n",
    "  [1,3,3,1],\n",
    " [1,4,6,4,1]\n",
    "]"
   ]
  },
  {
   "cell_type": "code",
   "execution_count": 10,
   "metadata": {},
   "outputs": [],
   "source": [
    "class Solution(object):\n",
    "    def generate(self, numRows):\n",
    "        \"\"\"\n",
    "        :type numRows: int\n",
    "        :rtype: List[List[int]]\n",
    "        \"\"\"\n",
    "        if numRows==0:\n",
    "            return []\n",
    "        \n",
    "        if numRows==1:\n",
    "            return [[1]]\n",
    "        \n",
    "        ans = [[1],[1,1]]\n",
    "        \n",
    "        if numRows==2:\n",
    "            return ans\n",
    "        \n",
    "        n = 1\n",
    "\n",
    "        while n<numRows-1:\n",
    "            \n",
    "            li = []\n",
    "            for i in range(len(ans[n])):\n",
    "                if i==0:\n",
    "                    li.append(1)\n",
    "                else:    \n",
    "                    sm = ans[n][i-1]+ans[n][i]\n",
    "                    li.append(sm)\n",
    "            \n",
    "            li.append(1)\n",
    "            ans.append(li)\n",
    "            n += 1\n",
    "            \n",
    "        return ans\n"
   ]
  },
  {
   "cell_type": "markdown",
   "metadata": {},
   "source": [
    "### 17. Basic Calculator II"
   ]
  },
  {
   "cell_type": "markdown",
   "metadata": {},
   "source": [
    "Implement a basic calculator to evaluate a simple expression string.\n",
    "\n",
    "The expression string contains only non-negative integers, +, -, *, / operators and empty spaces . The integer division should truncate toward zero.\n",
    "\n",
    "Example 1:\n",
    "\n",
    "Input: \"3+2*2\"\n",
    "Output: 7\n",
    "Example 2:\n",
    "\n",
    "Input: \" 3/2 \"\n",
    "Output: 1"
   ]
  },
  {
   "cell_type": "code",
   "execution_count": 36,
   "metadata": {},
   "outputs": [],
   "source": [
    "class Solution(object):\n",
    "    def calculate(self, s):\n",
    "        \"\"\"\n",
    "        :type s: str\n",
    "        :rtype: int\n",
    "        \"\"\"\n",
    "        if '+' not in s and '-' not in s and '*' not in s and '/' not in s:\n",
    "            return int(s)\n",
    "        \n",
    "        s = s.replace(\" \",\"\")\n",
    "        stack = []\n",
    "        li = []\n",
    "        for ch in s:\n",
    "            if ch in ['+', '-', '*', '/']:\n",
    "                if li!=[]:\n",
    "                    stack.append(''.join(li))\n",
    "                    li = []\n",
    "                stack.append(ch)\n",
    "\n",
    "            elif ch.isdigit():\n",
    "                li.append(ch)\n",
    "                \n",
    "        stack.append(''.join(li))\n",
    "\n",
    "        flag = False\n",
    "        while len(stack)>1:\n",
    "            if '/' in stack and '*' in stack:\n",
    "                pos1 = stack.index('/')\n",
    "                pos2 = stack.index('*')\n",
    "                if pos1<pos2:\n",
    "                    idx = stack.index('/')\n",
    "                    val = int(int(stack[idx-1])/int(stack[idx+1]))\n",
    "                    stack[idx-1] = str(val)\n",
    "                    stack.pop(idx+1)\n",
    "                    stack.pop(idx)\n",
    "                    print(stack)\n",
    "                else:\n",
    "                    idx = stack.index('*')\n",
    "                    val = int(stack[idx-1])*int(stack[idx+1])\n",
    "                    stack[idx-1] = str(val)\n",
    "                    stack.pop(idx+1)\n",
    "                    stack.pop(idx)\n",
    "                    #flag = True\n",
    "            elif '*' in stack:\n",
    "                    idx = stack.index('*')\n",
    "                    val = int(stack[idx-1])*int(stack[idx+1])\n",
    "                    stack[idx-1] = str(val)\n",
    "                    stack.pop(idx+1)\n",
    "                    stack.pop(idx)\n",
    "                    #print(\"* \", s)\n",
    "            elif '/' in stack:\n",
    "                    idx = stack.index('/')\n",
    "                    val = int(int(stack[idx-1])/int(stack[idx+1]))\n",
    "                    stack[idx-1] = str(val)\n",
    "                    stack.pop(idx+1)\n",
    "                    stack.pop(idx)\n",
    "                    #print(\"/ \", s)\n",
    "        \n",
    "                #print(stack)\n",
    "            else:\n",
    "                if '+' in stack and '-' in stack:\n",
    "                    pos1 = stack.index('+')\n",
    "                    pos2 = stack.index('-')\n",
    "                    if pos1<pos2:\n",
    "                        idx = stack.index('+')\n",
    "                        val = int(stack[idx-1])+int(stack[idx+1])\n",
    "                        stack[idx-1] = str(val)\n",
    "                        stack.pop(idx+1)\n",
    "                        stack.pop(idx)\n",
    "                        #print(\"+ \", s)\n",
    "                    else:\n",
    "                        idx = stack.index('-')\n",
    "                        val = int(stack[idx-1])-int(stack[idx+1])\n",
    "                        stack[idx-1] = str(val)\n",
    "                        stack.pop(idx+1)\n",
    "                        stack.pop(idx)\n",
    "                    \n",
    "                elif '+' in stack :\n",
    "                    idx = stack.index('+')\n",
    "                    val = int(stack[idx-1])+int(stack[idx+1])\n",
    "                    stack[idx-1] = str(val)\n",
    "                    stack.pop(idx+1)\n",
    "                    stack.pop(idx)\n",
    "                    #print(\"+ \", s)\n",
    "                elif '-' in stack:\n",
    "                    idx = stack.index('-')\n",
    "                    val = int(stack[idx-1])-int(stack[idx+1])\n",
    "                    stack[idx-1] = str(val)\n",
    "                    stack.pop(idx+1)\n",
    "                    stack.pop(idx)\n",
    "                    #print(\"- \", s)\n",
    "                print(stack)\n",
    "                flag = True\n",
    "        \n",
    "        return stack[0]\n",
    "    \n",
    "    \n",
    "# works but takes time (time limit exceeded)"
   ]
  },
  {
   "cell_type": "code",
   "execution_count": 37,
   "metadata": {},
   "outputs": [
    {
     "name": "stdout",
     "output_type": "stream",
     "text": [
      "['4', '*', '2']\n"
     ]
    },
    {
     "data": {
      "text/plain": [
       "'8'"
      ]
     },
     "execution_count": 37,
     "metadata": {},
     "output_type": "execute_result"
    }
   ],
   "source": [
    "obj = Solution()\n",
    "obj.calculate(\"14/3*2\")"
   ]
  },
  {
   "cell_type": "code",
   "execution_count": null,
   "metadata": {},
   "outputs": [],
   "source": []
  },
  {
   "cell_type": "markdown",
   "metadata": {},
   "source": [
    "### 18. Product of Array Except Self"
   ]
  },
  {
   "cell_type": "markdown",
   "metadata": {},
   "source": [
    "Given an array nums of n integers where n > 1,  return an array output such that output[i] is equal to the product of all the elements of nums except nums[i].\n",
    "\n",
    "Example:\n",
    "\n",
    "Input:  [1,2,3,4]\n",
    "Output: [24,12,8,6]\n",
    "Note: Please solve it without division and in O(n).\n",
    "\n",
    "Follow up:\n",
    "Could you solve it with constant space complexity? (The output array does not count as extra space for the purpose of space complexity analysis.)"
   ]
  },
  {
   "cell_type": "code",
   "execution_count": 133,
   "metadata": {},
   "outputs": [],
   "source": [
    "### with division\n",
    "\n",
    "class Solution(object):\n",
    "    def productExceptSelf(self, nums):\n",
    "        \"\"\"\n",
    "        :type nums: List[int]\n",
    "        :rtype: List[int]\n",
    "        \"\"\"\n",
    "        \n",
    "        mul = 1\n",
    "        for elm in nums:\n",
    "            mul *=elm\n",
    "            \n",
    "        for i in range(len(nums)):\n",
    "            nums[i] = int(mul/nums[i])\n",
    "            \n",
    "        return nums"
   ]
  },
  {
   "cell_type": "code",
   "execution_count": 140,
   "metadata": {},
   "outputs": [],
   "source": [
    "## new logic : have two poiners left and right\n",
    "\n",
    "class Solution(object):\n",
    "    def productExceptSelf(self, nums):\n",
    "        \"\"\"\n",
    "        :type nums: List[int]\n",
    "        :rtype: List[int]\n",
    "        \"\"\"\n",
    "        \n",
    "        N = len(nums)\n",
    "        L = R = 1 \n",
    "        \n",
    "        partials = []\n",
    "        for i in range(N):\n",
    "            partials.append((L, R))\n",
    "            L *= nums[i]  # get the ith elemnt\n",
    "            R *= nums[~i] # get the ith elemnt from last\n",
    "        #print(partials)\n",
    "        \n",
    "        ans = []\n",
    "        for i in range(N): \n",
    "            #print(partials[i][0])\n",
    "            #print(partials[~i][1])\n",
    "            ans.append(partials[i][0] * partials[~i][1])\n",
    "        \n",
    "        return ans"
   ]
  },
  {
   "cell_type": "code",
   "execution_count": null,
   "metadata": {},
   "outputs": [],
   "source": []
  },
  {
   "cell_type": "markdown",
   "metadata": {},
   "source": [
    "### 19. Course Schedule"
   ]
  },
  {
   "cell_type": "markdown",
   "metadata": {},
   "source": [
    "There are a total of n courses you have to take, labeled from 0 to n-1.\n",
    "\n",
    "Some courses may have prerequisites, for example to take course 0 you have to first take course 1, which is expressed as a pair: [0,1]\n",
    "\n",
    "Given the total number of courses and a list of prerequisite pairs, is it possible for you to finish all courses?\n",
    "\n",
    "Example 1:\n",
    "\n",
    "Input: 2, [[1,0]] \n",
    "Output: true\n",
    "Explanation: There are a total of 2 courses to take. \n",
    "             To take course 1 you should have finished course 0. So it is possible.\n",
    "Example 2:\n",
    "\n",
    "Input: 2, [[1,0],[0,1]]\n",
    "Output: false\n",
    "Explanation: There are a total of 2 courses to take. \n",
    "             To take course 1 you should have finished course 0, and to take course 0 you should\n",
    "             also have finished course 1. So it is impossible."
   ]
  },
  {
   "cell_type": "code",
   "execution_count": 13,
   "metadata": {},
   "outputs": [],
   "source": [
    "import collections"
   ]
  },
  {
   "cell_type": "code",
   "execution_count": 18,
   "metadata": {},
   "outputs": [],
   "source": [
    "class Solution:\n",
    "    def canFinish(self, numCourses, prerequisites):\n",
    "        tasks = collections.defaultdict(list)\n",
    "        ind = collections.defaultdict(int)\n",
    "        \n",
    "        for new_c,req in prerequisites:\n",
    "            tasks[req].append(new_c)  # key is completed subject; value is which depends on key subject\n",
    "            ind[new_c] += 1           # count of new subject\n",
    "        \n",
    "        print(tasks)\n",
    "        print(ind)\n",
    "        \n",
    "        queue = []\n",
    "        \n",
    "        # bfs\n",
    "        \n",
    "        # tracks the subject which  \n",
    "        for key in tasks.keys():\n",
    "            if ind[key] == 0:\n",
    "                queue.append(key)\n",
    "        print(queue)\n",
    "        \n",
    "        while queue!=[]:\n",
    "            p = queue.pop(0)\n",
    "            for q in tasks[p]:\n",
    "                ind[q] -= 1\n",
    "                if ind[q] == 0:\n",
    "                    del ind[q]\n",
    "                    queue.append(q)\n",
    "        \n",
    "        \n",
    "        for t in ind:\n",
    "            if ind[t]!=0:\n",
    "                return False\n",
    "        return True"
   ]
  },
  {
   "cell_type": "code",
   "execution_count": 19,
   "metadata": {},
   "outputs": [],
   "source": [
    "num = 2\n",
    "pre = [[1,0],[0,1]]"
   ]
  },
  {
   "cell_type": "code",
   "execution_count": 20,
   "metadata": {},
   "outputs": [],
   "source": [
    "obj = Solution()"
   ]
  },
  {
   "cell_type": "code",
   "execution_count": 21,
   "metadata": {},
   "outputs": [
    {
     "name": "stdout",
     "output_type": "stream",
     "text": [
      "defaultdict(<class 'list'>, {0: [1], 1: [0]})\n",
      "defaultdict(<class 'int'>, {1: 1, 0: 1})\n",
      "[]\n",
      "[]\n"
     ]
    },
    {
     "data": {
      "text/plain": [
       "False"
      ]
     },
     "execution_count": 21,
     "metadata": {},
     "output_type": "execute_result"
    }
   ],
   "source": [
    "obj.canFinish(num, pre)"
   ]
  },
  {
   "cell_type": "code",
   "execution_count": null,
   "metadata": {},
   "outputs": [],
   "source": []
  },
  {
   "cell_type": "code",
   "execution_count": null,
   "metadata": {},
   "outputs": [],
   "source": []
  },
  {
   "cell_type": "markdown",
   "metadata": {},
   "source": [
    "### 20. Valid Word Square"
   ]
  },
  {
   "cell_type": "markdown",
   "metadata": {},
   "source": [
    "Given a sequence of words, check whether it forms a valid word square.\n",
    "\n",
    "A sequence of words forms a valid word square if the kth row and column read the exact same string, where 0 ≤ k < max(numRows, numColumns).\n",
    "\n",
    "Note:\n",
    "The number of words given is at least 1 and does not exceed 500.\n",
    "Word length will be at least 1 and does not exceed 500.\n",
    "Each word contains only lowercase English alphabet a-z.\n",
    "Example 1:\n",
    "\n",
    "Input:\n",
    "[\n",
    "  \"abcd\",\n",
    "  \"bnrt\",\n",
    "  \"crmy\",\n",
    "  \"dtye\"\n",
    "]\n",
    "\n",
    "Output:\n",
    "true"
   ]
  },
  {
   "cell_type": "code",
   "execution_count": 165,
   "metadata": {},
   "outputs": [],
   "source": [
    "class Solution(object):\n",
    "    def validWordSquare(self, words):\n",
    "        \"\"\"\n",
    "        :type words: List[str]\n",
    "        :rtype: bool\n",
    "        \"\"\"\n",
    "        \n",
    "        if len(words)!=len(words[0]):\n",
    "            return False\n",
    "        \n",
    "        for i,row in enumerate(words):\n",
    "            print(\"row \",row)\n",
    "            col = ''\n",
    "            for word in words:\n",
    "                if len(word)-1<i: break\n",
    "                col += word[i]\n",
    "            print(\"col \",col)\n",
    "            \n",
    "            if row!=col:\n",
    "                return False\n",
    "        return True"
   ]
  },
  {
   "cell_type": "code",
   "execution_count": 166,
   "metadata": {},
   "outputs": [],
   "source": [
    "inp = [\"abcd\",\"bnrt\",\"crm\",\"dt\"]"
   ]
  },
  {
   "cell_type": "code",
   "execution_count": 167,
   "metadata": {},
   "outputs": [],
   "source": [
    "obj = Solution()"
   ]
  },
  {
   "cell_type": "code",
   "execution_count": 168,
   "metadata": {},
   "outputs": [
    {
     "name": "stdout",
     "output_type": "stream",
     "text": [
      "row  abcd\n",
      "col  abcd\n",
      "row  bnrt\n",
      "col  bnrt\n",
      "row  crm\n",
      "col  crm\n",
      "row  dt\n",
      "col  dt\n"
     ]
    },
    {
     "data": {
      "text/plain": [
       "True"
      ]
     },
     "execution_count": 168,
     "metadata": {},
     "output_type": "execute_result"
    }
   ],
   "source": [
    "obj.validWordSquare(inp)"
   ]
  },
  {
   "cell_type": "code",
   "execution_count": null,
   "metadata": {},
   "outputs": [],
   "source": []
  },
  {
   "cell_type": "markdown",
   "metadata": {},
   "source": [
    "## 21. Valid Square"
   ]
  },
  {
   "cell_type": "markdown",
   "metadata": {},
   "source": [
    "Given the coordinates of four points in 2D space, return whether the four points could construct a square.\n",
    "\n",
    "The coordinate (x,y) of a point is represented by an integer array with two integers.\n",
    "\n",
    "Example:\n",
    "\n",
    "Input: p1 = [0,0], p2 = [1,1], p3 = [1,0], p4 = [0,1]\n",
    "Output: True"
   ]
  },
  {
   "cell_type": "code",
   "execution_count": 169,
   "metadata": {},
   "outputs": [],
   "source": [
    "class Solution(object):\n",
    "    def validSquare(self, p1, p2, p3, p4):\n",
    "        \"\"\"\n",
    "        :type p1: List[int]\n",
    "        :type p2: List[int]\n",
    "        :type p3: List[int]\n",
    "        :type p4: List[int]\n",
    "        :rtype: bool\n",
    "        \"\"\"\n",
    "        memo = {tuple(p1),tuple(p2),tuple(p3),tuple(p4)}\n",
    "        \n",
    "        if len(memo) != 4:  # less than 4 points\n",
    "            return False\n",
    "        \n",
    "        return self.helper(p1,p3) == self.helper(p2,p4) and self.helper(p1,p4) == self.helper(p2,p3) and self.helper(p1,p2) == self.helper(p3,p4) and (self.helper(p1,p4) == self.helper(p1,p2) or self.helper(p1,p4) == self.helper(p1,p3) or self.helper(p1,p2) == self.helper(p1,p3))\n",
    "        \n",
    "    \n",
    "    \n",
    "    def helper(self, a, b):\n",
    "        \"\"\"\n",
    "        Returns the distance between two points\n",
    "        \"\"\"\n",
    "        return (a[0] - b[0])**2 + (a[1] - b[1])**2"
   ]
  },
  {
   "cell_type": "markdown",
   "metadata": {},
   "source": [
    "## 22. Integer to English Words"
   ]
  },
  {
   "cell_type": "markdown",
   "metadata": {},
   "source": [
    "Convert a non-negative integer to its english words representation. Given input is guaranteed to be less than 231 - 1.\n",
    "\n",
    "Example 1:\n",
    "\n",
    "Input: 123\n",
    "Output: \"One Hundred Twenty Three\"\n",
    "Example 2:\n",
    "\n",
    "Input: 12345\n",
    "Output: \"Twelve Thousand Three Hundred Forty Five\"\n",
    "Example 3:\n",
    "\n",
    "Input: 1234567\n",
    "Output: \"One Million Two Hundred Thirty Four Thousand Five Hundred Sixty Seven\""
   ]
  },
  {
   "cell_type": "code",
   "execution_count": 171,
   "metadata": {},
   "outputs": [],
   "source": [
    "class Solution(object):\n",
    "    def numberToWords(self, num):\n",
    "        \"\"\"\n",
    "        :type num: int\n",
    "        :rtype: str\n",
    "        \"\"\"\n",
    "        self.ONE = [\"\",\"One \",\"Two \",\"Three \",\"Four \",\"Five \",\"Six \",\"Seven \",\"Eight \",\"Nine \"]\n",
    "        self.TEEN = [\"Ten \", \"Eleven \", \"Twelve \",\"Thirteen \",\"Fourteen \",\"Fifteen \",\"Sixteen \",\"Seventeen \",\"Eighteen \",\"Nineteen \"]\n",
    "        self.TEN = [\"\",\"\",\"Twenty \",\"Thirty \",\"Forty \",\"Fifty \",\"Sixty \",\"Seventy \",\"Eighty \",\"Ninety \"]\n",
    "    \n",
    "        if num == 0:\n",
    "            return \"Zero\"\n",
    "        b = self.billion(num)\n",
    "        return b[:len(b)-1]\n",
    "            \n",
    "        \n",
    "    def ten(self, n):\n",
    "        if n < 10:\n",
    "            return self.ONE[n]\n",
    "        if n < 20:\n",
    "            return self.TEEN[n-10]\n",
    "        if n < 100:\n",
    "            return self.TEN[n//10] + self.ONE[n%10]\n",
    "            \n",
    "    def hundred(self, n):\n",
    "        if n < 100:\n",
    "            return self.ten(n)\n",
    "        if n < 1000:\n",
    "            return self.ONE[n//100] + \"Hundred \" + self.ten(n%100)\n",
    "\n",
    "    def thousand(self, n):\n",
    "        if n < 1000:\n",
    "            return self.hundred(n)\n",
    "        if n < 1000000:\n",
    "            return self.hundred(n//1000) + \"Thousand \" + self.hundred(n%1000)\n",
    "            \n",
    "    def million(self, n):\n",
    "        if n < 1000000:\n",
    "            return self.thousand(n)\n",
    "        if n < 1000000000:\n",
    "            return self.hundred(n//1000000) + \"Million \" + self.thousand(n%1000000)\n",
    "\n",
    "    def billion(self, n):\n",
    "        if n < 1000000000:\n",
    "            return self.million(n)\n",
    "        if n < 3000000000:\n",
    "            return self.ONE[n//1000000000] + \"Billion \" + self.million(n%1000000000)\n",
    "        "
   ]
  },
  {
   "cell_type": "code",
   "execution_count": null,
   "metadata": {},
   "outputs": [],
   "source": []
  },
  {
   "cell_type": "markdown",
   "metadata": {},
   "source": [
    "## 23. LRU Cache"
   ]
  },
  {
   "cell_type": "markdown",
   "metadata": {},
   "source": [
    "Design and implement a data structure for Least Recently Used (LRU) cache. It should support the following operations: get and put.\n",
    "\n",
    "get(key) - Get the value (will always be positive) of the key if the key exists in the cache, otherwise return -1.\n",
    "put(key, value) - Set or insert the value if the key is not already present. When the cache reached its capacity, it should invalidate the least recently used item before inserting a new item.\n",
    "\n",
    "The cache is initialized with a positive capacity.\n",
    "\n",
    "Follow up:\n",
    "Could you do both operations in O(1) time complexity?\n",
    "\n",
    "Example:\n",
    "\n",
    "LRUCache cache = new LRUCache( 2 /* capacity */ );\n",
    "\n",
    "cache.put(1, 1);\n",
    "cache.put(2, 2);\n",
    "cache.get(1);       // returns 1\n",
    "cache.put(3, 3);    // evicts key 2\n",
    "cache.get(2);       // returns -1 (not found)\n",
    "cache.put(4, 4);    // evicts key 1\n",
    "cache.get(1);       // returns -1 (not found)\n",
    "cache.get(3);       // returns 3\n",
    "cache.get(4);       // returns 4\n"
   ]
  },
  {
   "cell_type": "code",
   "execution_count": 1,
   "metadata": {},
   "outputs": [],
   "source": [
    "class LRUCache:\n",
    "\n",
    "    def __init__(self, capacity: int):\n",
    "        \"\"\"\n",
    "        :type capacity: int\n",
    "        \"\"\"\n",
    "        self.d = collections.OrderedDict()\n",
    "        self.capacity = capacity  \n",
    "\n",
    "    def get(self, key: int) -> int:\n",
    "        if key in self.d.keys():\n",
    "            self.d.move_to_end(key)\n",
    "            return self.d[key]\n",
    "        else:\n",
    "            return -1\n",
    "\n",
    "    def put(self, key: int, value: int) -> None:\n",
    "        \n",
    "        # if key in list already, move it to the end\n",
    "        if key in self.d.keys():\n",
    "            self.d.move_to_end(key)\n",
    "        \n",
    "        # otherwise add it to the list at the end \n",
    "        self.d[key] = value\n",
    "        \n",
    "        # check if the list is greater than the capacity , drop at first pos\n",
    "        if len(self.d.keys()) > self.capacity:\n",
    "            self.d.popitem(last=False) # remove first element\n",
    "\n",
    "\n",
    "# Your LRUCache object will be instantiated and called as such:\n",
    "# obj = LRUCache(capacity)\n",
    "# param_1 = obj.get(key)\n",
    "# obj.put(key,value)\n"
   ]
  },
  {
   "cell_type": "markdown",
   "metadata": {},
   "source": [
    "### 24. Sliding Window Maximum"
   ]
  },
  {
   "cell_type": "markdown",
   "metadata": {},
   "source": [
    "Given an array nums, there is a sliding window of size k which is moving from the very left of the array to the very right. You can only see the k numbers in the window. Each time the sliding window moves right by one position. Return the max sliding window.\n",
    "\n",
    "Example:\n",
    "\n",
    "Input: nums = [1,3,-1,-3,5,3,6,7], and k = 3\n",
    "Output: [3,3,5,5,6,7] \n",
    "Explanation: \n",
    "\n",
    "Window position                Max\n",
    "---------------               -----\n",
    "[1  3  -1] -3  5  3  6  7       3\n",
    " 1 [3  -1  -3] 5  3  6  7       3\n",
    " 1  3 [-1  -3  5] 3  6  7       5\n",
    " 1  3  -1 [-3  5  3] 6  7       5\n",
    " 1  3  -1  -3 [5  3  6] 7       6\n",
    " 1  3  -1  -3  5 [3  6  7]      7"
   ]
  },
  {
   "cell_type": "code",
   "execution_count": 3,
   "metadata": {},
   "outputs": [],
   "source": [
    "class Solution:\n",
    "    def maxSlidingWindow(self, nums, k):\n",
    "        \n",
    "        if nums==[]:\n",
    "            return []\n",
    "        if len(nums)<k:\n",
    "            return []\n",
    "        if len(nums)==k:\n",
    "            return [max(nums)]\n",
    "        \n",
    "        ans = []\n",
    "        \n",
    "        for i in range(len(nums)-k+1):\n",
    "            mx = -1\n",
    "            for j in range(i,i+k):\n",
    "                if mx<nums[j]:\n",
    "                    mx = nums[j]\n",
    "            \n",
    "            ans.append(mx)\n",
    "            \n",
    "        return ans\n",
    "            \n",
    "# O(n^2)"
   ]
  },
  {
   "cell_type": "code",
   "execution_count": 5,
   "metadata": {},
   "outputs": [],
   "source": [
    "# in linear time : using dictionary \n",
    "\n",
    "class Solution:\n",
    "    def maxSlidingWindow(self, nums, k):\n",
    "        \n",
    "        if nums==[]:\n",
    "            return []\n",
    "        if len(nums)<k:\n",
    "            return []\n",
    "        if len(nums)==k:\n",
    "            return [max(nums)]\n",
    "         \n",
    "        d= dict()\n",
    "        for i in range(len(nums)-k+1):\n",
    "            d[tuple(nums[i:i+k])]=max(nums[i:i+k])\n",
    "        \n",
    "        return list(d.values())\n",
    "            "
   ]
  },
  {
   "cell_type": "markdown",
   "metadata": {},
   "source": [
    "### 25. Random Pick with Weight"
   ]
  },
  {
   "cell_type": "markdown",
   "metadata": {},
   "source": [
    "Given an array w of positive integers, where w[i] describes the weight of index i, write a function pickIndex which randomly picks an index in proportion to its weight.\n",
    "\n",
    "Note:\n",
    "\n",
    "1 <= w.length <= 10000\n",
    "1 <= w[i] <= 10^5\n",
    "pickIndex will be called at most 10000 times.\n",
    "Example 1:\n",
    "\n",
    "Input: \n",
    "[\"Solution\",\"pickIndex\"]\n",
    "[[[1]],[]]\n",
    "Output: [null,0]"
   ]
  },
  {
   "cell_type": "code",
   "execution_count": 7,
   "metadata": {},
   "outputs": [],
   "source": [
    "class Solution:\n",
    "\n",
    "    def __init__(self, w):\n",
    "        self.len = len(w)\n",
    "        for i in range(1, len(w)):\n",
    "            w[i] += w[i - 1]\n",
    "        #print(w)\n",
    "        self.cum_sum = w\n",
    "        self.sum = self.cum_sum[-1]\n",
    "        \n",
    "\n",
    "    def pickIndex(self):\n",
    "        #print(\"sum \",self.sum)\n",
    "        #print(\"cum_sum \",self.cum_sum)\n",
    "        \n",
    "        r = random.randint(1, self.sum)\n",
    "        #print(\"r \", r)\n",
    "        \n",
    "        low, high = 0, self.len - 1\n",
    "        while low < high:\n",
    "            mid = (low + high)//2\n",
    "            if r > self.cum_sum[mid]:\n",
    "                low = mid + 1\n",
    "            else:\n",
    "                high = mid\n",
    "        return low\n",
    "        \n",
    "\n",
    "\n",
    "# Your Solution object will be instantiated and called as such:\n",
    "# obj = Solution(w)\n",
    "# param_1 = obj.pickIndex()"
   ]
  },
  {
   "cell_type": "markdown",
   "metadata": {},
   "source": [
    "### 26. Longest Substring Without Repeating Characters"
   ]
  },
  {
   "cell_type": "markdown",
   "metadata": {},
   "source": [
    "Given a string, find the length of the longest substring without repeating characters.\n",
    "\n",
    "Example 1:\n",
    "\n",
    "Input: \"abcabcbb\"\n",
    "Output: 3 \n",
    "Explanation: The answer is \"abc\", with the length of 3. \n",
    "Example 2:\n",
    "\n",
    "Input: \"bbbbb\"\n",
    "Output: 1\n",
    "Explanation: The answer is \"b\", with the length of 1."
   ]
  },
  {
   "cell_type": "code",
   "execution_count": 22,
   "metadata": {},
   "outputs": [],
   "source": [
    "class Solution:\n",
    "    def lengthOfLongestSubstring(self, s):\n",
    "        d = set()\n",
    "        ans = 0\n",
    "        low = 0\n",
    "        high = 0\n",
    "    \n",
    "        while low < len(s) and high < len(s):\n",
    "            if s[high] not in d:\n",
    "                d.add(s[high])\n",
    "                high += 1\n",
    "                \n",
    "                ans = max(ans, high - low)\n",
    "            \n",
    "            else:\n",
    "                d.remove(s[low])\n",
    "                low+=1\n",
    "           \n",
    "        return ans"
   ]
  },
  {
   "cell_type": "markdown",
   "metadata": {},
   "source": [
    "### 27. Spiral Matrix"
   ]
  },
  {
   "cell_type": "markdown",
   "metadata": {},
   "source": [
    "Given a matrix of m x n elements (m rows, n columns), return all elements of the matrix in spiral order.\n",
    "\n",
    "Example 1:\n",
    "\n",
    "Input:\n",
    "[\n",
    " [ 1, 2, 3 ],\n",
    " [ 4, 5, 6 ],\n",
    " [ 7, 8, 9 ]\n",
    "]\n",
    "Output: [1,2,3,6,9,8,7,4,5]\n",
    "Example 2:\n",
    "\n",
    "Input:\n",
    "[\n",
    "  [1, 2, 3, 4],\n",
    "  [5, 6, 7, 8],\n",
    "  [9,10,11,12]\n",
    "]\n",
    "Output: [1,2,3,4,8,12,11,10,9,5,6,7]"
   ]
  },
  {
   "cell_type": "code",
   "execution_count": 23,
   "metadata": {},
   "outputs": [],
   "source": [
    "class Solution:\n",
    "    def spiralOrder(self, matrix):\n",
    "        \n",
    "        r = len(matrix)\n",
    "        \n",
    "        if not r:\n",
    "            return []\n",
    "        \n",
    "        c = len(matrix[0])\n",
    "        if not c:\n",
    "            return []\n",
    "        \n",
    "        # if one row , return the entire row\n",
    "        if r==1:\n",
    "            return matrix[0]\n",
    "        elif c==1:  # if only one column return the entire column\n",
    "            return [matrix[i][0] for i in range(r)]\n",
    "        else:\n",
    "            li1 = [matrix[0][i] for i in range(c-1)] # get 0th row\n",
    "            li2 = [matrix[i][c-1] for i in range(r-1)] # get last column\n",
    "            li3 = [matrix[r-1][i] for i in range(c-1,0,-1)] # get last row\n",
    "            li4 = [matrix[i][0] for i in range(r-1,0,-1)] # get 1st col\n",
    "            ans = li1+li2+li3+li4\n",
    "            \n",
    "            return ans + self.spiralOrder([i[1:c-1] for i in matrix[1:r-1]])"
   ]
  },
  {
   "cell_type": "markdown",
   "metadata": {},
   "source": [
    "### 28. Find the Closest Palindrome"
   ]
  },
  {
   "cell_type": "markdown",
   "metadata": {},
   "source": [
    "Given an integer n, find the closest integer (not including itself), which is a palindrome.\n",
    "\n",
    "The 'closest' is defined as absolute difference minimized between two integers.\n",
    "\n",
    "Example 1:\n",
    "Input: \"123\"\n",
    "Output: \"121\""
   ]
  },
  {
   "cell_type": "code",
   "execution_count": 28,
   "metadata": {},
   "outputs": [],
   "source": [
    "class Solution:\n",
    "    def nearestPalindromic(self, n: str) -> str:\n",
    "        \n",
    "        num = int(n)\n",
    "        \n",
    "        i = 1\n",
    "        \n",
    "        flag = False\n",
    "        while flag!=True:\n",
    "            ans1 = self.palindrome(str(num-i))\n",
    "            ans2 = self.palindrome(str(num+i))\n",
    "            if ans1==True:\n",
    "                return str(num-i)\n",
    "            if ans2==True:\n",
    "                return str(num+i)\n",
    "            \n",
    "            i+=1\n",
    "        \n",
    "    \n",
    "    def palindrome(self, st):\n",
    "        li = [elm for elm in st]\n",
    "        li2 = li[::-1]\n",
    "        \n",
    "        return li==li2\n",
    "\n",
    "# runs slow in leetcode"
   ]
  },
  {
   "cell_type": "code",
   "execution_count": 29,
   "metadata": {},
   "outputs": [],
   "source": [
    "obj = Solution()"
   ]
  },
  {
   "cell_type": "code",
   "execution_count": 31,
   "metadata": {},
   "outputs": [
    {
     "data": {
      "text/plain": [
       "'1986226891'"
      ]
     },
     "execution_count": 31,
     "metadata": {},
     "output_type": "execute_result"
    }
   ],
   "source": [
    "n = \"1986281891\"\n",
    "obj.nearestPalindromic(n)"
   ]
  },
  {
   "cell_type": "markdown",
   "metadata": {},
   "source": [
    "### 29. Word Ladder"
   ]
  },
  {
   "cell_type": "markdown",
   "metadata": {},
   "source": [
    "Given two words (beginWord and endWord), and a dictionary's word list, find the length of shortest transformation sequence from beginWord to endWord, such that:\n",
    "\n",
    "Only one letter can be changed at a time.\n",
    "Each transformed word must exist in the word list. Note that beginWord is not a transformed word.\n",
    "Note:\n",
    "\n",
    "Return 0 if there is no such transformation sequence.\n",
    "All words have the same length.\n",
    "All words contain only lowercase alphabetic characters.\n",
    "You may assume no duplicates in the word list.\n",
    "You may assume beginWord and endWord are non-empty and are not the same.\n",
    "Example 1:\n",
    "\n",
    "Input:\n",
    "beginWord = \"hit\",\n",
    "endWord = \"cog\",\n",
    "wordList = [\"hot\",\"dot\",\"dog\",\"lot\",\"log\",\"cog\"]"
   ]
  },
  {
   "cell_type": "code",
   "execution_count": null,
   "metadata": {},
   "outputs": [],
   "source": [
    "class Solution:\n",
    "    def ladderLength(self, beginWord: str, endWord: str, wordList: List[str]) -> int:\n",
    "        q = collections.OrderedDict()\n",
    "        q[beginWord] = 1\n",
    "        \n",
    "        wordSet = set(wordList)\n",
    "        \n",
    "        while q:\n",
    "            curr_str, curr_distance = q.popitem()\n",
    "            if curr_str == endWord:\n",
    "                return curr_distance\n",
    "            \n",
    "            for i in range(len(curr_str)):\n",
    "                for c in 'abcdefghijklmnopqrstuvwxyz':\n",
    "                    new = curr_str[:i] + c + curr_str[i+1:] # get all combinations of string by \n",
    "                                                            # modifying one character at a time\n",
    "                    if new in wordSet:\n",
    "                        wordSet.remove(new)\n",
    "                        q[new] = curr_distance + 1\n",
    "        return 0\n",
    "    \n",
    "# runs but does not find the least distance alwayrs!"
   ]
  },
  {
   "cell_type": "code",
   "execution_count": null,
   "metadata": {},
   "outputs": [],
   "source": [
    "class Solution:\n",
    "    def ladderLength(self, beginWord: str, endWord: str, wordList: List[str]) -> int:\n",
    "        from collections import namedtuple, deque\n",
    "        StringWithDistance = namedtuple('StringWithDistance', ('str_cand', 'distance'))\n",
    "        q= deque([StringWithDistance(beginWord, 1)])\n",
    "\n",
    "        wordSet = set(wordList)\n",
    "\n",
    "        while q:\n",
    "            curr_str, curr_distance = q.popleft()\n",
    "            if curr_str == endWord:\n",
    "                return curr_distance\n",
    "            for i in range(len(curr_str)):\n",
    "                for c in string.ascii_lowercase:\n",
    "                    adj_str = curr_str[:i] + c + curr_str[i+1:]\n",
    "                    if adj_str in wordSet:\n",
    "                        wordSet.remove(adj_str)\n",
    "                        q.append(StringWithDistance(adj_str, curr_distance + 1))\n",
    "        return 0\n",
    "    \n",
    "# always find the least distance\n",
    "# nderstqnd what is dequeue() is doing here"
   ]
  },
  {
   "cell_type": "markdown",
   "metadata": {},
   "source": [
    "### 30. Letter Combinations of a Phone Number"
   ]
  },
  {
   "cell_type": "markdown",
   "metadata": {},
   "source": [
    "Given a string containing digits from 2-9 inclusive, return all possible letter combinations that the number could represent.\n",
    "\n",
    "A mapping of digit to letters (just like on the telephone buttons) is given below. Note that 1 does not map to any letters.\n",
    "\n",
    "\n",
    "\n",
    "Example:\n",
    "\n",
    "Input: \"23\"\n",
    "Output: [\"ad\", \"ae\", \"af\", \"bd\", \"be\", \"bf\", \"cd\", \"ce\", \"cf\"]."
   ]
  },
  {
   "cell_type": "code",
   "execution_count": null,
   "metadata": {},
   "outputs": [],
   "source": [
    "class Solution:\n",
    "    def letterCombinations(self, digits: str) -> List[str]:\n",
    "        d = {'2':'abc',\n",
    "             '3':'def',\n",
    "             '4':'ghi',\n",
    "             '5':'jkl',\n",
    "             '6':'mno',\n",
    "             '7':'pqrs',\n",
    "             '8':'tuv',\n",
    "             '9':'wxyz'\n",
    "            }\n",
    "        \n",
    "        output = []\n",
    "        if digits:\n",
    "            self.backtrack(\"\", digits, output, d)\n",
    "        \n",
    "        return output\n",
    "        \n",
    "        \n",
    "    def backtrack(self, combination, next_digits, output, d):\n",
    "        if len(next_digits) == 0:\n",
    "            output.append(combination)\n",
    "        else:\n",
    "            for letter in d[next_digits[0]]:\n",
    "                self.backtrack(combination + letter, next_digits[1:], output, d)\n",
    "                    \n",
    "        "
   ]
  },
  {
   "cell_type": "markdown",
   "metadata": {},
   "source": [
    "### 31. Regular Expression Matching"
   ]
  },
  {
   "cell_type": "markdown",
   "metadata": {},
   "source": [
    "Given an input string (s) and a pattern (p), implement regular expression matching with support for '.' and '*'.\n",
    "\n",
    "'.' Matches any single character.\n",
    "'*' Matches zero or more of the preceding element.\n",
    "The matching should cover the entire input string (not partial).\n",
    "\n",
    "Note:\n",
    "\n",
    "s could be empty and contains only lowercase letters a-z.\n",
    "p could be empty and contains only lowercase letters a-z, and characters like . or *.\n",
    "Example 1:\n",
    "\n",
    "Input:\n",
    "s = \"aa\"\n",
    "p = \"a\"\n",
    "Output: false\n",
    "Explanation: \"a\" does not match the entire string \"aa\"."
   ]
  },
  {
   "cell_type": "code",
   "execution_count": 41,
   "metadata": {},
   "outputs": [],
   "source": [
    "class Solution:\n",
    "    def isMatch(self, text: str, pattern: str) -> bool:\n",
    "        if not pattern:\n",
    "            return not text\n",
    "\n",
    "        # when when char is matching text[0] or its a dot whoch matches everything\n",
    "        first_match = bool(text) and pattern[0] in [text[0], '.']\n",
    "\n",
    "        # \n",
    "        if len(pattern) >= 2 and pattern[1] == '*':\n",
    "            return (self.isMatch(text, pattern[2:]) or\n",
    "                    first_match and self.isMatch(text[1:], pattern))\n",
    "        else:\n",
    "            return first_match and self.isMatch(text[1:], pattern[1:])\n",
    "        "
   ]
  },
  {
   "cell_type": "markdown",
   "metadata": {},
   "source": [
    "### 32. Longest Palindromic Substring"
   ]
  },
  {
   "cell_type": "code",
   "execution_count": null,
   "metadata": {},
   "outputs": [],
   "source": [
    "Given a string s, find the longest palindromic substring in s. You may assume that the maximum length of s is 1000.\n",
    "\n",
    "Example 1:\n",
    "\n",
    "Input: \"babad\"\n",
    "Output: \"bab\"\n",
    "Note: \"aba\" is also a valid answer.\n",
    "Example 2:\n",
    "\n",
    "Input: \"cbbd\"\n",
    "Output: \"bb\""
   ]
  },
  {
   "cell_type": "code",
   "execution_count": null,
   "metadata": {},
   "outputs": [],
   "source": [
    "class Solution:\n",
    "    def longestPalindrome(self, s: str) -> str:\n",
    "        if len(s)<2:\n",
    "            return s\n",
    "        \n",
    "        ans = []\n",
    "        \n",
    "        for j in range(1, len(s)+1):\n",
    "            for i in range(j):\n",
    "                #print(s[i:j])\n",
    "                if self.palindrome(s[i:j]):\n",
    "                    ans.append(s[i:j])\n",
    "                #print(ans)\n",
    "        \n",
    "        return max(ans, key=len)\n",
    "        #return s[left: right+1]    \n",
    "        \n",
    "        \n",
    "    def palindrome(self, s):\n",
    "        return s==s[::-1]"
   ]
  },
  {
   "cell_type": "code",
   "execution_count": null,
   "metadata": {},
   "outputs": [],
   "source": []
  },
  {
   "cell_type": "code",
   "execution_count": null,
   "metadata": {},
   "outputs": [],
   "source": []
  },
  {
   "cell_type": "code",
   "execution_count": null,
   "metadata": {},
   "outputs": [],
   "source": []
  },
  {
   "cell_type": "code",
   "execution_count": null,
   "metadata": {},
   "outputs": [],
   "source": []
  },
  {
   "cell_type": "code",
   "execution_count": null,
   "metadata": {},
   "outputs": [],
   "source": []
  },
  {
   "cell_type": "code",
   "execution_count": null,
   "metadata": {},
   "outputs": [],
   "source": []
  }
 ],
 "metadata": {
  "kernelspec": {
   "display_name": "Python 3",
   "language": "python",
   "name": "python3"
  },
  "language_info": {
   "codemirror_mode": {
    "name": "ipython",
    "version": 3
   },
   "file_extension": ".py",
   "mimetype": "text/x-python",
   "name": "python",
   "nbconvert_exporter": "python",
   "pygments_lexer": "ipython3",
   "version": "3.6.8"
  }
 },
 "nbformat": 4,
 "nbformat_minor": 2
}
