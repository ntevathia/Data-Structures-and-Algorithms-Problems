{
 "cells": [
  {
   "cell_type": "markdown",
   "metadata": {},
   "source": [
    "### Best Time to Buy and Sell Stock"
   ]
  },
  {
   "cell_type": "markdown",
   "metadata": {},
   "source": [
    "Say you have an array for which the ith element is the price of a given stock on day i.\n",
    "\n",
    "If you were only permitted to complete at most one transaction (i.e., buy one and sell one share of the stock), design an algorithm to find the maximum profit.\n",
    "\n",
    "Note that you cannot sell a stock before you buy one.\n",
    "\n",
    "Example 1:\n",
    "\n",
    "Input: [7,1,5,3,6,4]\n",
    "Output: 5\n",
    "Explanation: Buy on day 2 (price = 1) and sell on day 5 (price = 6), profit = 6-1 = 5.\n",
    "             Not 7-1 = 6, as selling price needs to be larger than buying price.\n",
    "Example 2:\n",
    "\n",
    "Input: [7,6,4,3,1]\n",
    "Output: 0\n",
    "Explanation: In this case, no transaction is done, i.e. max profit = 0."
   ]
  },
  {
   "cell_type": "code",
   "execution_count": 1,
   "metadata": {},
   "outputs": [],
   "source": [
    "class Solution:\n",
    "    def maxProfit(self, prices):\n",
    "        # profit = sell - buy\n",
    "        if len(prices) == 0:\n",
    "            return 0\n",
    "        buy_min = prices[0]\n",
    "        profit = 0\n",
    "        \n",
    "        for sell in prices:\n",
    "            profit = max(profit, sell-buy_min)\n",
    "            buy_min = min(buy_min, sell)\n",
    "        \n",
    "        return profit\n",
    "# time complexity : O(n)"
   ]
  },
  {
   "cell_type": "markdown",
   "metadata": {},
   "source": [
    "### Climbing Stairs"
   ]
  },
  {
   "cell_type": "markdown",
   "metadata": {},
   "source": [
    "You are climbing a stair case. It takes n steps to reach to the top.\n",
    "\n",
    "Each time you can either climb 1 or 2 steps. In how many distinct ways can you climb to the top?\n",
    "\n",
    "Note: Given n will be a positive integer.\n",
    "\n",
    "Example 1:\n",
    "\n",
    "Input: 2\n",
    "Output: 2\n",
    "Explanation: There are two ways to climb to the top.\n",
    "1. 1 step + 1 step\n",
    "2. 2 steps\n",
    "Example 2:\n",
    "\n",
    "Input: 3\n",
    "Output: 3\n",
    "Explanation: There are three ways to climb to the top.\n",
    "1. 1 step + 1 step + 1 step\n",
    "2. 1 step + 2 steps\n",
    "3. 2 steps + 1 step"
   ]
  },
  {
   "cell_type": "code",
   "execution_count": 2,
   "metadata": {},
   "outputs": [],
   "source": [
    "class Solution:\n",
    "    def climbStairs(self, n):\n",
    "        # its similar to fibonnaci series\n",
    "        \n",
    "        climb = [0, 1, 2]\n",
    "        \n",
    "        for i in range(3,n+1):\n",
    "            climb.append(climb[i-1] + climb[i-2])\n",
    "            \n",
    "        return climb[n]\n",
    "# time complexity : O(n)          "
   ]
  },
  {
   "cell_type": "code",
   "execution_count": null,
   "metadata": {},
   "outputs": [],
   "source": []
  },
  {
   "cell_type": "code",
   "execution_count": null,
   "metadata": {},
   "outputs": [],
   "source": []
  },
  {
   "cell_type": "code",
   "execution_count": null,
   "metadata": {},
   "outputs": [],
   "source": []
  },
  {
   "cell_type": "code",
   "execution_count": null,
   "metadata": {},
   "outputs": [],
   "source": []
  },
  {
   "cell_type": "code",
   "execution_count": null,
   "metadata": {},
   "outputs": [],
   "source": []
  }
 ],
 "metadata": {
  "kernelspec": {
   "display_name": "Python 3",
   "language": "python",
   "name": "python3"
  },
  "language_info": {
   "codemirror_mode": {
    "name": "ipython",
    "version": 3
   },
   "file_extension": ".py",
   "mimetype": "text/x-python",
   "name": "python",
   "nbconvert_exporter": "python",
   "pygments_lexer": "ipython3",
   "version": "3.6.8"
  }
 },
 "nbformat": 4,
 "nbformat_minor": 2
}
