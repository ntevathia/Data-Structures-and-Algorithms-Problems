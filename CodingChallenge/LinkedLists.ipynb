{
 "cells": [
  {
   "cell_type": "markdown",
   "metadata": {},
   "source": [
    "### Traversing the list in reverse order"
   ]
  },
  {
   "cell_type": "markdown",
   "metadata": {},
   "source": [
    "O(n^2)"
   ]
  },
  {
   "cell_type": "code",
   "execution_count": 164,
   "metadata": {},
   "outputs": [],
   "source": [
    "class Node:\n",
    "    def __init__(self, value):\n",
    "        self.value = value\n",
    "        self.next = None"
   ]
  },
  {
   "cell_type": "code",
   "execution_count": 192,
   "metadata": {},
   "outputs": [],
   "source": [
    "head = Node(10)\n",
    "a = Node(20)\n",
    "head.next = a\n",
    "b = Node(30)\n",
    "a.next = b\n",
    "c = Node(40)\n",
    "b.next = c\n",
    "d = Node(50)\n",
    "c.next = d\n",
    "tail = d"
   ]
  },
  {
   "cell_type": "code",
   "execution_count": 169,
   "metadata": {},
   "outputs": [],
   "source": [
    "def traversal(head):\n",
    "    cur = head\n",
    "    while cur!=None:\n",
    "        print(cur.value)\n",
    "        cur=cur.next\n",
    "        "
   ]
  },
  {
   "cell_type": "code",
   "execution_count": 170,
   "metadata": {},
   "outputs": [
    {
     "name": "stdout",
     "output_type": "stream",
     "text": [
      "10\n",
      "20\n",
      "30\n",
      "40\n",
      "50\n"
     ]
    }
   ],
   "source": [
    "traversal(head)"
   ]
  },
  {
   "cell_type": "code",
   "execution_count": 25,
   "metadata": {},
   "outputs": [],
   "source": [
    "def reverse_traversal(head, tail):\n",
    "    cur = tail\n",
    "    while cur!=head:\n",
    "        prev=head\n",
    "        print(cur.value)\n",
    "        while prev.next!=cur:\n",
    "            prev = prev.next\n",
    "        cur = prev\n",
    "    print(cur.value)\n",
    "    "
   ]
  },
  {
   "cell_type": "code",
   "execution_count": 26,
   "metadata": {},
   "outputs": [
    {
     "name": "stdout",
     "output_type": "stream",
     "text": [
      "40\n",
      "30\n",
      "20\n",
      "10\n"
     ]
    }
   ],
   "source": [
    "reverse_traversal(head, tail)"
   ]
  },
  {
   "cell_type": "markdown",
   "metadata": {},
   "source": [
    "### Insertion in doubly linked list (at tail)"
   ]
  },
  {
   "cell_type": "code",
   "execution_count": 117,
   "metadata": {},
   "outputs": [],
   "source": [
    "class DoubleNode:\n",
    "    def __init__(self, value):\n",
    "        self.left=None\n",
    "        self.value=value\n",
    "        self.right=None"
   ]
  },
  {
   "cell_type": "code",
   "execution_count": 156,
   "metadata": {},
   "outputs": [],
   "source": [
    "dhead = DoubleNode(10)\n",
    "a = DoubleNode(20)\n",
    "dhead.right = a\n",
    "b = DoubleNode(30)\n",
    "a.right = b\n",
    "a.left = dhead\n",
    "c = DoubleNode(40)\n",
    "b.right = c\n",
    "b.left = a\n",
    "c.left = b\n",
    "tail = c"
   ]
  },
  {
   "cell_type": "code",
   "execution_count": 157,
   "metadata": {},
   "outputs": [],
   "source": [
    "def double_traversal(head):\n",
    "    cur = head\n",
    "    while cur!=None:\n",
    "        print(cur.value)\n",
    "        cur=cur.right"
   ]
  },
  {
   "cell_type": "code",
   "execution_count": 158,
   "metadata": {},
   "outputs": [
    {
     "name": "stdout",
     "output_type": "stream",
     "text": [
      "10\n",
      "20\n",
      "30\n",
      "40\n"
     ]
    }
   ],
   "source": [
    "double_traversal(dhead)"
   ]
  },
  {
   "cell_type": "code",
   "execution_count": 159,
   "metadata": {},
   "outputs": [],
   "source": [
    "def double_insertion(head, tail, value):\n",
    "    node = DoubleNode(value)\n",
    "    if head==None:\n",
    "        head = node\n",
    "        tail = node\n",
    "    else:\n",
    "        tail.right = node\n",
    "        node.left = tail\n",
    "        tail = node\n",
    "    return head,tail"
   ]
  },
  {
   "cell_type": "code",
   "execution_count": 160,
   "metadata": {},
   "outputs": [],
   "source": [
    "head, tail = double_insertion(dhead, tail, 80)"
   ]
  },
  {
   "cell_type": "code",
   "execution_count": 161,
   "metadata": {},
   "outputs": [
    {
     "name": "stdout",
     "output_type": "stream",
     "text": [
      "10\n",
      "20\n",
      "30\n",
      "40\n",
      "80\n"
     ]
    }
   ],
   "source": [
    "double_traversal(head)"
   ]
  },
  {
   "cell_type": "code",
   "execution_count": 114,
   "metadata": {},
   "outputs": [],
   "source": [
    "def double_Deletion(head, tail, value):\n",
    "    if head==None:  # empty list\n",
    "        print(\"empty list!\")\n",
    "        return head, tail\n",
    "    if head.value==value:\n",
    "        if head==tail:  # if only one element present and that is key\n",
    "            head = None\n",
    "            tail = None\n",
    "            return head, tail\n",
    "        else:           # head is matching\n",
    "            head = head.right\n",
    "            head.left = None\n",
    "            return head, tail\n",
    "    # when element is last or anywhere in between\n",
    "    cur = head\n",
    "    while cur.right!=None and cur.value!=value:\n",
    "        cur = cur.right\n",
    "    if tail==cur and tail.value==value:    # value is in tail\n",
    "        tail = tail.left\n",
    "        tail.right = None\n",
    "        return head, tail\n",
    "    elif cur.right!=None:    # in between\n",
    "        cur.left.right = cur.right\n",
    "        cur.right.left = cur.left\n",
    "        return head, tail    \n",
    "    \n",
    "    print(\"Not found!!\")\n",
    "    return head, tail\n"
   ]
  },
  {
   "cell_type": "code",
   "execution_count": 115,
   "metadata": {},
   "outputs": [
    {
     "name": "stdout",
     "output_type": "stream",
     "text": [
      "empty list!\n"
     ]
    }
   ],
   "source": [
    "head, tail = double_Deletion(head, tail, 60)"
   ]
  },
  {
   "cell_type": "code",
   "execution_count": 116,
   "metadata": {},
   "outputs": [],
   "source": [
    "double_traversal(head)"
   ]
  },
  {
   "cell_type": "markdown",
   "metadata": {},
   "source": [
    "### Reverse traversal with doubly linked list"
   ]
  },
  {
   "cell_type": "code",
   "execution_count": 162,
   "metadata": {},
   "outputs": [],
   "source": [
    "def double_reverse(head, tail):\n",
    "    cur = tail\n",
    "    while cur!=None:\n",
    "        print(cur.value)\n",
    "        cur = cur.left"
   ]
  },
  {
   "cell_type": "code",
   "execution_count": 163,
   "metadata": {},
   "outputs": [
    {
     "name": "stdout",
     "output_type": "stream",
     "text": [
      "80\n",
      "40\n",
      "30\n",
      "20\n",
      "10\n"
     ]
    }
   ],
   "source": [
    "double_reverse(head, tail)"
   ]
  },
  {
   "cell_type": "markdown",
   "metadata": {},
   "source": [
    "Linked lists are not very good for is random insertion, accessing nodes by index, and searching."
   ]
  },
  {
   "cell_type": "markdown",
   "metadata": {},
   "source": [
    "### Reverse a Linked List in groups of given size"
   ]
  },
  {
   "cell_type": "code",
   "execution_count": 210,
   "metadata": {},
   "outputs": [
    {
     "name": "stdout",
     "output_type": "stream",
     "text": [
      "10\n",
      "20\n",
      "30\n",
      "40\n",
      "50\n",
      "60\n",
      "70\n"
     ]
    }
   ],
   "source": [
    "head = Node(10)\n",
    "a = Node(20)\n",
    "head.next = a\n",
    "b = Node(30)\n",
    "a.next = b\n",
    "c = Node(40)\n",
    "b.next = c\n",
    "d = Node(50)\n",
    "c.next = d\n",
    "e = Node(60)\n",
    "d.next = e\n",
    "f = Node(70)\n",
    "e.next = f\n",
    "tail = f\n",
    "traversal(head)"
   ]
  },
  {
   "cell_type": "markdown",
   "metadata": {},
   "source": [
    "Inputs:  1->2->3->4->5->6->7->8->NULL and k = 3  <br>\n",
    "Output:  3->2->1->6->5->4->8->7->NULL. "
   ]
  },
  {
   "cell_type": "code",
   "execution_count": 211,
   "metadata": {},
   "outputs": [],
   "source": [
    "def group_reverse(head, k):\n",
    "    cur = head\n",
    "    count = 0\n",
    "    nxt = None\n",
    "    prev = None\n",
    "    while count<k and cur!=None:\n",
    "        \n",
    "        nxt = cur.next\n",
    "        cur.next = prev\n",
    "        prev = cur\n",
    "        cur = nxt\n",
    "        count += 1\n",
    "    \n",
    "    if nxt!=None:  # reverse on remaining elements and connect with earlier reversed list\n",
    "        head.next = group_reverse(nxt, k)\n",
    "    \n",
    "    return prev"
   ]
  },
  {
   "cell_type": "code",
   "execution_count": 212,
   "metadata": {},
   "outputs": [],
   "source": [
    "head = group_reverse(head, 3)"
   ]
  },
  {
   "cell_type": "code",
   "execution_count": 213,
   "metadata": {},
   "outputs": [
    {
     "name": "stdout",
     "output_type": "stream",
     "text": [
      "30\n",
      "20\n",
      "10\n",
      "60\n",
      "50\n",
      "40\n",
      "70\n"
     ]
    }
   ],
   "source": [
    "traversal(head)"
   ]
  },
  {
   "cell_type": "markdown",
   "metadata": {},
   "source": [
    "### Flatten a Multilevel Doubly Linked List"
   ]
  },
  {
   "cell_type": "markdown",
   "metadata": {},
   "source": [
    "You are given a doubly linked list which in addition to the next and previous pointers, it could have a child pointer, which may or may not point to a separate doubly linked list. These child lists may have one or more children of their own, and so on, to produce a multilevel data structure, as shown in the example below.\n",
    "\n",
    "Flatten the list so that all the nodes appear in a single-level, doubly linked list. You are given the head of the first level of the list."
   ]
  },
  {
   "cell_type": "code",
   "execution_count": 229,
   "metadata": {},
   "outputs": [],
   "source": [
    "class Node:\n",
    "    def __init__(self, val):\n",
    "        self.val = val\n",
    "        self.prev = None\n",
    "        self.next = None\n",
    "        self.child = None"
   ]
  },
  {
   "cell_type": "code",
   "execution_count": null,
   "metadata": {},
   "outputs": [],
   "source": [
    "# fails in some edge cases\n",
    "class Solution:\n",
    "    def flatten(self, head: 'Node') -> 'Node':\n",
    "        \n",
    "        cur = head\n",
    "        \n",
    "        while cur.child==None and cur.next!=None:\n",
    "            cur = cur.next\n",
    "            \n",
    "        if cur.next!=None:\n",
    "            \n",
    "            child = cur.child\n",
    "            while child.next!=None:\n",
    "                child = child.next\n",
    "            \n",
    "            right_side = self.flatten(cur.next)\n",
    "            if right_side!=None:\n",
    "                child.next=right_side\n",
    "                right_side.prev=child\n",
    "            \n",
    "            child_head = self.flatten(cur.child)\n",
    "            cur.next = child_head\n",
    "            child_head.prev = cur\n",
    "            cur.child = None\n",
    "        \n",
    "        \n",
    "        return head "
   ]
  },
  {
   "cell_type": "markdown",
   "metadata": {},
   "source": [
    "### Odd Even Linked List"
   ]
  },
  {
   "cell_type": "markdown",
   "metadata": {},
   "source": [
    "Given a singly linked list, group all odd nodes together followed by the even nodes. Please note here we are talking about the node number and not the value in the nodes.\n",
    "\n",
    "You should try to do it in place. The program should run in O(1) space complexity and O(nodes) time complexity.\n",
    "\n",
    "Example 1:\n",
    "\n",
    "Input: 1->2->3->4->5->NULL\n",
    "Output: 1->3->5->2->4->NULL\n",
    "Example 2:\n",
    "\n",
    "Input: 2->1->3->5->6->4->7->NULL\n",
    "Output: 2->3->6->7->1->5->4->NULL"
   ]
  },
  {
   "cell_type": "code",
   "execution_count": 232,
   "metadata": {},
   "outputs": [],
   "source": [
    "# Definition for singly-linked list.\n",
    "# class ListNode:\n",
    "#     def __init__(self, x):\n",
    "#         self.val = x\n",
    "#         self.next = None\n",
    "\n",
    "class Solution:\n",
    "    def oddEvenList(self, head):\n",
    "        if head==None:\n",
    "            return head\n",
    "        \n",
    "        odd = head\n",
    "        even_head = head.next\n",
    "        even = head.next\n",
    "        \n",
    "        while even!=None and even.next!=None:\n",
    "            odd.next = even.next\n",
    "            odd = odd.next\n",
    "            even.next=odd.next\n",
    "            even = even.next\n",
    "        \n",
    "        odd.next = even_head\n",
    "        \n",
    "        return head\n",
    "        "
   ]
  },
  {
   "cell_type": "markdown",
   "metadata": {},
   "source": [
    "### Next Greater Node In Linked List"
   ]
  },
  {
   "cell_type": "markdown",
   "metadata": {},
   "source": [
    "We are given a linked list with head as the first node.  Let's number the nodes in the list: node_1, node_2, node_3, ... etc.\n",
    "\n",
    "Each node may have a next larger value: for node_i, next_larger(node_i) is the node_j.val such that j > i, node_j.val > node_i.val, and j is the smallest possible choice.  If such a j does not exist, the next larger value is 0.\n",
    "\n",
    "Return an array of integers answer, where answer[i] = next_larger(node_{i+1}).\n",
    "\n",
    "Note that in the example inputs (not outputs) below, arrays such as [2,1,5] represent the serialization of a linked list with a head node value of 2, second node value of 1, and third node value of 5."
   ]
  },
  {
   "cell_type": "code",
   "execution_count": 234,
   "metadata": {},
   "outputs": [],
   "source": [
    "# slow\n",
    "\n",
    "class Solution:\n",
    "    def nextLargerNodes(self, head):\n",
    "        ans = []\n",
    "        prev = head\n",
    "        while prev.next!=None: \n",
    "            cur = prev.next\n",
    "            flag = False\n",
    "            while cur!=None:\n",
    "                if prev.val<cur.val:\n",
    "                    ans.append(cur.val)\n",
    "                    flag = True\n",
    "                    break\n",
    "                cur = cur.next\n",
    "            if flag == False:\n",
    "                ans.append(0)\n",
    "            prev = prev.next\n",
    "        ans.append(0)\n",
    "        return ans       "
   ]
  },
  {
   "cell_type": "code",
   "execution_count": 236,
   "metadata": {},
   "outputs": [],
   "source": [
    "# smart answer:\n",
    "class Solution:\n",
    "    def nextLargerNodes(self, head):\n",
    "        ans = []\n",
    "        stack = []\n",
    "        while head!=None:\n",
    "            while stack and stack[-1][1] < head.val:\n",
    "                indx = stack.pop()[0]\n",
    "                ans[indx] = head.val\n",
    "            \n",
    "            stack.append([len(ans), head.val])\n",
    "            ans.append(0)\n",
    "            head = head.next\n",
    "        \n",
    "        return ans"
   ]
  },
  {
   "cell_type": "markdown",
   "metadata": {},
   "source": [
    "### Add Two Numbers II"
   ]
  },
  {
   "cell_type": "markdown",
   "metadata": {},
   "source": [
    "You are given two non-empty linked lists representing two non-negative integers. The most significant digit comes first and each of their nodes contain a single digit. Add the two numbers and return it as a linked list.\n",
    "\n",
    "You may assume the two numbers do not contain any leading zero, except the number 0 itself.\n",
    "\n",
    "Follow up:\n",
    "What if you cannot modify the input lists? In other words, reversing the lists is not allowed.\n",
    "\n",
    "Example:\n",
    "\n",
    "Input: (7 -> 2 -> 4 -> 3) + (5 -> 6 -> 4)\n",
    "Output: 7 -> 8 -> 0 -> 7"
   ]
  },
  {
   "cell_type": "code",
   "execution_count": 237,
   "metadata": {},
   "outputs": [],
   "source": [
    "class Solution:\n",
    "    def addTwoNumbers(self, l1, l2):\n",
    "        s1, s2 = \"\",\"\"\n",
    "        while l1:\n",
    "            s1= s1 +str(l1.val)\n",
    "            l1 = l1.next\n",
    "        while l2:\n",
    "            s2= s2 +str(l2.val)\n",
    "            l2 = l2.next\n",
    "        \n",
    "        num = int(s1)+int(s2)\n",
    "        sr = str(num)\n",
    "        \n",
    "        ll = ListNode(0)\n",
    "        cur = ll\n",
    "\n",
    "        for i in range(len(sr)):\n",
    "            cur.next = ListNode(sr[i])\n",
    "            cur = cur.next\n",
    "\n",
    "        return ll.next\n"
   ]
  },
  {
   "cell_type": "code",
   "execution_count": null,
   "metadata": {},
   "outputs": [],
   "source": []
  }
 ],
 "metadata": {
  "kernelspec": {
   "display_name": "Python 3",
   "language": "python",
   "name": "python3"
  },
  "language_info": {
   "codemirror_mode": {
    "name": "ipython",
    "version": 3
   },
   "file_extension": ".py",
   "mimetype": "text/x-python",
   "name": "python",
   "nbconvert_exporter": "python",
   "pygments_lexer": "ipython3",
   "version": "3.6.8"
  }
 },
 "nbformat": 4,
 "nbformat_minor": 2
}
