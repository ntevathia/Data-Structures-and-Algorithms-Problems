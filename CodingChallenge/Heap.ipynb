{
 "cells": [
  {
   "cell_type": "markdown",
   "metadata": {},
   "source": [
    "### Min Heap Insertion"
   ]
  },
  {
   "cell_type": "code",
   "execution_count": 14,
   "metadata": {},
   "outputs": [],
   "source": [
    "def minHeap_Insertion(heap, value):\n",
    "    if len(heap)==0:\n",
    "        heap.append(value)\n",
    "        return heap\n",
    "    else:\n",
    "        heap.append(value)\n",
    "        i = len(heap)-1\n",
    "        while i>0 and heap[(i-1)//2] > heap[i]:\n",
    "            heap[(i-1)//2], heap[i] = heap[i], heap[(i-1)//2]\n",
    "            i = (i-1)//2\n",
    "    return heap"
   ]
  },
  {
   "cell_type": "code",
   "execution_count": 23,
   "metadata": {},
   "outputs": [],
   "source": [
    "heap = []"
   ]
  },
  {
   "cell_type": "code",
   "execution_count": 98,
   "metadata": {},
   "outputs": [
    {
     "data": {
      "text/plain": [
       "[1, 12, 3, 9, 7, 8, 8]"
      ]
     },
     "execution_count": 98,
     "metadata": {},
     "output_type": "execute_result"
    }
   ],
   "source": [
    "minHeap_Insertion(heap, 3)"
   ]
  },
  {
   "cell_type": "markdown",
   "metadata": {},
   "source": [
    "### Deletion"
   ]
  },
  {
   "cell_type": "code",
   "execution_count": 99,
   "metadata": {},
   "outputs": [],
   "source": [
    "def minHeap_Deletion(heap, value):\n",
    "    if len(heap)==0:\n",
    "        print(\"empty heap!\")\n",
    "        return \n",
    "    # find index of value\n",
    "    if value not in heap:\n",
    "        print(\"value not in heap\")\n",
    "        return\n",
    "    \n",
    "    indx = heap.index(value)\n",
    "    heap[indx] = heap.pop()\n",
    "    print(heap)\n",
    "    \n",
    "    left = 2*indx+1\n",
    "    right = 2*indx+1\n",
    "    \n",
    "    # maintain heap properties: Heapify\n",
    "    while indx>=0 and left<=len(heap)-1 and right<=len(heap)-1 and (heap[indx]>heap[left] or heap[indx]>heap[right]):\n",
    "        if heap[left]>heap[right]:\n",
    "            heap[indx], heap[right] = heap[right], heap[indx]\n",
    "            indx = left\n",
    "        elif heap[left]<heap[right]:\n",
    "            heap[indx], heap[left] = heap[left], heap[indx]\n",
    "            indx = right\n",
    "        left = 2*indx+1\n",
    "        right = 2*indx+1\n",
    "    \n",
    "    \n",
    "    return heap"
   ]
  },
  {
   "cell_type": "code",
   "execution_count": 100,
   "metadata": {},
   "outputs": [
    {
     "data": {
      "text/plain": [
       "[1, 12, 3, 9, 7, 8, 8]"
      ]
     },
     "execution_count": 100,
     "metadata": {},
     "output_type": "execute_result"
    }
   ],
   "source": [
    "heap"
   ]
  },
  {
   "cell_type": "code",
   "execution_count": 102,
   "metadata": {},
   "outputs": [
    {
     "name": "stdout",
     "output_type": "stream",
     "text": [
      "[1, 12, 8, 9, 7]\n"
     ]
    },
    {
     "data": {
      "text/plain": [
       "[1, 12, 8, 9, 7]"
      ]
     },
     "execution_count": 102,
     "metadata": {},
     "output_type": "execute_result"
    }
   ],
   "source": [
    "minHeap_Deletion(heap, 8)"
   ]
  },
  {
   "cell_type": "code",
   "execution_count": null,
   "metadata": {},
   "outputs": [],
   "source": []
  }
 ],
 "metadata": {
  "kernelspec": {
   "display_name": "Python 3",
   "language": "python",
   "name": "python3"
  },
  "language_info": {
   "codemirror_mode": {
    "name": "ipython",
    "version": 3
   },
   "file_extension": ".py",
   "mimetype": "text/x-python",
   "name": "python",
   "nbconvert_exporter": "python",
   "pygments_lexer": "ipython3",
   "version": "3.6.8"
  }
 },
 "nbformat": 4,
 "nbformat_minor": 2
}
