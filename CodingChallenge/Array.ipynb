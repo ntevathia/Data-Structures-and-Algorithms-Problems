{
 "cells": [
  {
   "cell_type": "markdown",
   "metadata": {},
   "source": [
    "### Array functions"
   ]
  },
  {
   "cell_type": "code",
   "execution_count": 1,
   "metadata": {},
   "outputs": [],
   "source": [
    "import array"
   ]
  },
  {
   "cell_type": "code",
   "execution_count": 10,
   "metadata": {},
   "outputs": [
    {
     "data": {
      "text/plain": [
       "array('i', [1, 88, 2, 3, 5, 77])"
      ]
     },
     "execution_count": 10,
     "metadata": {},
     "output_type": "execute_result"
    }
   ],
   "source": [
    "# array starts at index 0\n",
    "A = array.array('i',[1,2,3])    # creates an array of ineteger type with 3 values initilazed\n",
    "A.insert(3,5)                   # insert value 5 at position 3 (4th) \n",
    "A.insert(1,88)                 \n",
    "A.append(77)                    # add values at the end of the array\n",
    "A"
   ]
  },
  {
   "cell_type": "code",
   "execution_count": 12,
   "metadata": {},
   "outputs": [
    {
     "name": "stdout",
     "output_type": "stream",
     "text": [
      "1\n",
      "88\n",
      "2\n",
      "3\n",
      "5\n",
      "77\n"
     ]
    }
   ],
   "source": [
    "for value in A:\n",
    "    print(value)"
   ]
  },
  {
   "cell_type": "code",
   "execution_count": 13,
   "metadata": {},
   "outputs": [
    {
     "data": {
      "text/plain": [
       "5"
      ]
     },
     "execution_count": 13,
     "metadata": {},
     "output_type": "execute_result"
    }
   ],
   "source": [
    "A.pop(4)     # remove the element using the index and return the popped value"
   ]
  },
  {
   "cell_type": "code",
   "execution_count": 16,
   "metadata": {},
   "outputs": [],
   "source": [
    "A.remove(88)   # remove the value passed as parameter"
   ]
  },
  {
   "cell_type": "code",
   "execution_count": 18,
   "metadata": {},
   "outputs": [
    {
     "data": {
      "text/plain": [
       "3"
      ]
     },
     "execution_count": 18,
     "metadata": {},
     "output_type": "execute_result"
    }
   ],
   "source": [
    "A.index(77)    # return the index of element"
   ]
  },
  {
   "cell_type": "code",
   "execution_count": 19,
   "metadata": {},
   "outputs": [],
   "source": [
    "A.reverse()     # reverses the array"
   ]
  },
  {
   "cell_type": "code",
   "execution_count": 20,
   "metadata": {},
   "outputs": [
    {
     "data": {
      "text/plain": [
       "array('i', [77, 3, 2, 1])"
      ]
     },
     "execution_count": 20,
     "metadata": {},
     "output_type": "execute_result"
    }
   ],
   "source": [
    "A"
   ]
  },
  {
   "cell_type": "markdown",
   "metadata": {},
   "source": [
    "### Search, insert and delete in an unsorted array"
   ]
  },
  {
   "cell_type": "code",
   "execution_count": 21,
   "metadata": {},
   "outputs": [],
   "source": [
    "A = array.array('i',[10,12,33, 52, 4, 51])"
   ]
  },
  {
   "cell_type": "code",
   "execution_count": 23,
   "metadata": {},
   "outputs": [
    {
     "name": "stdout",
     "output_type": "stream",
     "text": [
      "key found at position 2\n"
     ]
    }
   ],
   "source": [
    "def search(A, key):\n",
    "    for i,elm in enumerate(A):\n",
    "        if key==elm:\n",
    "            return i\n",
    "    return -1\n",
    "\n",
    "value = 33\n",
    "val = search(A, value)\n",
    "if val!=-1:\n",
    "    print(f\"key found at position {val}\")\n",
    "else:\n",
    "    print(\"key not present in array\")"
   ]
  },
  {
   "cell_type": "code",
   "execution_count": 24,
   "metadata": {},
   "outputs": [
    {
     "name": "stdout",
     "output_type": "stream",
     "text": [
      "array('i', [10, 12, 33, 52, 4, 51, 99])\n"
     ]
    }
   ],
   "source": [
    "# insert value at the end\n",
    "def insert(A, key):\n",
    "    A.append(key)\n",
    "    return A\n",
    "\n",
    "value = 99\n",
    "A = insert(A, value)\n",
    "print(A)"
   ]
  },
  {
   "cell_type": "code",
   "execution_count": 31,
   "metadata": {},
   "outputs": [
    {
     "data": {
      "text/plain": [
       "[10, 12, 33, 52, 4, 51, 99]"
      ]
     },
     "execution_count": 31,
     "metadata": {},
     "output_type": "execute_result"
    }
   ],
   "source": [
    "# using list\n",
    "def insert(A, key):\n",
    "    B = [0]*(len(A)+1)\n",
    "    for i in range(len(A)):\n",
    "        B[i]=A[i]\n",
    "    B[i+1]=key\n",
    "    return B\n",
    "\n",
    "B = insert(A, 99)\n",
    "B"
   ]
  },
  {
   "cell_type": "code",
   "execution_count": 25,
   "metadata": {},
   "outputs": [
    {
     "name": "stdout",
     "output_type": "stream",
     "text": [
      "array('i', [10, 12, 33, 52, 4, 51])\n"
     ]
    }
   ],
   "source": [
    "def delete(A, key):\n",
    "    A.remove(key)\n",
    "    return A\n",
    "\n",
    "value = 99\n",
    "A = delete(A, value)\n",
    "print(A)"
   ]
  },
  {
   "cell_type": "code",
   "execution_count": 32,
   "metadata": {},
   "outputs": [
    {
     "name": "stdout",
     "output_type": "stream",
     "text": [
      "[10, 12, 33, 4, 51]\n"
     ]
    }
   ],
   "source": [
    "# using list\n",
    "def delete(A, key):\n",
    "    B = []\n",
    "    for i in range(len(A)):\n",
    "        if A[i]!=key:\n",
    "            B.append(A[i])\n",
    "    \n",
    "    return B\n",
    "\n",
    "value = 52\n",
    "B = delete(A, value)\n",
    "print(B)"
   ]
  },
  {
   "cell_type": "markdown",
   "metadata": {},
   "source": [
    "### Search, insert and delete in a sorted array"
   ]
  },
  {
   "cell_type": "code",
   "execution_count": 45,
   "metadata": {},
   "outputs": [
    {
     "data": {
      "text/plain": [
       "array('i', [2, 4, 77, 88, 123, 124])"
      ]
     },
     "execution_count": 45,
     "metadata": {},
     "output_type": "execute_result"
    }
   ],
   "source": [
    "A = array.array('i', [2,4,77,88,123,124])\n",
    "A"
   ]
  },
  {
   "cell_type": "code",
   "execution_count": 47,
   "metadata": {},
   "outputs": [
    {
     "name": "stdout",
     "output_type": "stream",
     "text": [
      "key found at 5\n"
     ]
    }
   ],
   "source": [
    "# search using binary search\n",
    "\n",
    "def binary_search(A, key):\n",
    "    low = 0\n",
    "    high = len(A)-1\n",
    "    \n",
    "    while low<=high:\n",
    "        mid = (low+high)//2\n",
    "        if A[mid] == key:\n",
    "            return mid\n",
    "        elif key<A[mid]:\n",
    "            high = mid-1\n",
    "        elif key>A[mid]:\n",
    "            low = mid+1\n",
    "    return -1\n",
    "\n",
    "val = 124\n",
    "pos = binary_search(A, val)\n",
    "if pos!=-1:\n",
    "    print(f\"key found at {pos}\")\n",
    "else:\n",
    "    print(\"not found!!\")"
   ]
  },
  {
   "cell_type": "code",
   "execution_count": 50,
   "metadata": {},
   "outputs": [
    {
     "name": "stdout",
     "output_type": "stream",
     "text": [
      "[2, 4, 77, 88, 123, 124, 189]\n"
     ]
    }
   ],
   "source": [
    "# using list\n",
    "def sorted_insert(A, key):\n",
    "    B = []\n",
    "    flag = False\n",
    "    for i in range(len(A)):\n",
    "        if A[i]<=key:\n",
    "            B.append(A[i])\n",
    "        elif A[i]>key and flag==False:\n",
    "            B.append(key)\n",
    "            flag=True\n",
    "            B.append(A[i])\n",
    "        else:\n",
    "            B.append(A[i])\n",
    "    if flag == False: # key is larget\n",
    "        B.append(key) # append at last\n",
    "    return B\n",
    "\n",
    "val = 189\n",
    "B = sorted_insert(A, val)\n",
    "print(B)"
   ]
  },
  {
   "cell_type": "code",
   "execution_count": 54,
   "metadata": {},
   "outputs": [
    {
     "name": "stdout",
     "output_type": "stream",
     "text": [
      "[4, 77, 88, 123, 124]\n"
     ]
    }
   ],
   "source": [
    "def sorted_delete(A, key):\n",
    "    B = []\n",
    "    flag = False\n",
    "    for i in range(len(A)):\n",
    "        if key==A[i]:\n",
    "            flag = True\n",
    "            pass\n",
    "        else:\n",
    "            B.append(A[i])\n",
    "    if flag == False:\n",
    "        print(\"key not present\")\n",
    "    return B\n",
    "\n",
    "val = 2\n",
    "B = sorted_delete(A, val)\n",
    "print(B)"
   ]
  },
  {
   "cell_type": "markdown",
   "metadata": {},
   "source": [
    "**It's better to use lists in python array since lists are more flexible and faster**<br>\n",
    "**Lists vs array**: **lists take on values of any datatype in contrats to array which allows only one type of data**<br>\n",
    "**If u want to work with arrays, use Numpy Arrays instead of array from array module**"
   ]
  },
  {
   "cell_type": "markdown",
   "metadata": {},
   "source": [
    "### Write a program to reverse an array or string"
   ]
  },
  {
   "cell_type": "code",
   "execution_count": 74,
   "metadata": {},
   "outputs": [
    {
     "name": "stdout",
     "output_type": "stream",
     "text": [
      "array('i', [124, 123, 88, 77, 4, 2])\n",
      "array('i', [2, 4, 77, 88, 123, 124])\n"
     ]
    }
   ],
   "source": [
    "def reverse_array(A):\n",
    "    n = len(A)\n",
    "    for i in range(n//2):\n",
    "        A[i], A[n-i-1] = A[n-i-1], A[i]\n",
    "    return A\n",
    "\n",
    "print(A)\n",
    "print(reverse_array(A))"
   ]
  },
  {
   "cell_type": "code",
   "execution_count": 90,
   "metadata": {},
   "outputs": [
    {
     "name": "stdout",
     "output_type": "stream",
     "text": [
      "olleh\n"
     ]
    }
   ],
   "source": [
    "def reverse_string(A):\n",
    "    B = []\n",
    "    for i in range(len(A)-1,-1,-1):\n",
    "        B.append(A[i])\n",
    "    return ''.join(B)\n",
    "    \n",
    "B = 'hello'    \n",
    "print(reverse_string(B))"
   ]
  },
  {
   "cell_type": "code",
   "execution_count": 77,
   "metadata": {},
   "outputs": [
    {
     "data": {
      "text/plain": [
       "'olleh'"
      ]
     },
     "execution_count": 77,
     "metadata": {},
     "output_type": "execute_result"
    }
   ],
   "source": [
    "B[::-1]  # shortcut"
   ]
  },
  {
   "cell_type": "code",
   "execution_count": 97,
   "metadata": {},
   "outputs": [
    {
     "data": {
      "text/plain": [
       "array('i', [2, 4, 77, 88, 123, 124])"
      ]
     },
     "execution_count": 97,
     "metadata": {},
     "output_type": "execute_result"
    }
   ],
   "source": [
    "def recursive_reverse(A, low, high):\n",
    "    if low>=high:\n",
    "        return A\n",
    "    A[low], A[high] = A[high], A[low]\n",
    "    return recurive_reverse(A, low+1, high-1)\n",
    "    \n",
    "recursive_reverse(A, 0, len(A)-1)"
   ]
  },
  {
   "cell_type": "code",
   "execution_count": 106,
   "metadata": {},
   "outputs": [
    {
     "data": {
      "text/plain": [
       "'olleh'"
      ]
     },
     "execution_count": 106,
     "metadata": {},
     "output_type": "execute_result"
    }
   ],
   "source": [
    "def recursive_reverse_str(B):\n",
    "    if len(B)==1:\n",
    "        return B[0]\n",
    "    \n",
    "    return B[-1] + recursive_reverse_str(B[:-1])\n",
    "\n",
    "recursive_reverse_str(B)"
   ]
  },
  {
   "cell_type": "markdown",
   "metadata": {},
   "source": [
    "### Leaders in an array\n",
    "Write a program to print all the LEADERS in the array. An element is leader if it is greater than all the elements to its right side. And the rightmost element is always a leader. For example int the array {16, 17, 4, 3, 5, 2}, leaders are 17, 5 and 2."
   ]
  },
  {
   "cell_type": "code",
   "execution_count": 109,
   "metadata": {},
   "outputs": [
    {
     "data": {
      "text/plain": [
       "array('i', [2, 4, 77, 88, 123, 124])"
      ]
     },
     "execution_count": 109,
     "metadata": {},
     "output_type": "execute_result"
    }
   ],
   "source": [
    "A"
   ]
  },
  {
   "cell_type": "code",
   "execution_count": 120,
   "metadata": {},
   "outputs": [
    {
     "name": "stdout",
     "output_type": "stream",
     "text": [
      "[17, 5, 2]\n"
     ]
    }
   ],
   "source": [
    "def leaders(A):\n",
    "    B = []\n",
    "    for i in range(len(A)):\n",
    "        for j in range(i+1,len(A)):\n",
    "            if A[i]<=A[j]:\n",
    "                break\n",
    "            if j==len(A)-1:\n",
    "                B.append(A[i])\n",
    "    B.append(A[i])\n",
    "    return B\n",
    "\n",
    "A = [16, 17, 4, 3, 5, 2] \n",
    "print(leaders(A))\n",
    "# time complexity : O(n*n)"
   ]
  },
  {
   "cell_type": "code",
   "execution_count": 124,
   "metadata": {},
   "outputs": [
    {
     "name": "stdout",
     "output_type": "stream",
     "text": [
      "[17, 5, 2]\n"
     ]
    }
   ],
   "source": [
    "def leaders(A):\n",
    "    mx = [A[-1]]  # store last element\n",
    "    for i in range(len(A)-2, -1,-1):\n",
    "        if A[i]>max(mx):\n",
    "            mx.append(A[i])\n",
    "            \n",
    "    return mx[::-1]\n",
    "print(leaders(A))"
   ]
  },
  {
   "cell_type": "markdown",
   "metadata": {},
   "source": [
    "### Given an array A[] and a number x, check for pair in A[] with sum as x"
   ]
  },
  {
   "cell_type": "code",
   "execution_count": 126,
   "metadata": {},
   "outputs": [],
   "source": [
    "A = [2,56,32,41,6,33]"
   ]
  },
  {
   "cell_type": "code",
   "execution_count": 129,
   "metadata": {},
   "outputs": [
    {
     "name": "stdout",
     "output_type": "stream",
     "text": [
      "pairs found (6, 56)\n"
     ]
    }
   ],
   "source": [
    "def find_pairs(A, value):\n",
    "    s = set()\n",
    "    \n",
    "    for elm in A:\n",
    "        second = value-elm\n",
    "        if second > 0 and second in s:\n",
    "            return elm,second\n",
    "        s.add(elm)\n",
    "    return -1\n",
    "\n",
    "val = find_pairs(A, 62)  \n",
    "if val!=-1:\n",
    "    print(f\"pairs found {val}\")"
   ]
  },
  {
   "cell_type": "markdown",
   "metadata": {},
   "source": [
    "**other approach**: sort the list using sorting algorithm and keep on checking if A[low]+A[high]==value; if sum is less then value, decrement high by 1 position, else increment low by 1 position; otherwise return None."
   ]
  },
  {
   "cell_type": "markdown",
   "metadata": {},
   "source": [
    "### Majority Element"
   ]
  },
  {
   "cell_type": "markdown",
   "metadata": {},
   "source": [
    "Write a function which takes an array and prints the majority element (if it exists), otherwise prints “No Majority Element”. A majority element in an array A[] of size n is an element that appears more than n/2 times (and hence there is at most one such element)."
   ]
  },
  {
   "cell_type": "code",
   "execution_count": 142,
   "metadata": {},
   "outputs": [],
   "source": [
    "A = [3, 3, 4, 2, 4, 4, 2, 4,4]"
   ]
  },
  {
   "cell_type": "code",
   "execution_count": 143,
   "metadata": {},
   "outputs": [],
   "source": [
    "def majority(A):\n",
    "    n = len(A)\n",
    "    s = set(A)\n",
    "    for elm in s:\n",
    "        if A.count(elm)>n//2:\n",
    "            return elm\n",
    "    return None"
   ]
  },
  {
   "cell_type": "code",
   "execution_count": 144,
   "metadata": {},
   "outputs": [
    {
     "name": "stdout",
     "output_type": "stream",
     "text": [
      "4\n"
     ]
    }
   ],
   "source": [
    "if majority(A)==None:\n",
    "    print(\"No majority element!!\")\n",
    "else:\n",
    "    print(majority(A))"
   ]
  },
  {
   "cell_type": "markdown",
   "metadata": {},
   "source": [
    "### Block swap algorithm for array rotation\n",
    "Write a function rotate(ar[], d, n) that rotates arr[] of size n by d elements."
   ]
  },
  {
   "cell_type": "code",
   "execution_count": 151,
   "metadata": {},
   "outputs": [],
   "source": [
    "def rotate(A):\n",
    "    first = A[0]\n",
    "    for i in range(1,len(A)):\n",
    "        A[i-1] = A[i]\n",
    "    A[i]=first\n",
    "    return A"
   ]
  },
  {
   "cell_type": "code",
   "execution_count": 155,
   "metadata": {},
   "outputs": [],
   "source": [
    "def rotate_by_d(A, d):\n",
    "    count = d%len(A)\n",
    "    for i in range(count):\n",
    "        A = rotate(A)\n",
    "    return A"
   ]
  },
  {
   "cell_type": "code",
   "execution_count": 157,
   "metadata": {},
   "outputs": [
    {
     "data": {
      "text/plain": [
       "[3, 8, 2, 1, 4, 6]"
      ]
     },
     "execution_count": 157,
     "metadata": {},
     "output_type": "execute_result"
    }
   ],
   "source": [
    "A = [1,4,6,3,8,2]\n",
    "B = rotate_by_d(A, 3)\n",
    "B"
   ]
  },
  {
   "cell_type": "markdown",
   "metadata": {},
   "source": [
    "### Merge an array of size n into another array of size m+n\n",
    "There are two sorted arrays. First one is of size m+n containing only m elements. Another one is of size n and contains n elements. Merge these two arrays into the first array of size m+n such that the output is sorted."
   ]
  },
  {
   "cell_type": "code",
   "execution_count": 10,
   "metadata": {},
   "outputs": [],
   "source": [
    "mPlusN = [2, 8, -1, -1, -1, 13, -1, 15, 20]  # -1 indicates blank values\n",
    "N = [5, 7, 9, 25] "
   ]
  },
  {
   "cell_type": "code",
   "execution_count": 11,
   "metadata": {},
   "outputs": [],
   "source": [
    "def moveM(A):\n",
    "    pos = len(A)-1\n",
    "    for i in range(len(A)-1,-1,-1):\n",
    "        if A[i]!=-1:\n",
    "            A[pos],A[i] = A[i], A[pos]\n",
    "            pos-=1\n",
    "            print(A)\n",
    "    return A"
   ]
  },
  {
   "cell_type": "code",
   "execution_count": 12,
   "metadata": {},
   "outputs": [],
   "source": [
    "def merge(A,B):\n",
    "    \n",
    "    n = len(B)   # for handling m values\n",
    "    m = len(A)-n\n",
    "    j = 0 # for B handling n values\n",
    "    i = 0 # for A handling m+n value\n",
    "    k = n\n",
    "    while i < n+m:\n",
    "        if (k<m+n and A[k]<B[j]) or j==n:  # j==n when j is exhausted fully!\n",
    "            A[i]=A[k]\n",
    "            k+=1\n",
    "        else:\n",
    "            A[i]=B[j]\n",
    "            j+=1\n",
    "        \n",
    "        i+=1\n",
    "    return A"
   ]
  },
  {
   "cell_type": "code",
   "execution_count": 13,
   "metadata": {},
   "outputs": [
    {
     "name": "stdout",
     "output_type": "stream",
     "text": [
      "[2, 8, -1, -1, -1, 13, -1, 15, 20]\n",
      "[2, 8, -1, -1, -1, 13, -1, 15, 20]\n",
      "[2, 8, -1, -1, -1, -1, 13, 15, 20]\n",
      "[2, -1, -1, -1, -1, 8, 13, 15, 20]\n",
      "[-1, -1, -1, -1, 2, 8, 13, 15, 20]\n",
      "[-1, -1, -1, -1, 2, 8, 13, 15, 20]\n"
     ]
    },
    {
     "data": {
      "text/plain": [
       "[2, 5, 7, 8, 9, 13, 15, 20, 25]"
      ]
     },
     "execution_count": 13,
     "metadata": {},
     "output_type": "execute_result"
    }
   ],
   "source": [
    "A = moveM(mPlusN)\n",
    "print(A)\n",
    "merge(A, N)"
   ]
  },
  {
   "cell_type": "code",
   "execution_count": null,
   "metadata": {},
   "outputs": [],
   "source": []
  }
 ],
 "metadata": {
  "kernelspec": {
   "display_name": "Python 3",
   "language": "python",
   "name": "python3"
  },
  "language_info": {
   "codemirror_mode": {
    "name": "ipython",
    "version": 3
   },
   "file_extension": ".py",
   "mimetype": "text/x-python",
   "name": "python",
   "nbconvert_exporter": "python",
   "pygments_lexer": "ipython3",
   "version": "3.6.8"
  }
 },
 "nbformat": 4,
 "nbformat_minor": 2
}
