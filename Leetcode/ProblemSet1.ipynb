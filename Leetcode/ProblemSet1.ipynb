{
 "cells": [
  {
   "cell_type": "markdown",
   "metadata": {},
   "source": [
    "### Majority Element"
   ]
  },
  {
   "cell_type": "markdown",
   "metadata": {},
   "source": [
    "Given an array of size n, find the majority element. The majority element is the element that appears more than ⌊ n/2 ⌋ times.\n",
    "\n",
    "You may assume that the array is non-empty and the majority element always exist in the array.\n",
    "\n",
    "Example 1:\n",
    "\n",
    "Input: [3,2,3]\n",
    "Output: 3\n",
    "Example 2:\n",
    "\n",
    "Input: [2,2,1,1,1,2,2]\n",
    "Output: 2"
   ]
  },
  {
   "cell_type": "code",
   "execution_count": 1,
   "metadata": {},
   "outputs": [],
   "source": [
    "class Solution:\n",
    "    def majorityElement(self, nums):\n",
    "        num = dict()\n",
    "        \n",
    "        for n in nums:\n",
    "            if n not in num:\n",
    "                num[n] = 1\n",
    "            else:\n",
    "                num[n] += 1\n",
    "         \n",
    "        return max(num.keys(), key=num.get)  # O(n) with space O(n)\n",
    "    \n",
    "        # sort and return the element at the ecnter\n",
    "        #nums.sort()\n",
    "        #return nums[len(nums)//2]       # O(nlogn) sorting, with space O(1) inplace\n",
    "        "
   ]
  },
  {
   "cell_type": "markdown",
   "metadata": {},
   "source": [
    "### Maximum Subarray"
   ]
  },
  {
   "cell_type": "markdown",
   "metadata": {},
   "source": [
    "Given an integer array nums, find the contiguous subarray (containing at least one number) which has the largest sum and return its sum.\n",
    "\n",
    "Example:\n",
    "\n",
    "Input: [-2,1,-3,4,-1,2,1,-5,4],\n",
    "Output: 6\n",
    "Explanation: [4,-1,2,1] has the largest sum = 6.\n",
    "Follow up:\n",
    "\n",
    "If you have figured out the O(n) solution, try coding another solution using the divide and conquer approach, which is more subtle."
   ]
  },
  {
   "cell_type": "code",
   "execution_count": null,
   "metadata": {},
   "outputs": [],
   "source": [
    "class Solution:\n",
    "    def maxSubArray(self, nums):\n",
    "        \n",
    "        num = nums.copy()\n",
    "        for i in range(1, len(nums)):\n",
    "            if nums[i-1] > 0:\n",
    "                nums[i] += nums[i-1]\n",
    "        \n",
    "        #indx = nums[max(nums)]\n",
    "        #start = -1\n",
    "        #for i in range(indx,-1,-1):\n",
    "        #    if nums[i]>0:\n",
    "        #        start=i\n",
    "        #    else:\n",
    "        #        break\n",
    "        #print(num[start:indx+1]) # gives the values adding to max\n",
    "        \n",
    "        return max(nums)        \n",
    "        \n",
    "# O(n) time complexity"
   ]
  },
  {
   "cell_type": "markdown",
   "metadata": {},
   "source": [
    "### Search a 2D Matrix II"
   ]
  },
  {
   "cell_type": "markdown",
   "metadata": {},
   "source": [
    "Write an efficient algorithm that searches for a value in an m x n matrix. This matrix has the following properties:\n",
    "\n",
    "Integers in each row are sorted in ascending from left to right.\n",
    "Integers in each column are sorted in ascending from top to bottom.\n",
    "Example:\n",
    "\n",
    "Consider the following matrix:\n",
    "\n",
    "[\n",
    "  [1,   4,  7, 11, 15],\n",
    "  [2,   5,  8, 12, 19],\n",
    "  [3,   6,  9, 16, 22],\n",
    "  [10, 13, 14, 17, 24],\n",
    "  [18, 21, 23, 26, 30]\n",
    "]\n",
    "Given target = 5, return true.\n",
    "\n",
    "Given target = 20, return false."
   ]
  },
  {
   "cell_type": "code",
   "execution_count": 2,
   "metadata": {},
   "outputs": [],
   "source": [
    "class Solution:\n",
    "    def searchMatrix(self, matrix, target):\n",
    "        \"\"\"\n",
    "        :type matrix: List[List[int]]\n",
    "        :type target: int\n",
    "        :rtype: bool\n",
    "        \"\"\"      \n",
    "        if matrix == []:\n",
    "            return False\n",
    "        \n",
    "        m = len(matrix)\n",
    "        n = len(matrix[0])\n",
    "        \n",
    "        if m == n == 1:\n",
    "            if target==matrix[m-1][n-1]:\n",
    "                return True\n",
    "            else:\n",
    "                return False\n",
    " \n",
    "        i=m-1 \n",
    "        j=0\n",
    " \n",
    "        while i>=0 and j<=n-1:\n",
    "            if target == matrix[i][j]:\n",
    "                return True\n",
    "            elif target < matrix[i][j]:\n",
    "                i=i-1\n",
    "            elif target > matrix[i][j]:\n",
    "                j=j+1\n",
    "       \n",
    "        return False"
   ]
  },
  {
   "cell_type": "markdown",
   "metadata": {},
   "source": [
    "### K Closest Points to Origin"
   ]
  },
  {
   "cell_type": "markdown",
   "metadata": {},
   "source": [
    "We have a list of points on the plane.  Find the K closest points to the origin (0, 0).\n",
    "\n",
    "(Here, the distance between two points on a plane is the Euclidean distance.)\n",
    "\n",
    "You may return the answer in any order.  The answer is guaranteed to be unique (except for the order that it is in.)\n",
    "\n",
    " \n",
    "\n",
    "Example 1:\n",
    "\n",
    "Input: points = [[1,3],[-2,2]], K = 1\n",
    "Output: [[-2,2]]\n",
    "Explanation: \n",
    "The distance between (1, 3) and the origin is sqrt(10).\n",
    "The distance between (-2, 2) and the origin is sqrt(8).\n",
    "Since sqrt(8) < sqrt(10), (-2, 2) is closer to the origin.\n",
    "We only want the closest K = 1 points from the origin, so the answer is just [[-2,2]].\n",
    "Example 2:\n",
    "\n",
    "Input: points = [[3,3],[5,-1],[-2,4]], K = 2\n",
    "Output: [[3,3],[-2,4]]\n",
    "(The answer [[-2,4],[3,3]] would also be accepted.)"
   ]
  },
  {
   "cell_type": "code",
   "execution_count": 73,
   "metadata": {},
   "outputs": [],
   "source": [
    "class Solution:\n",
    "    def kClosest(self, points, K):\n",
    "        # empty list\n",
    "        if points == []:\n",
    "            return None\n",
    "        # only one point is perent\n",
    "        if len(points)==1:\n",
    "            return points\n",
    "        \n",
    "        dist = dict()\n",
    "        for p in points:\n",
    "            d = p[0]**2+p[1]**2\n",
    "            if d in dist.keys():\n",
    "                dist[d].append(p)\n",
    "            else:\n",
    "                dist[d] = [p]\n",
    "        \n",
    "        count = 0\n",
    "        li = []\n",
    "        for key in sorted(dist.keys()):\n",
    "            if count != K and len(li)!=K:\n",
    "                li.extend(dist[key])\n",
    "                count+=1\n",
    "            \n",
    "        return li\n",
    "    \n",
    "#         points.sort(key = lambda P: P[0]**2 + P[1]**2)\n",
    "#         return points[:K]"
   ]
  },
  {
   "cell_type": "code",
   "execution_count": 74,
   "metadata": {},
   "outputs": [],
   "source": [
    "points = [[1,3],[-2,2],[2,-2]]\n",
    "K = 2"
   ]
  },
  {
   "cell_type": "code",
   "execution_count": 75,
   "metadata": {},
   "outputs": [],
   "source": [
    "obj = Solution()"
   ]
  },
  {
   "cell_type": "code",
   "execution_count": 76,
   "metadata": {},
   "outputs": [
    {
     "data": {
      "text/plain": [
       "[[-2, 2], [2, -2]]"
      ]
     },
     "execution_count": 76,
     "metadata": {},
     "output_type": "execute_result"
    }
   ],
   "source": [
    "obj.kClosest(points, K)"
   ]
  },
  {
   "cell_type": "markdown",
   "metadata": {},
   "source": [
    "### Kth Largest Element in an Array"
   ]
  },
  {
   "cell_type": "markdown",
   "metadata": {},
   "source": [
    "Find the kth largest element in an unsorted array. Note that it is the kth largest element in the sorted order, not the kth distinct element.\n",
    "\n",
    "Example 1:\n",
    "\n",
    "Input: [3,2,1,5,6,4] and k = 2\n",
    "Output: 5\n",
    "Example 2:\n",
    "\n",
    "Input: [3,2,3,1,2,4,5,5,6] and k = 4\n",
    "Output: 4"
   ]
  },
  {
   "cell_type": "code",
   "execution_count": 81,
   "metadata": {},
   "outputs": [],
   "source": [
    "class Solution:\n",
    "    def findKthLargest(self, nums, k):\n",
    "        if len(nums) == 0:\n",
    "            return\n",
    "        \n",
    "        mx = max(nums)\n",
    "        if k>1:\n",
    "            nums.remove(mx)\n",
    "            mx = self.findKthLargest(nums, k-1)\n",
    "        return mx\n",
    "# sort the array and find the A[len-k] value to get kth largest"
   ]
  },
  {
   "cell_type": "markdown",
   "metadata": {},
   "source": [
    "### First Bad Version"
   ]
  },
  {
   "cell_type": "markdown",
   "metadata": {},
   "source": [
    "You are a product manager and currently leading a team to develop a new product. Unfortunately, the latest version of your product fails the quality check. Since each version is developed based on the previous version, all the versions after a bad version are also bad.\n",
    "\n",
    "Suppose you have n versions [1, 2, ..., n] and you want to find out the first bad one, which causes all the following ones to be bad.\n",
    "\n",
    "You are given an API bool isBadVersion(version) which will return whether version is bad. Implement a function to find the first bad version. You should minimize the number of calls to the API.\n",
    "\n",
    "Example:\n",
    "\n",
    "Given n = 5, and version = 4 is the first bad version.\n",
    "\n",
    "call isBadVersion(3) -> false\n",
    "call isBadVersion(5) -> true\n",
    "call isBadVersion(4) -> true\n",
    "\n",
    "Then 4 is the first bad version. "
   ]
  },
  {
   "cell_type": "code",
   "execution_count": 82,
   "metadata": {},
   "outputs": [],
   "source": [
    "class Solution:\n",
    "    def firstBadVersion(self, n):\n",
    "        \"\"\"\n",
    "        :type n: int\n",
    "        :rtype: int\n",
    "        \"\"\"\n",
    "        low = 1\n",
    "        high = n\n",
    "        flag = False\n",
    "        while low<=high:\n",
    "            \n",
    "            mid = (low+high)//2\n",
    "            \n",
    "            if isBadVersion(mid)==False:\n",
    "                low = mid+1\n",
    "                \n",
    "            elif isBadVersion(mid)==True:\n",
    "                high = mid-1\n",
    "               \n",
    "        return low"
   ]
  },
  {
   "cell_type": "markdown",
   "metadata": {},
   "source": [
    "### Guess Number Higher or Lower"
   ]
  },
  {
   "cell_type": "markdown",
   "metadata": {},
   "source": [
    "We are playing the Guess Game. The game is as follows:\n",
    "\n",
    "I pick a number from 1 to n. You have to guess which number I picked.\n",
    "\n",
    "Every time you guess wrong, I'll tell you whether the number is higher or lower.\n",
    "\n",
    "You call a pre-defined API guess(int num) which returns 3 possible results (-1, 1, or 0):\n",
    "\n",
    "-1 : My number is lower\n",
    " 1 : My number is higher\n",
    " 0 : Congrats! You got it!\n",
    "Example :\n",
    "\n",
    "Input: n = 10, pick = 6\n",
    "Output: 6"
   ]
  },
  {
   "cell_type": "code",
   "execution_count": 83,
   "metadata": {},
   "outputs": [],
   "source": [
    "# The guess API is already defined for you.\n",
    "# @param num, your guess\n",
    "# @return -1 if my number is lower, 1 if my number is higher, otherwise return 0\n",
    "# def guess(num):\n",
    "\n",
    "class Solution(object):\n",
    "    def guessNumber(self, n):\n",
    "        \"\"\"\n",
    "        :type n: int\n",
    "        :rtype: int\n",
    "        \"\"\"\n",
    "        low = 1\n",
    "        high = n\n",
    "        while low<=high:\n",
    "            mid = (low+high)//2\n",
    "            \n",
    "            if guess(mid)==0:\n",
    "                return mid\n",
    "            elif guess(mid)==-1:\n",
    "                high = mid-1\n",
    "            elif guess(mid)==1:\n",
    "                low = mid+1\n",
    "                \n",
    "        return 0"
   ]
  },
  {
   "cell_type": "markdown",
   "metadata": {},
   "source": [
    "### Arranging Coins"
   ]
  },
  {
   "cell_type": "markdown",
   "metadata": {},
   "source": [
    "You have a total of n coins that you want to form in a staircase shape, where every k-th row must have exactly k coins.\n",
    "\n",
    "Given n, find the total number of full staircase rows that can be formed.\n",
    "\n",
    "n is a non-negative integer and fits within the range of a 32-bit signed integer.\n",
    "\n",
    "Example 1:\n",
    "\n",
    "n = 5\n",
    "\n",
    "The coins can form the following rows:\n",
    "¤\n",
    "¤ ¤\n",
    "¤ ¤\n",
    "\n",
    "Because the 3rd row is incomplete, we return 2.\n",
    "Example 2:\n",
    "\n",
    "n = 8\n",
    "\n",
    "The coins can form the following rows:\n",
    "¤\n",
    "¤ ¤\n",
    "¤ ¤ ¤\n",
    "¤ ¤\n",
    "\n",
    "Because the 4th row is incomplete, we return 3."
   ]
  },
  {
   "cell_type": "code",
   "execution_count": 84,
   "metadata": {},
   "outputs": [],
   "source": [
    "class Solution:\n",
    "    def arrangeCoins(self, n):\n",
    "        \n",
    "        if n == 0:\n",
    "            return 0\n",
    "        sm = 0\n",
    "        for i in range(1,n+1):\n",
    "            sm = sm+i\n",
    "            if sm>n:\n",
    "                return i-1 \n",
    "        \n",
    "        return i"
   ]
  },
  {
   "cell_type": "markdown",
   "metadata": {},
   "source": [
    "### Heaters"
   ]
  },
  {
   "cell_type": "markdown",
   "metadata": {},
   "source": [
    "Winter is coming! Your first job during the contest is to design a standard heater with fixed warm radius to warm all the houses.\n",
    "\n",
    "Now, you are given positions of houses and heaters on a horizontal line, find out minimum radius of heaters so that all houses could be covered by those heaters.\n",
    "\n",
    "So, your input will be the positions of houses and heaters seperately, and your expected output will be the minimum radius standard of heaters.\n",
    "\n",
    "Note:\n",
    "\n",
    "Numbers of houses and heaters you are given are non-negative and will not exceed 25000.\n",
    "Positions of houses and heaters you are given are non-negative and will not exceed 10^9.\n",
    "As long as a house is in the heaters' warm radius range, it can be warmed.\n",
    "All the heaters follow your radius standard and the warm radius will the same.\n",
    " \n",
    "\n",
    "Example 1:\n",
    "\n",
    "Input: [1,2,3],[2]\n",
    "Output: 1\n",
    "Explanation: The only heater was placed in the position 2, and if we use the radius 1 standard, then all the houses can be warmed.\n",
    " \n",
    "\n",
    "Example 2:\n",
    "\n",
    "Input: [1,2,3,4],[1,4]\n",
    "Output: 1\n",
    "Explanation: The two heater was placed in the position 1 and 4. We need to use radius 1 standard, then all the houses can be warmed."
   ]
  },
  {
   "cell_type": "code",
   "execution_count": 116,
   "metadata": {},
   "outputs": [],
   "source": [
    "# understand again\n",
    "# this is slow as we are sorting and then itearting again\n",
    "class Solution:\n",
    "    def findRadius(self, houses, heaters):\n",
    "        houses.sort()\n",
    "        heaters.sort()\n",
    "        N, i, maxRadius = len(heaters), 0, 0\n",
    "\n",
    "        for house in houses:\n",
    "            while i+1 < N and heaters[i+1] < house:\n",
    "                i += 1\n",
    "            maxRadius = max(maxRadius, min([abs(h-house) for h in heaters[i:i+2]]))    \n",
    "\n",
    "        return maxRadius\n",
    "    \n",
    "#         heaters.sort()\n",
    "#         r = 0\n",
    "#         for h in houses:\n",
    "#             ind = bisect.bisect_left(heaters, h)\n",
    "#             if ind == len(heaters):\n",
    "#                 r = max(r, h - heaters[-1])\n",
    "#             elif ind == 0:\n",
    "#                 r = max(r, heaters[0] - h)\n",
    "#             else:\n",
    "#                 r = max(r, min(heaters[ind] - h, h - heaters[ind - 1]))\n",
    "#         return r"
   ]
  },
  {
   "cell_type": "code",
   "execution_count": 117,
   "metadata": {},
   "outputs": [],
   "source": [
    "houses = [1,1,1,1,1,1,999,999,999,999,999]\n",
    "heaters = [499,500,501]\n",
    "output = 498"
   ]
  },
  {
   "cell_type": "code",
   "execution_count": 118,
   "metadata": {},
   "outputs": [],
   "source": [
    "obj = Solution()"
   ]
  },
  {
   "cell_type": "code",
   "execution_count": 119,
   "metadata": {},
   "outputs": [
    {
     "data": {
      "text/plain": [
       "498"
      ]
     },
     "execution_count": 119,
     "metadata": {},
     "output_type": "execute_result"
    }
   ],
   "source": [
    "obj.findRadius(houses, heaters)"
   ]
  },
  {
   "cell_type": "markdown",
   "metadata": {},
   "source": [
    "### Sqrt(x)"
   ]
  },
  {
   "cell_type": "markdown",
   "metadata": {},
   "source": [
    "Implement int sqrt(int x).\n",
    "\n",
    "Compute and return the square root of x, where x is guaranteed to be a non-negative integer.\n",
    "\n",
    "Since the return type is an integer, the decimal digits are truncated and only the integer part of the result is returned.\n",
    "\n",
    "Example 1:\n",
    "\n",
    "Input: 4\n",
    "Output: 2\n",
    "Example 2:\n",
    "\n",
    "Input: 8\n",
    "Output: 2\n",
    "Explanation: The square root of 8 is 2.82842..., and since \n",
    "             the decimal part is truncated, 2 is returned."
   ]
  },
  {
   "cell_type": "code",
   "execution_count": 120,
   "metadata": {},
   "outputs": [],
   "source": [
    "class Solution(object):\n",
    "    def mySqrt(self, x):\n",
    "        \"\"\"\n",
    "        :type x: int\n",
    "        :rtype: int\n",
    "        \"\"\"\n",
    "        \n",
    "        if (x == 0 or x == 1): \n",
    "            return x \n",
    "  \n",
    "        i = 1\n",
    "        result = 1\n",
    "        while result <= x: \n",
    "            i += 1\n",
    "            result = i * i \n",
    "      \n",
    "        return i - 1"
   ]
  },
  {
   "cell_type": "code",
   "execution_count": null,
   "metadata": {},
   "outputs": [],
   "source": []
  },
  {
   "cell_type": "code",
   "execution_count": null,
   "metadata": {},
   "outputs": [],
   "source": []
  },
  {
   "cell_type": "code",
   "execution_count": null,
   "metadata": {},
   "outputs": [],
   "source": []
  },
  {
   "cell_type": "code",
   "execution_count": null,
   "metadata": {},
   "outputs": [],
   "source": []
  },
  {
   "cell_type": "code",
   "execution_count": null,
   "metadata": {},
   "outputs": [],
   "source": []
  }
 ],
 "metadata": {
  "kernelspec": {
   "display_name": "Python 3",
   "language": "python",
   "name": "python3"
  },
  "language_info": {
   "codemirror_mode": {
    "name": "ipython",
    "version": 3
   },
   "file_extension": ".py",
   "mimetype": "text/x-python",
   "name": "python",
   "nbconvert_exporter": "python",
   "pygments_lexer": "ipython3",
   "version": "3.6.8"
  }
 },
 "nbformat": 4,
 "nbformat_minor": 2
}
