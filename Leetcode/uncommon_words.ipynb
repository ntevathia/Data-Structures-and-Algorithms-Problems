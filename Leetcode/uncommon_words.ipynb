{
 "cells": [
  {
   "cell_type": "markdown",
   "metadata": {},
   "source": [
    "### Uncommon Words from Two Sentences"
   ]
  },
  {
   "cell_type": "markdown",
   "metadata": {},
   "source": [
    "Input: A = \"this apple is sweet\", B = \"this apple is sour\"\n",
    "Output: [\"sweet\",\"sour\"]"
   ]
  },
  {
   "cell_type": "markdown",
   "metadata": {},
   "source": [
    "Input: A = \"apple apple\", B = \"banana\"\n",
    "Output: [\"banana\"]"
   ]
  },
  {
   "cell_type": "code",
   "execution_count": 76,
   "metadata": {},
   "outputs": [],
   "source": [
    "class Solution:\n",
    "    def uncommonFromSentences(self, A, B):\n",
    "        \"\"\"\n",
    "        :type A: str\n",
    "        :type B: str\n",
    "        :rtype: List[str]\n",
    "        \"\"\"\n",
    "        A = A.split()\n",
    "        B = B.split()\n",
    "        \n",
    "        A_1 = A\n",
    "        B_1 = B\n",
    "        # remove duplicates\n",
    "        New_A = []\n",
    "        for elm in A:\n",
    "            if A.count(elm)==1:\n",
    "                 New_A.append(elm)\n",
    "        \n",
    "        New_B = []\n",
    "        for elm in B:\n",
    "            if B.count(elm)==1:\n",
    "                 New_B.append(elm)\n",
    "        \n",
    "        # check for uncommon in both the list\n",
    "        \n",
    "        New_B = [elm for elm in New_B if elm not in A_1]\n",
    "        New_A = [elm for elm in New_A if elm not in B_1]\n",
    "        \n",
    "        if New_A != [] and New_B != []:\n",
    "            li = [elm for elm in New_A if elm not in New_B]\n",
    "            li2 = [elm for elm in New_B if elm not in New_A]\n",
    "        elif New_A == []:\n",
    "            li = []\n",
    "            li2 = New_B\n",
    "        elif New_B == []:\n",
    "            li = New_A\n",
    "            li2 = []\n",
    "        else:\n",
    "            li = []\n",
    "            li2 = []\n",
    "        \n",
    "        return li+li2"
   ]
  },
  {
   "cell_type": "code",
   "execution_count": 77,
   "metadata": {},
   "outputs": [],
   "source": [
    "A = \"s z z z s\"\n",
    "B = \"s z ejt\""
   ]
  },
  {
   "cell_type": "code",
   "execution_count": 78,
   "metadata": {},
   "outputs": [
    {
     "data": {
      "text/plain": [
       "['ejt']"
      ]
     },
     "execution_count": 78,
     "metadata": {},
     "output_type": "execute_result"
    }
   ],
   "source": [
    "obj = Solution()\n",
    "obj.uncommonFromSentences(A, B)"
   ]
  },
  {
   "cell_type": "code",
   "execution_count": null,
   "metadata": {},
   "outputs": [],
   "source": []
  }
 ],
 "metadata": {
  "kernelspec": {
   "display_name": "Python 3",
   "language": "python",
   "name": "python3"
  },
  "language_info": {
   "codemirror_mode": {
    "name": "ipython",
    "version": 3
   },
   "file_extension": ".py",
   "mimetype": "text/x-python",
   "name": "python",
   "nbconvert_exporter": "python",
   "pygments_lexer": "ipython3",
   "version": "3.6.8"
  }
 },
 "nbformat": 4,
 "nbformat_minor": 2
}
