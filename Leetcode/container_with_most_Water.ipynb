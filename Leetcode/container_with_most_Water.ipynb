{
 "cells": [
  {
   "cell_type": "markdown",
   "metadata": {},
   "source": [
    "### Container With Most Water"
   ]
  },
  {
   "cell_type": "markdown",
   "metadata": {},
   "source": [
    "Given n non-negative integers a1, a2, ..., an , where each represents a point at coordinate (i, ai). n vertical lines are drawn such that the two endpoints of line i is at (i, ai) and (i, 0). Find two lines, which together with x-axis forms a container, such that the container contains the most water.\n",
    "\n",
    "Note: You may not slant the container and n is at least 2."
   ]
  },
  {
   "cell_type": "markdown",
   "metadata": {},
   "source": [
    "Example:\n",
    "\n",
    "Input: [1,8,6,2,5,4,8,3,7]\n",
    "Output: 49"
   ]
  },
  {
   "cell_type": "markdown",
   "metadata": {},
   "source": [
    "### Solution"
   ]
  },
  {
   "cell_type": "code",
   "execution_count": 18,
   "metadata": {},
   "outputs": [],
   "source": [
    "class Solution:\n",
    "    def maxArea(self, height):\n",
    "        \"\"\"\n",
    "        :type height: List[int]\n",
    "        :rtype: int\n",
    "        \"\"\"\n",
    "        max_area = 0\n",
    "        for i in range(len(height)):\n",
    "            area = []\n",
    "            for j in range(i+1,len(height)):\n",
    "                h = min(height[i],height[j])\n",
    "                w = j-i\n",
    "                area.append(h*w)\n",
    "        \n",
    "                if max_area < max(area):\n",
    "                    max_area = max(area)\n",
    "            \n",
    "        return max_area"
   ]
  },
  {
   "cell_type": "code",
   "execution_count": 23,
   "metadata": {},
   "outputs": [
    {
     "name": "stdout",
     "output_type": "stream",
     "text": [
      "maximum area is : 49\n"
     ]
    }
   ],
   "source": [
    "height = [1,8,6,2,5,4,8,3,7]\n",
    "obj = Solution()\n",
    "print(\"maximum area is :\",obj.maxArea(height))"
   ]
  },
  {
   "cell_type": "code",
   "execution_count": 37,
   "metadata": {},
   "outputs": [
    {
     "name": "stdout",
     "output_type": "stream",
     "text": [
      "maximum area is : 49024602\n"
     ]
    }
   ],
   "source": [
    "## 2\n",
    "class Solution:\n",
    "    def maxArea(self, height):\n",
    "        \"\"\"\n",
    "        :type height: List[int]\n",
    "        :rtype: int\n",
    "        \"\"\"\n",
    "        area = [[min(height[i],height[j])*(j-i) for j in range(i+1,len(height))]for i in range(len(height)-1)]\n",
    "        \n",
    "        max_area = max([max(elm) for elm in area])\n",
    "            \n",
    "        return max_area\n",
    "\n",
    "obj = Solution()\n",
    "print(\"maximum area is :\",obj.maxArea(height))"
   ]
  },
  {
   "cell_type": "markdown",
   "metadata": {},
   "source": [
    "Apparently both the solutions above are slow due to time complexity of the algorithm being O(n^2)"
   ]
  },
  {
   "cell_type": "markdown",
   "metadata": {},
   "source": [
    "### faster solution with time complexity of O(n)"
   ]
  },
  {
   "cell_type": "code",
   "execution_count": 54,
   "metadata": {},
   "outputs": [],
   "source": [
    "max_area = 0\n",
    "start = 0\n",
    "end = len(height)-1\n",
    "while start < end:\n",
    "    area = min(height[start],height[end])*(end-start)\n",
    "    max_area = max(max_area, area)\n",
    "    \n",
    "    if height[start]<height[end]:\n",
    "        start += 1\n",
    "    else:\n",
    "        end -= 1\n",
    "  "
   ]
  },
  {
   "cell_type": "code",
   "execution_count": 55,
   "metadata": {},
   "outputs": [
    {
     "data": {
      "text/plain": [
       "49"
      ]
     },
     "execution_count": 55,
     "metadata": {},
     "output_type": "execute_result"
    }
   ],
   "source": [
    "max_area"
   ]
  },
  {
   "cell_type": "markdown",
   "metadata": {},
   "source": [
    "Logic behind : we do not want to check the area for every single pair since that takes too much time. Max area will be due to large height values which are further apart. So we want to start with the extremes here, start and end being the first and last element in the height array. Every time we calculate the area for extreme pairs and change the value of start/end depending on which height is smaller. \n",
    "As we know the height will be decided based on the smallest height it makes more sense to change the value for the point which is smaller and increase it by 1.\n"
   ]
  },
  {
   "cell_type": "code",
   "execution_count": null,
   "metadata": {},
   "outputs": [],
   "source": []
  }
 ],
 "metadata": {
  "kernelspec": {
   "display_name": "Python 3",
   "language": "python",
   "name": "python3"
  },
  "language_info": {
   "codemirror_mode": {
    "name": "ipython",
    "version": 3
   },
   "file_extension": ".py",
   "mimetype": "text/x-python",
   "name": "python",
   "nbconvert_exporter": "python",
   "pygments_lexer": "ipython3",
   "version": "3.6.8"
  }
 },
 "nbformat": 4,
 "nbformat_minor": 2
}
