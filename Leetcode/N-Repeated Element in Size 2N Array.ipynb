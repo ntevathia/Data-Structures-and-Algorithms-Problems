{
 "cells": [
  {
   "cell_type": "markdown",
   "metadata": {},
   "source": [
    "In a array A of size 2N, there are N+1 unique elements, and exactly one of these elements is repeated N times.\n",
    "\n",
    "Return the element repeated N times.\n",
    "\n",
    " \n",
    "\n",
    "Example 1:\n",
    "\n",
    "Input: [1,2,3,3]\n",
    "Output: 3\n",
    "Example 2:\n",
    "\n",
    "Input: [2,1,2,5,3,2]\n",
    "Output: 2\n",
    "Example 3:\n",
    "\n",
    "Input: [5,1,5,2,5,3,5,4]\n",
    "Output: 5"
   ]
  },
  {
   "cell_type": "code",
   "execution_count": 10,
   "metadata": {},
   "outputs": [],
   "source": [
    "class Solution:\n",
    "    def repeatedNTimes(self, A: []) -> int:\n",
    "        N = len(A)/2\n",
    "        for elm in A:\n",
    "            if A.count(elm)==N:\n",
    "                return elm\n"
   ]
  },
  {
   "cell_type": "code",
   "execution_count": 11,
   "metadata": {},
   "outputs": [],
   "source": [
    "Input= [1,2,3,3] \n",
    "Output= 3"
   ]
  },
  {
   "cell_type": "code",
   "execution_count": 12,
   "metadata": {},
   "outputs": [
    {
     "data": {
      "text/plain": [
       "3"
      ]
     },
     "execution_count": 12,
     "metadata": {},
     "output_type": "execute_result"
    }
   ],
   "source": [
    "obj = Solution()\n",
    "obj.repeatedNTimes(Input)"
   ]
  },
  {
   "cell_type": "code",
   "execution_count": 13,
   "metadata": {},
   "outputs": [],
   "source": [
    "Input = [2,1,2,5,3,2] \n",
    "Output = 2 \n",
    "assert Output == obj.repeatedNTimes(Input) "
   ]
  },
  {
   "cell_type": "code",
   "execution_count": 14,
   "metadata": {},
   "outputs": [],
   "source": [
    "Input = [5,1,5,2,5,3,5,4] \n",
    "Output = 5\n",
    "assert Output == obj.repeatedNTimes(Input) "
   ]
  },
  {
   "cell_type": "code",
   "execution_count": null,
   "metadata": {},
   "outputs": [],
   "source": []
  },
  {
   "cell_type": "code",
   "execution_count": null,
   "metadata": {},
   "outputs": [],
   "source": []
  }
 ],
 "metadata": {
  "kernelspec": {
   "display_name": "Python 3",
   "language": "python",
   "name": "python3"
  },
  "language_info": {
   "codemirror_mode": {
    "name": "ipython",
    "version": 3
   },
   "file_extension": ".py",
   "mimetype": "text/x-python",
   "name": "python",
   "nbconvert_exporter": "python",
   "pygments_lexer": "ipython3",
   "version": "3.6.8"
  }
 },
 "nbformat": 4,
 "nbformat_minor": 2
}
