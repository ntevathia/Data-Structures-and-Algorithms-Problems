{
 "cells": [
  {
   "cell_type": "markdown",
   "metadata": {},
   "source": [
    "###  Rotate List"
   ]
  },
  {
   "cell_type": "markdown",
   "metadata": {},
   "source": [
    "Given a linked list, rotate the list to the right by k places, where k is non-negative.\n",
    "\n",
    "Example 1:\n",
    "\n",
    "Input: 1->2->3->4->5->NULL, k = 2\n",
    "Output: 4->5->1->2->3->NULL\n",
    "Explanation:\n",
    "rotate 1 steps to the right: 5->1->2->3->4->NULL\n",
    "rotate 2 steps to the right: 4->5->1->2->3->NULL\n",
    "Example 2:\n",
    "\n",
    "Input: 0->1->2->NULL, k = 4\n",
    "Output: 2->0->1->NULL\n",
    "Explanation:\n",
    "rotate 1 steps to the right: 2->0->1->NULL\n",
    "rotate 2 steps to the right: 1->2->0->NULL\n",
    "rotate 3 steps to the right: 0->1->2->NULL\n",
    "rotate 4 steps to the right: 2->0->1->NULL"
   ]
  },
  {
   "cell_type": "code",
   "execution_count": 1,
   "metadata": {},
   "outputs": [],
   "source": [
    "class ListNode:\n",
    "    def __init__(self, x):\n",
    "        self.val = x\n",
    "        self.next = None"
   ]
  },
  {
   "cell_type": "code",
   "execution_count": 128,
   "metadata": {},
   "outputs": [],
   "source": [
    "# Definition for singly-linked list.\n",
    "# class ListNode:\n",
    "#     def __init__(self, x):\n",
    "#         self.val = x\n",
    "#         self.next = None\n",
    "\n",
    "class Solution:\n",
    "    def print_list(self, head):\n",
    "        curr = head\n",
    "        count = 0\n",
    "        if head == None:\n",
    "            return 0\n",
    "        if curr.next == None:\n",
    "            return 1\n",
    "        while curr.next != None:\n",
    "            count += 1\n",
    "            prev = curr\n",
    "            curr = curr.next\n",
    "        count += 1\n",
    "        return count\n",
    "    \n",
    "    def rotateRight(self, head: 'ListNode', k: 'int') -> 'ListNode':\n",
    "        \n",
    "        if head == None or head.next==None:\n",
    "            return head\n",
    "        else: \n",
    "            count = self.print_list(head)\n",
    "            rotation = k%count\n",
    "            # use the trick of diving k by len to get to rotate less number of times\n",
    "            for i in range(rotation):\n",
    "                #prev, last = self.find(head)\n",
    "                curr = head\n",
    "                while curr.next!=None:\n",
    "                    prev = curr\n",
    "                    curr = curr.next\n",
    "                #last = curr\n",
    "                # point last to head\n",
    "                curr.next = head\n",
    "                head = curr\n",
    "                \n",
    "                # point second last to none\n",
    "                prev.next = None\n",
    "                \n",
    "                #print(\"head\",head.val)\n",
    "                #print(\"last val\",prev.val)\n",
    "        return head\n",
    "    \n",
    "    "
   ]
  },
  {
   "cell_type": "code",
   "execution_count": 132,
   "metadata": {},
   "outputs": [
    {
     "name": "stdout",
     "output_type": "stream",
     "text": [
      "head 3\n",
      "last val 2\n"
     ]
    },
    {
     "data": {
      "text/plain": [
       "3"
      ]
     },
     "execution_count": 132,
     "metadata": {},
     "output_type": "execute_result"
    }
   ],
   "source": [
    "obj=Solution()\n",
    "head = obj.rotateRight(head,4)\n",
    "head.val"
   ]
  },
  {
   "cell_type": "code",
   "execution_count": 131,
   "metadata": {},
   "outputs": [],
   "source": [
    "head = ListNode(1)\n",
    "second = ListNode(2)\n",
    "third = ListNode(3)\n",
    "#forth = ListNode(4)\n",
    "#fifth = ListNode(5)\n",
    "head.next = second\n",
    "second.next = third\n",
    "#third.next = forth\n",
    "#forth.next = fifth"
   ]
  },
  {
   "cell_type": "code",
   "execution_count": null,
   "metadata": {},
   "outputs": [],
   "source": []
  }
 ],
 "metadata": {
  "kernelspec": {
   "display_name": "Python 3",
   "language": "python",
   "name": "python3"
  },
  "language_info": {
   "codemirror_mode": {
    "name": "ipython",
    "version": 3
   },
   "file_extension": ".py",
   "mimetype": "text/x-python",
   "name": "python",
   "nbconvert_exporter": "python",
   "pygments_lexer": "ipython3",
   "version": "3.6.8"
  }
 },
 "nbformat": 4,
 "nbformat_minor": 2
}
