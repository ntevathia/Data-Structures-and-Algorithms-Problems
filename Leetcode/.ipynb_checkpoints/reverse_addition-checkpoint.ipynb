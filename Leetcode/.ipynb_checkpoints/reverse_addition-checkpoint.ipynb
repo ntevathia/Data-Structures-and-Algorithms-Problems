{
 "cells": [
  {
   "cell_type": "markdown",
   "metadata": {},
   "source": [
    "You are given two non-empty linked lists representing two non-negative integers. The digits are stored in reverse order and each of their nodes contain a single digit. Add the two numbers and return it as a linked list.\n",
    "\n",
    "You may assume the two numbers do not contain any leading zero, except the number 0 itself.\n",
    "\n",
    "Example:\n",
    "\n",
    "Input: (2 -> 4 -> 3) + (5 -> 6 -> 4)\n",
    "Output: 7 -> 0 -> 8\n",
    "Explanation: 342 + 465 = 807."
   ]
  },
  {
   "cell_type": "code",
   "execution_count": 20,
   "metadata": {},
   "outputs": [],
   "source": [
    "class Solution:\n",
    "    def addTwoNumbers(self, l1: 'ListNode', l2: 'ListNode') -> 'ListNode':\n",
    "        \n",
    "        l1 = [val*(10**(i)) for i,val in enumerate(l1)]\n",
    "        l2 = [val*(10**(i)) for i,val in enumerate(l2)]\n",
    "        val = sum(l1)+sum(l2)\n",
    "        # show it in linkedlist format\n",
    "        st = ''\n",
    "        for val in str(val)[::-1]:\n",
    "            st += val + '->'\n",
    "        \n",
    "        return st[:-2]"
   ]
  },
  {
   "cell_type": "code",
   "execution_count": 60,
   "metadata": {},
   "outputs": [],
   "source": [
    "class Solution:\n",
    "    def addTwoNumbers(self, l1: 'ListNode', l2: 'ListNode') -> 'ListNode':\n",
    "        \n",
    "        l_1 = ''\n",
    "        while l1!=None:   # list has values\n",
    "            l_1 += str(l1.val)\n",
    "            l1 = l1.next\n",
    "        l_2 = ''\n",
    "        while l2!=None:   # list has values\n",
    "            l_2 += str(l2.val)\n",
    "            l2 = l2.next\n",
    "           \n",
    "        l_1 = l_1[::-1]\n",
    "        l_2 = l_2[::-1]\n",
    "        \n",
    "        # add them\n",
    "        val = int(l_1)+int(l_2)\n",
    "       \n",
    "        li = []\n",
    "        \n",
    "        if val == 0:\n",
    "            return [0]\n",
    "        else:\n",
    "            while val!=0:\n",
    "                li.append(val%10)\n",
    "                val = val//10\n",
    "        print(li) "
   ]
  },
  {
   "cell_type": "code",
   "execution_count": 30,
   "metadata": {},
   "outputs": [],
   "source": [
    "class ListNode:\n",
    "    def __init__(self, x):\n",
    "        self.val = x\n",
    "        self.next = None"
   ]
  },
  {
   "cell_type": "code",
   "execution_count": 53,
   "metadata": {},
   "outputs": [],
   "source": [
    "l1 = ListNode(0)\n"
   ]
  },
  {
   "cell_type": "code",
   "execution_count": 54,
   "metadata": {},
   "outputs": [],
   "source": [
    "l2 = ListNode(0)\n"
   ]
  },
  {
   "cell_type": "code",
   "execution_count": 61,
   "metadata": {},
   "outputs": [
    {
     "name": "stdout",
     "output_type": "stream",
     "text": [
      "0\n"
     ]
    },
    {
     "data": {
      "text/plain": [
       "[0]"
      ]
     },
     "execution_count": 61,
     "metadata": {},
     "output_type": "execute_result"
    }
   ],
   "source": [
    "obj = Solution()\n",
    "obj.addTwoNumbers(l1,l2)"
   ]
  },
  {
   "cell_type": "code",
   "execution_count": null,
   "metadata": {},
   "outputs": [],
   "source": []
  }
 ],
 "metadata": {
  "kernelspec": {
   "display_name": "Python 3",
   "language": "python",
   "name": "python3"
  },
  "language_info": {
   "codemirror_mode": {
    "name": "ipython",
    "version": 3
   },
   "file_extension": ".py",
   "mimetype": "text/x-python",
   "name": "python",
   "nbconvert_exporter": "python",
   "pygments_lexer": "ipython3",
   "version": "3.6.8"
  }
 },
 "nbformat": 4,
 "nbformat_minor": 2
}
