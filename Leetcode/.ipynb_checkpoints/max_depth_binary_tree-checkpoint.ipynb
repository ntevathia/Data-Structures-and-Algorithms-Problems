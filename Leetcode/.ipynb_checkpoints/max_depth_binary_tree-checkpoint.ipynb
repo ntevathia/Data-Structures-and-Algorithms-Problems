{
 "cells": [
  {
   "cell_type": "markdown",
   "metadata": {},
   "source": [
    "### Maximum Depth of Binary Tree"
   ]
  },
  {
   "cell_type": "markdown",
   "metadata": {},
   "source": [
    "Given a binary tree, find its maximum depth.\n",
    "\n",
    "The maximum depth is the number of nodes along the longest path from the root node down to the farthest leaf node.\n",
    "\n",
    "Note: A leaf is a node with no children.\n",
    "\n",
    "Example:\n",
    "\n",
    "Given binary tree [3,9,20,null,null,15,7],"
   ]
  },
  {
   "cell_type": "markdown",
   "metadata": {},
   "source": [
    "return its depth = 3."
   ]
  },
  {
   "cell_type": "code",
   "execution_count": 3,
   "metadata": {},
   "outputs": [],
   "source": [
    "class TreeNode:\n",
    "    def __init__(self, x):\n",
    "        self.val = x\n",
    "        self.left = None\n",
    "        self.right = None"
   ]
  },
  {
   "cell_type": "code",
   "execution_count": 36,
   "metadata": {},
   "outputs": [],
   "source": [
    "class Solution:\n",
    "    def maxDepth(self, root: 'TreeNode') -> 'int':\n",
    "        \n",
    "        if root is None: \n",
    "            return 0\n",
    "        else : \n",
    "            left = self.maxDepth(root.left) \n",
    "            right = self.maxDepth(root.right) \n",
    "  \n",
    "            if (left > right): \n",
    "                return left+1\n",
    "            else: \n",
    "                return right+1\n",
    "            "
   ]
  },
  {
   "cell_type": "code",
   "execution_count": 19,
   "metadata": {},
   "outputs": [],
   "source": [
    "t1 = TreeNode(3)\n",
    "t2 = TreeNode(9)\n",
    "t3 = TreeNode(20)\n",
    "t4 = TreeNode(15)\n",
    "t5 = TreeNode(7)\n",
    "t1.left = t2\n",
    "t1.right = t3\n",
    "t3.left = t4\n",
    "t3.right = t5"
   ]
  },
  {
   "cell_type": "code",
   "execution_count": 37,
   "metadata": {},
   "outputs": [
    {
     "data": {
      "text/plain": [
       "3"
      ]
     },
     "execution_count": 37,
     "metadata": {},
     "output_type": "execute_result"
    }
   ],
   "source": [
    "obj = Solution()\n",
    "obj.maxDepth(t1)"
   ]
  },
  {
   "cell_type": "code",
   "execution_count": 38,
   "metadata": {},
   "outputs": [],
   "source": [
    "# 2i+1 2i+2\n",
    "# for i in range(len(A)):\n",
    "#     print(f\"parent: {A[i]}\")\n",
    "#     print(f\"left child : {A[2*i+1]}\")\n",
    "#     print(f\"right child : {A[2*i+2]}\")\n",
    "#     print(\"****\")"
   ]
  },
  {
   "cell_type": "code",
   "execution_count": null,
   "metadata": {},
   "outputs": [],
   "source": []
  }
 ],
 "metadata": {
  "kernelspec": {
   "display_name": "Python 3",
   "language": "python",
   "name": "python3"
  },
  "language_info": {
   "codemirror_mode": {
    "name": "ipython",
    "version": 3
   },
   "file_extension": ".py",
   "mimetype": "text/x-python",
   "name": "python",
   "nbconvert_exporter": "python",
   "pygments_lexer": "ipython3",
   "version": "3.6.8"
  }
 },
 "nbformat": 4,
 "nbformat_minor": 2
}
