{
 "cells": [
  {
   "cell_type": "markdown",
   "metadata": {},
   "source": [
    "### Next Greater Element II"
   ]
  },
  {
   "cell_type": "markdown",
   "metadata": {},
   "source": [
    "Given a circular array (the next element of the last element is the first element of the array), print the Next Greater Number for every element. The Next Greater Number of a number x is the first greater number to its traversing-order next in the array, which means you could search circularly to find its next greater number. If it doesn't exist, output -1 for this number."
   ]
  },
  {
   "cell_type": "markdown",
   "metadata": {},
   "source": [
    "Input: [1,2,1]\n",
    "Output: [2,-1,2]\n",
    "Explanation: The first 1's next greater number is 2; \n",
    "The number 2 can't find next greater number; \n",
    "The second 1's next greater number needs to search circularly, which is also 2."
   ]
  },
  {
   "cell_type": "code",
   "execution_count": 139,
   "metadata": {},
   "outputs": [],
   "source": [
    "class Solution:\n",
    "    def nextGreaterElements(self, nums):\n",
    "        \"\"\"\n",
    "        :type nums: List[int]\n",
    "        :rtype: List[int]\n",
    "        \"\"\"\n",
    "        if len(nums) == 1:\n",
    "            return -1\n",
    "    \n",
    "        max_list = []\n",
    "        for i in range(len(nums)):\n",
    "            flag = False\n",
    "            start = i\n",
    "            end = (i+len(nums)-1)%len(nums)   # this will give the last position of the queue for every ith element\n",
    "    \n",
    "            if end > start:\n",
    "                s = start\n",
    "                while start < end:\n",
    "                    max_v = max(nums[start], nums[s] )\n",
    "                    if max_v > nums[s]:\n",
    "                        break\n",
    "                    start += 1\n",
    "                if max_v <= nums[s]:     # if start is the max value return -1\n",
    "                    max_v = -1\n",
    "\n",
    "                max_list.append(max_v)\n",
    "            \n",
    "            elif end < start:\n",
    "                s = start\n",
    "                # check till end of list first\n",
    "                while start != len(nums)-1:\n",
    "                    max_v = max(nums[start], nums[start+1] )\n",
    "                    if max_v > nums[s]:\n",
    "                        flag = True\n",
    "                        break\n",
    "                    start += 1\n",
    "                 \n",
    "                if flag == True:\n",
    "                    max_list.append(max_v)\n",
    "                    continue\n",
    "                \n",
    "                # check from circular i=0\n",
    "                start = 0\n",
    "                while start != end:\n",
    "                    max_v = max(nums[start], nums[s] )\n",
    "                    if max_v > nums[s]:\n",
    "                        break\n",
    "                    start += 1\n",
    "                \n",
    "                if start == end:\n",
    "                    max_v = max(nums[start],nums[s])\n",
    "                \n",
    "                if max_v <= nums[s]:     # if start is the max value return -1\n",
    "                    max_v = -1\n",
    "                    \n",
    "                max_list.append(max_v)\n",
    "                    \n",
    "        return max_list"
   ]
  },
  {
   "cell_type": "code",
   "execution_count": 140,
   "metadata": {},
   "outputs": [
    {
     "data": {
      "text/plain": [
       "[3, 6, 6, 6, -1, 2]"
      ]
     },
     "execution_count": 140,
     "metadata": {},
     "output_type": "execute_result"
    }
   ],
   "source": [
    "nums= [2,3,1,1,6,-100]\n",
    "obj = Solution()\n",
    "obj.nextGreaterElements(nums)\n"
   ]
  },
  {
   "cell_type": "code",
   "execution_count": null,
   "metadata": {},
   "outputs": [],
   "source": []
  }
 ],
 "metadata": {
  "kernelspec": {
   "display_name": "Python 3",
   "language": "python",
   "name": "python3"
  },
  "language_info": {
   "codemirror_mode": {
    "name": "ipython",
    "version": 3
   },
   "file_extension": ".py",
   "mimetype": "text/x-python",
   "name": "python",
   "nbconvert_exporter": "python",
   "pygments_lexer": "ipython3",
   "version": "3.6.8"
  }
 },
 "nbformat": 4,
 "nbformat_minor": 2
}
