{
 "cells": [
  {
   "cell_type": "markdown",
   "metadata": {},
   "source": [
    "### Remove Nth Node From End of List"
   ]
  },
  {
   "cell_type": "markdown",
   "metadata": {},
   "source": [
    "Given a linked list, remove the n-th node from the end of list and return its head.\n",
    "\n",
    "Example:\n",
    "\n",
    "Given linked list: 1->2->3->4->5, and n = 2.\n",
    "\n",
    "After removing the second node from the end, the linked list becomes 1->2->3->5."
   ]
  },
  {
   "cell_type": "code",
   "execution_count": 2,
   "metadata": {},
   "outputs": [],
   "source": [
    "class ListNode:\n",
    "    def __init__(self, x):\n",
    "        self.val = x\n",
    "        self.next = None"
   ]
  },
  {
   "cell_type": "code",
   "execution_count": 58,
   "metadata": {},
   "outputs": [],
   "source": [
    "# Definition for singly-linked list.\n",
    "# class ListNode:\n",
    "#     def __init__(self, x):\n",
    "#         self.val = x\n",
    "#         self.next = None\n",
    "\n",
    "class Solution:\n",
    "    def print_list(self, head):\n",
    "        curr = head\n",
    "        count = 0\n",
    "        if head == None:\n",
    "            return 0\n",
    "        if curr.next == None:\n",
    "            #print(curr.val)\n",
    "            return 1\n",
    "        while curr.next != None:\n",
    "            count += 1\n",
    "            prev = curr\n",
    "            curr = curr.next\n",
    "            #print(prev.val)\n",
    "        #print(curr.val)\n",
    "        count += 1\n",
    "        return count\n",
    "    \n",
    "    def removeNthFromEnd(self, head: 'ListNode', n: 'int') -> 'ListNode':\n",
    "        count = self.print_list(head)\n",
    "        curr = head\n",
    "        if head == None:\n",
    "            print(\"Blank list\")\n",
    "            return None\n",
    "        if n == count:\n",
    "            print(f\"removing node : {head.val}\")\n",
    "            head = head.next\n",
    "        else:\n",
    "            for i in range(count-n):\n",
    "                prev = curr\n",
    "                curr = curr.next\n",
    "            print(f\"removing node : {curr.val}\")\n",
    "            prev.next = curr.next\n",
    "        \n",
    "        return head\n"
   ]
  },
  {
   "cell_type": "code",
   "execution_count": 54,
   "metadata": {},
   "outputs": [],
   "source": [
    "head = ListNode(1)\n",
    "second = ListNode(2)\n",
    "third = ListNode(3)\n",
    "forth = ListNode(4)\n",
    "fifth = ListNode(5)\n",
    "head.next = second\n",
    "second.next = third\n",
    "third.next = forth\n",
    "forth.next = fifth"
   ]
  },
  {
   "cell_type": "code",
   "execution_count": 59,
   "metadata": {},
   "outputs": [
    {
     "name": "stdout",
     "output_type": "stream",
     "text": [
      "Blank list\n"
     ]
    }
   ],
   "source": [
    "head = None\n",
    "obj = Solution()\n",
    "obj.removeNthFromEnd(head,1)"
   ]
  },
  {
   "cell_type": "code",
   "execution_count": null,
   "metadata": {},
   "outputs": [],
   "source": []
  }
 ],
 "metadata": {
  "kernelspec": {
   "display_name": "Python 3",
   "language": "python",
   "name": "python3"
  },
  "language_info": {
   "codemirror_mode": {
    "name": "ipython",
    "version": 3
   },
   "file_extension": ".py",
   "mimetype": "text/x-python",
   "name": "python",
   "nbconvert_exporter": "python",
   "pygments_lexer": "ipython3",
   "version": "3.6.8"
  }
 },
 "nbformat": 4,
 "nbformat_minor": 2
}
