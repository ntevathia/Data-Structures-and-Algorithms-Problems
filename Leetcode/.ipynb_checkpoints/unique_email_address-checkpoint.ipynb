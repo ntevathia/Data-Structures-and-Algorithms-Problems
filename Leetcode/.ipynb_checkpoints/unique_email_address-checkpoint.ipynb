{
 "cells": [
  {
   "cell_type": "markdown",
   "metadata": {},
   "source": [
    "### Unique Email Addresses"
   ]
  },
  {
   "cell_type": "markdown",
   "metadata": {},
   "source": [
    "Every email consists of a local name and a domain name, separated by the @ sign.\n",
    "\n",
    "For example, in alice@leetcode.com, alice is the local name, and leetcode.com is the domain name.\n",
    "\n",
    "Besides lowercase letters, these emails may contain '.'s or '+'s.\n",
    "\n",
    "If you add periods ('.') between some characters in the local name part of an email address, mail sent there will be forwarded to the same address without dots in the local name.  For example, \"alice.z@leetcode.com\" and \"alicez@leetcode.com\" forward to the same email address.  (Note that this rule does not apply for domain names.)\n",
    "\n",
    "If you add a plus ('+') in the local name, everything after the first plus sign will be ignored. This allows certain emails to be filtered, for example m.y+name@email.com will be forwarded to my@email.com.  (Again, this rule does not apply for domain names.)\n",
    "\n",
    "It is possible to use both of these rules at the same time.\n",
    "\n",
    "Given a list of emails, we send one email to each address in the list.  How many different addresses actually receive mails? \n",
    "\n"
   ]
  },
  {
   "cell_type": "code",
   "execution_count": 22,
   "metadata": {},
   "outputs": [],
   "source": [
    "class Solution:\n",
    "    def numUniqueEmails(self, emails: 'List[str]') -> 'int':\n",
    "        list_addrs = []\n",
    "        for email in emails:\n",
    "            if '@' in email:\n",
    "                new_list = email.split('@')\n",
    "                # regular case\n",
    "                if '+' not in new_list[0] and '.' not in new_list[0]:\n",
    "                    if email not in list_addrs:\n",
    "                        list_addrs.append(email)\n",
    "                    continue\n",
    "                \n",
    "                # when + / + and . is there\n",
    "                if '+' in new_list[0]:\n",
    "                    first_part = new_list[0].split('+')[0]\n",
    "                    if '.' in first_part:\n",
    "                        first_part = ''.join(first_part.split('.'))\n",
    "                    last_part = new_list[1]\n",
    "                    if first_part+'@'+last_part not in list_addrs:\n",
    "                        list_addrs.append(first_part+'@'+last_part)\n",
    "                    continue\n",
    "                    \n",
    "                # if . is there only    \n",
    "                if '.' in new_list[0]:\n",
    "                    first_part = ''.join(new_list[0].split('.'))\n",
    "                    last_part = new_list[1]\n",
    "                    if first_part+'@'+last_part not in list_addrs:\n",
    "                        list_addrs.append(first_part+'@'+last_part)\n",
    "                   \n",
    "        \n",
    "        print(list_addrs)\n",
    "        return len(list_addrs) "
   ]
  },
  {
   "cell_type": "code",
   "execution_count": 20,
   "metadata": {},
   "outputs": [],
   "source": [
    "Input = [\"test.email+alex@leetcode.com\",\"test.e.mail+bob.cathy@leetcode.com\",\"testemail+david@lee.tcode.com\"]"
   ]
  },
  {
   "cell_type": "code",
   "execution_count": 23,
   "metadata": {},
   "outputs": [
    {
     "name": "stdout",
     "output_type": "stream",
     "text": [
      "['testemail@leetcode.com', 'testemail@lee.tcode.com']\n"
     ]
    },
    {
     "data": {
      "text/plain": [
       "2"
      ]
     },
     "execution_count": 23,
     "metadata": {},
     "output_type": "execute_result"
    }
   ],
   "source": [
    "obj = Solution()\n",
    "obj.numUniqueEmails(Input)"
   ]
  },
  {
   "cell_type": "code",
   "execution_count": null,
   "metadata": {},
   "outputs": [],
   "source": []
  }
 ],
 "metadata": {
  "kernelspec": {
   "display_name": "Python 3",
   "language": "python",
   "name": "python3"
  },
  "language_info": {
   "codemirror_mode": {
    "name": "ipython",
    "version": 3
   },
   "file_extension": ".py",
   "mimetype": "text/x-python",
   "name": "python",
   "nbconvert_exporter": "python",
   "pygments_lexer": "ipython3",
   "version": "3.6.8"
  }
 },
 "nbformat": 4,
 "nbformat_minor": 2
}
