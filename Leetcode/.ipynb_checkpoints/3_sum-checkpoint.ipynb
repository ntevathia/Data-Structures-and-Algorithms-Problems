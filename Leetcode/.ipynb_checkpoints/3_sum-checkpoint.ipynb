{
 "cells": [
  {
   "cell_type": "markdown",
   "metadata": {},
   "source": [
    "### 3Sum"
   ]
  },
  {
   "cell_type": "markdown",
   "metadata": {},
   "source": [
    "Given array nums = [-1, 0, 1, 2, -1, -4],\n",
    "\n",
    "Find the unique list of tuples with 3 elements whose sum is zero.\n",
    "\n",
    "A solution set is:\n",
    "[\n",
    "  [-1, 0, 1],\n",
    "  [-1, -1, 2]\n",
    "]"
   ]
  },
  {
   "cell_type": "code",
   "execution_count": 132,
   "metadata": {},
   "outputs": [],
   "source": [
    "class Solution:\n",
    "    def threeSum(self, nums):\n",
    "        \"\"\"\n",
    "        :type nums: List[int]\n",
    "        :rtype: List[List[int]]\n",
    "        \"\"\"\n",
    "        nums.sort()\n",
    "        \n",
    "        values = []\n",
    "        for i in range(len(nums)):\n",
    "            start = i+1\n",
    "            end = len(nums)-1\n",
    "    \n",
    "            val = nums[i]\n",
    "    \n",
    "            while start<end:\n",
    "                if i>0 and nums[i-1]==val:    # if the val repeats in nums skip that iteration as it will give duplicates\n",
    "                    break\n",
    "        \n",
    "                su = val + nums[start] + nums[end]\n",
    "                if su == 0:\n",
    "                    values.append([val ,nums[start], nums[end]])\n",
    "                    \n",
    "                    s = start\n",
    "                    e = end\n",
    "                    start += 1\n",
    "                    end -= 1\n",
    "\n",
    "                    while nums[start]==nums[s]:\n",
    "                        \n",
    "                        # increase start and decrease end, otherwsie duplicate values will exist\n",
    "                        if start != len(nums)-1:\n",
    "                            start += 1\n",
    "                        else:\n",
    "                            break\n",
    "                            \n",
    "                    while nums[end]==nums[e]:\n",
    "                        if end != 0:\n",
    "                            end -= 1  \n",
    "                        else: \n",
    "                            break\n",
    "            \n",
    "                elif su<0:        # sum is negative, increase start value towards big num\n",
    "                    start += 1\n",
    "                elif su>0:        # sum is positive\n",
    "                    end -= 1      # decrease end towards less value\n",
    "                    \n",
    "        return values\n",
    "            \n",
    "    "
   ]
  },
  {
   "cell_type": "code",
   "execution_count": 136,
   "metadata": {},
   "outputs": [],
   "source": [
    "nums = [2,0,-2,-5,-5,-3,2,-4]"
   ]
  },
  {
   "cell_type": "code",
   "execution_count": 137,
   "metadata": {},
   "outputs": [],
   "source": [
    "obj = Solution()\n",
    "v = obj.threeSum(nums)"
   ]
  },
  {
   "cell_type": "code",
   "execution_count": 138,
   "metadata": {},
   "outputs": [
    {
     "data": {
      "text/plain": [
       "[[-4, 2, 2], [-2, 0, 2]]"
      ]
     },
     "execution_count": 138,
     "metadata": {},
     "output_type": "execute_result"
    }
   ],
   "source": [
    "v"
   ]
  },
  {
   "cell_type": "code",
   "execution_count": null,
   "metadata": {},
   "outputs": [],
   "source": []
  },
  {
   "cell_type": "code",
   "execution_count": null,
   "metadata": {},
   "outputs": [],
   "source": []
  },
  {
   "cell_type": "code",
   "execution_count": null,
   "metadata": {},
   "outputs": [],
   "source": []
  }
 ],
 "metadata": {
  "kernelspec": {
   "display_name": "Python 3",
   "language": "python",
   "name": "python3"
  },
  "language_info": {
   "codemirror_mode": {
    "name": "ipython",
    "version": 3
   },
   "file_extension": ".py",
   "mimetype": "text/x-python",
   "name": "python",
   "nbconvert_exporter": "python",
   "pygments_lexer": "ipython3",
   "version": "3.6.8"
  }
 },
 "nbformat": 4,
 "nbformat_minor": 2
}
