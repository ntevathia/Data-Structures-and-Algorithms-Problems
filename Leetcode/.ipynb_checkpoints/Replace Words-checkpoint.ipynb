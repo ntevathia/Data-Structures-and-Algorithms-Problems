{
 "cells": [
  {
   "cell_type": "markdown",
   "metadata": {},
   "source": [
    "In English, we have a concept called root, which can be followed by some other words to form another longer word - let's call this word successor. For example, the root an, followed by other, which can form another word another.\n",
    "\n",
    "Now, given a dictionary consisting of many roots and a sentence. You need to replace all the successor in the sentence with the root forming it. If a successor has many roots can form it, replace it with the root with the shortest length.\n",
    "\n",
    "You need to output the sentence after the replacement.\n",
    "\n",
    "Example 1:\n",
    "\n",
    "Input: dict = [\"cat\", \"bat\", \"rat\"]\n",
    "sentence = \"the cattle was rattled by the battery\"\n",
    "Output: \"the cat was rat by the bat\""
   ]
  },
  {
   "cell_type": "code",
   "execution_count": 74,
   "metadata": {},
   "outputs": [],
   "source": [
    "class Solution:\n",
    "    def replaceWords(self, dic, sentence):\n",
    "        li_final = sentence.split(\" \")\n",
    "        li = dict()\n",
    "        for i,word in enumerate(li_final):\n",
    "            for d in dic:\n",
    "                n = len(d)\n",
    "                if d in word[:n]:\n",
    "                    if word in li.keys():\n",
    "                        li[word].append(d)\n",
    "                    else:\n",
    "                        li[word] = [d]\n",
    "    \n",
    "        for i, word in enumerate(li_final):\n",
    "            if word in li.keys():\n",
    "                if len(li[word])>1:\n",
    "                    li_final[i] = min(li[word])\n",
    "                else:\n",
    "                    li_final[i] = li[word][0]\n",
    "        \n",
    "        return ' '.join(li_final) "
   ]
  },
  {
   "cell_type": "code",
   "execution_count": 38,
   "metadata": {},
   "outputs": [],
   "source": [
    "dic = [\"cat\", \"bat\", \"rat\"] \n",
    "sentence = \"the cattle was rattled by the battery\"\n",
    "Output= \"the cat was rat by the bat\""
   ]
  },
  {
   "cell_type": "code",
   "execution_count": 76,
   "metadata": {},
   "outputs": [],
   "source": [
    "obj = Solution()\n",
    "\n",
    "assert Output == obj.replaceWords(dic, sentence)"
   ]
  },
  {
   "cell_type": "code",
   "execution_count": 77,
   "metadata": {},
   "outputs": [],
   "source": [
    "dic = [\"cat\", \"catt\",\"bat\", \"rat\"] \n",
    "sentence = \"the cattle was rattled by the battery\"\n",
    "\n",
    "assert Output == obj.replaceWords(dic, sentence)"
   ]
  },
  {
   "cell_type": "code",
   "execution_count": null,
   "metadata": {},
   "outputs": [],
   "source": []
  }
 ],
 "metadata": {
  "kernelspec": {
   "display_name": "Python 3",
   "language": "python",
   "name": "python3"
  },
  "language_info": {
   "codemirror_mode": {
    "name": "ipython",
    "version": 3
   },
   "file_extension": ".py",
   "mimetype": "text/x-python",
   "name": "python",
   "nbconvert_exporter": "python",
   "pygments_lexer": "ipython3",
   "version": "3.6.8"
  }
 },
 "nbformat": 4,
 "nbformat_minor": 2
}
