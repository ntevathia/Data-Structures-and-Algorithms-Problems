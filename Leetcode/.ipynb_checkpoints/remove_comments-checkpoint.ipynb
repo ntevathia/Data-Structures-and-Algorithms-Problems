{
 "cells": [
  {
   "cell_type": "markdown",
   "metadata": {},
   "source": [
    "### Remove Comments"
   ]
  },
  {
   "cell_type": "markdown",
   "metadata": {},
   "source": [
    "Given a C++ program, remove comments from it. The program source is an array where source[i] is the i-th line of the source code. This represents the result of splitting the original source code string by the newline character \\n.\n",
    "\n",
    "In C++, there are two types of comments, line comments, and block comments.\n",
    "\n",
    "The string // denotes a line comment, which represents that it and rest of the characters to the right of it in the same line should be ignored.\n",
    "\n",
    "The string /* denotes a block comment, which represents that all characters until the next (non-overlapping) occurrence of */ should be ignored. (Here, occurrences happen in reading order: line by line from left to right.) To be clear, the string /*/ does not yet end the block comment, as the ending would be overlapping the beginning.\n",
    "\n",
    "The first effective comment takes precedence over others: if the string // occurs in a block comment, it is ignored. Similarly, if the string /* occurs in a line or block comment, it is also ignored.\n",
    "\n",
    "If a certain line of code is empty after removing comments, you must not output that line: each string in the answer list will be non-empty.\n",
    "\n",
    "There will be no control characters, single quote, or double quote characters. For example, source = \"string s = \"/* Not a comment. */\";\" will not be a test case. (Also, nothing else such as defines or macros will interfere with the comments.)\n",
    "\n",
    "It is guaranteed that every open block comment will eventually be closed, so /* outside of a line or block comment always starts a new comment.\n",
    "\n",
    "Finally, implicit newline characters can be deleted by block comments. Please see the examples below for details.\n",
    "\n",
    "After removing the comments from the source code, return the source code in the same format.\n",
    "\n",
    "Example 1:\n",
    "Input: \n",
    "source = [\"/*Test program */\", \"int main()\", \"{ \", \"  // variable declaration \", \"int a, b, c;\", \"/* This is a test\", \"   multiline  \", \"   comment for \", \"   testing */\", \"a = b + c;\", \"}\"]\n",
    "\n",
    "The line by line code is visualized as below:\n",
    "/*Test program */\n",
    "int main()\n",
    "{ \n",
    "  // variable declaration \n",
    "int a, b, c;\n",
    "/* This is a test\n",
    "   multiline  \n",
    "   comment for \n",
    "   testing */\n",
    "a = b + c;\n",
    "}\n",
    "\n",
    "Output: [\"int main()\",\"{ \",\"  \",\"int a, b, c;\",\"a = b + c;\",\"}\"]\n",
    "\n",
    "The line by line code is visualized as below:\n",
    "int main()\n",
    "{ \n",
    "  \n",
    "int a, b, c;\n",
    "a = b + c;\n",
    "}\n",
    "\n",
    "Explanation: \n",
    "The string /* denotes a block comment, including line 1 and lines 6-9. The string // denotes line 4 as comments.\n",
    "Example 2:\n",
    "Input: \n",
    "source = [\"a/*comment\", \"line\", \"more_comment*/b\"]\n",
    "Output: [\"ab\"]\n",
    "Explanation: The original source string is \"a/*comment\\nline\\nmore_comment*/b\", where we have bolded the newline characters.  After deletion, the implicit newline characters are deleted, leaving the string \"ab\", which when delimited by newline characters becomes [\"ab\"]."
   ]
  },
  {
   "cell_type": "code",
   "execution_count": 176,
   "metadata": {},
   "outputs": [],
   "source": [
    "class Solution(object):\n",
    "    def removeComments(self, source):\n",
    "        \n",
    "        ch1 = '/*'\n",
    "        ch2 = '*/'\n",
    "        ch3 = '//'\n",
    "        in_block = False\n",
    "        new = []\n",
    "        for sent in source:\n",
    "            i = 0\n",
    "            if in_block == False:\n",
    "                new_line = []\n",
    "            while i<len(sent):\n",
    "                if sent[i:i+2] == ch1 and in_block == False:\n",
    "                    in_block = True\n",
    "                    i += 1 \n",
    "                elif sent[i:i+2] == ch2 and in_block == True:\n",
    "                    in_block = False\n",
    "                    i += 1\n",
    "                elif in_block == False and sent[i:i+2] == ch3:\n",
    "                    break\n",
    "                elif in_block == False:\n",
    "                    new_line.append(sent[i])\n",
    "                i += 1\n",
    "            \n",
    "       \n",
    "            if new_line and in_block==False:\n",
    "                new.append(\"\".join(new_line))\n",
    "\n",
    "        return new"
   ]
  },
  {
   "cell_type": "code",
   "execution_count": 177,
   "metadata": {},
   "outputs": [],
   "source": [
    "obj=Solution()"
   ]
  },
  {
   "cell_type": "code",
   "execution_count": 178,
   "metadata": {},
   "outputs": [],
   "source": [
    "source = [\"/*Test program */\", \"int main()\", \"{ \", \"  // variable declaration \", \"int a, b, c;\", \"/* This is a test\", \"   multiline  \", \"   comment for \", \"   testing */\", \"a = b + c;\", \"}\"]\n",
    "Output= [\"int main()\",\"{ \",\"  \",\"int a, b, c;\",\"a = b + c;\",\"}\"]"
   ]
  },
  {
   "cell_type": "code",
   "execution_count": 180,
   "metadata": {},
   "outputs": [
    {
     "data": {
      "text/plain": [
       "True"
      ]
     },
     "execution_count": 180,
     "metadata": {},
     "output_type": "execute_result"
    }
   ],
   "source": [
    "obj.removeComments(source) == Output"
   ]
  },
  {
   "cell_type": "code",
   "execution_count": 181,
   "metadata": {},
   "outputs": [],
   "source": [
    "source = [\"a/*comment\", \"line\", \"more_comment*/b\"]\n",
    "Output =  [\"ab\"]"
   ]
  },
  {
   "cell_type": "code",
   "execution_count": 183,
   "metadata": {},
   "outputs": [
    {
     "data": {
      "text/plain": [
       "True"
      ]
     },
     "execution_count": 183,
     "metadata": {},
     "output_type": "execute_result"
    }
   ],
   "source": [
    "obj.removeComments(source) == Output"
   ]
  },
  {
   "cell_type": "code",
   "execution_count": 184,
   "metadata": {},
   "outputs": [],
   "source": [
    "source = [\"struct Node{\"\n",
    "\"    /*/ declare members;/**/\"\n",
    "\"    int size;\"\n",
    "\"    /**/int val;\"\n",
    "\"};\"]\n"
   ]
  },
  {
   "cell_type": "code",
   "execution_count": 185,
   "metadata": {},
   "outputs": [
    {
     "data": {
      "text/plain": [
       "['struct Node{        int size;    int val;};']"
      ]
     },
     "execution_count": 185,
     "metadata": {},
     "output_type": "execute_result"
    }
   ],
   "source": [
    "obj.removeComments(source)"
   ]
  },
  {
   "cell_type": "code",
   "execution_count": null,
   "metadata": {},
   "outputs": [],
   "source": []
  }
 ],
 "metadata": {
  "kernelspec": {
   "display_name": "Python 3",
   "language": "python",
   "name": "python3"
  },
  "language_info": {
   "codemirror_mode": {
    "name": "ipython",
    "version": 3
   },
   "file_extension": ".py",
   "mimetype": "text/x-python",
   "name": "python",
   "nbconvert_exporter": "python",
   "pygments_lexer": "ipython3",
   "version": "3.6.8"
  }
 },
 "nbformat": 4,
 "nbformat_minor": 2
}
