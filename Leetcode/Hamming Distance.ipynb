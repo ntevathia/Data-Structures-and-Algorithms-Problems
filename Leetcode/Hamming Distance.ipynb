{
 "cells": [
  {
   "cell_type": "markdown",
   "metadata": {},
   "source": [
    "The Hamming distance between two integers is the number of positions at which the corresponding bits are different.\n",
    "\n",
    "Given two integers x and y, calculate the Hamming distance.\n",
    "\n",
    "Note:\n",
    "0 ≤ x, y < 231.\n",
    "\n",
    "Example:\n",
    "\n",
    "Input: x = 1, y = 4\n",
    "\n",
    "Output: 2\n",
    "\n",
    "Explanation:\n",
    "1   (0 0 0 1)\n",
    "4   (0 1 0 0)\n",
    "       ↑   ↑\n",
    "\n",
    "The above arrows point to positions where the corresponding bits are different."
   ]
  },
  {
   "cell_type": "code",
   "execution_count": 90,
   "metadata": {},
   "outputs": [],
   "source": [
    "class Solution:\n",
    "    def hammingDistance(self, x: int, y: int) -> int:\n",
    "        \n",
    "        bin_x = self.get_bin(x)\n",
    "        bin_y = self.get_bin(y)\n",
    "        \n",
    "        # make both of equal length\n",
    "        if len(bin_y) < len(bin_x):\n",
    "            c = len(bin_x) - len(bin_y)\n",
    "            Y = [0]*c\n",
    "            Y.extend(bin_y)\n",
    "            \n",
    "            # count different bits\n",
    "            count = 0\n",
    "            for a,b in zip(bin_x,Y):\n",
    "                if a!=b:\n",
    "                    count+=1\n",
    "            #print(count)\n",
    "            \n",
    "        elif len(bin_y) > len(bin_x):\n",
    "            c = len(bin_y) - len(bin_x)\n",
    "            X = [0]*c\n",
    "            X.extend(bin_x)\n",
    "            \n",
    "            count = 0\n",
    "            for a,b in zip(X,bin_y):\n",
    "                if a!=b:\n",
    "                    count+=1\n",
    "        else: # length is equal\n",
    "            count = 0\n",
    "            for a,b in zip(bin_x,bin_y):\n",
    "                if a!=b:\n",
    "                    count+=1\n",
    "                \n",
    "        return count\n",
    "    \n",
    "    def get_bin(self, x):\n",
    "        i=0\n",
    "        bin_x = []\n",
    "        while x>0:\n",
    "            bin_x.append(x%2)\n",
    "            x = int(x/2)\n",
    "            i+=1\n",
    "        return(bin_x[::-1])"
   ]
  },
  {
   "cell_type": "code",
   "execution_count": 91,
   "metadata": {},
   "outputs": [],
   "source": [
    "x=1\n",
    "y=4\n",
    "output=2\n",
    "\n",
    "obj = Solution()\n",
    "assert obj.hammingDistance(x, y) == output"
   ]
  },
  {
   "cell_type": "code",
   "execution_count": 95,
   "metadata": {},
   "outputs": [
    {
     "data": {
      "text/plain": [
       "2"
      ]
     },
     "execution_count": 95,
     "metadata": {},
     "output_type": "execute_result"
    }
   ],
   "source": [
    "x=93\n",
    "y=73\n",
    "\n",
    "obj = Solution()\n",
    "obj.hammingDistance(x, y)"
   ]
  },
  {
   "cell_type": "code",
   "execution_count": null,
   "metadata": {},
   "outputs": [],
   "source": []
  }
 ],
 "metadata": {
  "kernelspec": {
   "display_name": "Python 3",
   "language": "python",
   "name": "python3"
  },
  "language_info": {
   "codemirror_mode": {
    "name": "ipython",
    "version": 3
   },
   "file_extension": ".py",
   "mimetype": "text/x-python",
   "name": "python",
   "nbconvert_exporter": "python",
   "pygments_lexer": "ipython3",
   "version": "3.6.8"
  }
 },
 "nbformat": 4,
 "nbformat_minor": 2
}
