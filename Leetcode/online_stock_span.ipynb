{
 "cells": [
  {
   "cell_type": "markdown",
   "metadata": {},
   "source": [
    "### Online Stock Span"
   ]
  },
  {
   "cell_type": "markdown",
   "metadata": {},
   "source": [
    "Write a class StockSpanner which collects daily price quotes for some stock, and returns the span of that stock's price for the current day.\n",
    "\n",
    "The span of the stock's price today is defined as the maximum number of consecutive days (starting from today and going backwards) for which the price of the stock was less than or equal to today's price.\n",
    "\n",
    "For example, if the price of a stock over the next 7 days were [100, 80, 60, 70, 60, 75, 85], then the stock spans would be [1, 1, 1, 2, 1, 4, 6].\n",
    "\n",
    " \n",
    "\n",
    "Example 1:\n",
    "\n",
    "Input: [\"StockSpanner\",\"next\",\"next\",\"next\",\"next\",\"next\",\"next\",\"next\"], [[],[100],[80],[60],[70],[60],[75],[85]]\n",
    "Output: [null,1,1,1,2,1,4,6]\n",
    "Explanation: \n",
    "First, S = StockSpanner() is initialized.  Then:\n",
    "S.next(100) is called and returns 1,\n",
    "S.next(80) is called and returns 1,\n",
    "S.next(60) is called and returns 1,\n",
    "S.next(70) is called and returns 2,\n",
    "S.next(60) is called and returns 1,\n",
    "S.next(75) is called and returns 4,\n",
    "S.next(85) is called and returns 6.\n",
    "\n",
    "Note that (for example) S.next(75) returned 4, because the last 4 prices\n",
    "(including today's price of 75) were less than or equal to today's price."
   ]
  },
  {
   "cell_type": "code",
   "execution_count": 189,
   "metadata": {},
   "outputs": [],
   "source": [
    "class StockSpanner:\n",
    "\n",
    "    def __init__(self):\n",
    "        self.data = [[]]\n",
    "        #self.output = ['null']\n",
    "     \n",
    "    def cal(self, price):\n",
    "        self.data.append(price)\n",
    "        if len(self.data)==2:  # if only 1 elm presnt\n",
    "            #self.output.append(1)\n",
    "            return 1\n",
    "        else:\n",
    "            count = 1\n",
    "            rev_data = self.data[::-1]\n",
    "            for i in range(1,len(self.data)-1):\n",
    "                if int(rev_data[0]) >= int(rev_data[i]):\n",
    "                    count += 1\n",
    "                else:\n",
    "                    break\n",
    "            #self.output.append(count)\n",
    "            return count\n",
    "    \n",
    "    def next(self, price: 'int') -> 'int':\n",
    "        p = self.cal(price)\n",
    "        #print(self.output)\n",
    "        return p\n",
    "        \n",
    "# this works fine but slow on big data"
   ]
  },
  {
   "cell_type": "code",
   "execution_count": 190,
   "metadata": {},
   "outputs": [
    {
     "data": {
      "text/plain": [
       "10"
      ]
     },
     "execution_count": 190,
     "metadata": {},
     "output_type": "execute_result"
    }
   ],
   "source": [
    "obj = StockSpanner()\n",
    "param_1 = obj.next(28)\n",
    "param_2 = obj.next(14)\n",
    "param_3 = obj.next(28)\n",
    "param_4 = obj.next(35)\n",
    "param_5 = obj.next(46)\n",
    "param_6 = obj.next(53)\n",
    "param_7 = obj.next(66)\n",
    "param_8 = obj.next(80)\n",
    "param_9 = obj.next(87)\n",
    "param_10 = obj.next(88)\n",
    "\n",
    "\n",
    "param_10\n",
    "# [null,1,2,1,2,1]"
   ]
  },
  {
   "cell_type": "code",
   "execution_count": 73,
   "metadata": {},
   "outputs": [],
   "source": [
    "Input = [\"StockSpanner\",\"next\",\"next\",\"next\",\"next\",\"next\",\"next\",\"next\"]\n",
    "inp = [[],[100],[80],[60],[70],[60],[75],[85]]   # last val is the recent val\n",
    "Out = ['null',1,1,1,2,1,4,6]"
   ]
  },
  {
   "cell_type": "code",
   "execution_count": 241,
   "metadata": {},
   "outputs": [],
   "source": [
    "# second approach\n",
    "\n",
    "class StockSpanner(object):\n",
    "    def __init__(self):\n",
    "        self.data = []\n",
    "\n",
    "    def next(self, price):\n",
    "        count = 1\n",
    "        while self.data!=[] and self.data[-1][0] <= price:\n",
    "            count += self.data.pop()[1]\n",
    "        self.data.append((price, count))\n",
    "        \n",
    "        return count\n"
   ]
  },
  {
   "cell_type": "code",
   "execution_count": 248,
   "metadata": {},
   "outputs": [
    {
     "data": {
      "text/plain": [
       "1"
      ]
     },
     "execution_count": 248,
     "metadata": {},
     "output_type": "execute_result"
    }
   ],
   "source": [
    "obj = StockSpanner()\n",
    "param_1 = obj.next(28)\n",
    "param_2 = obj.next(14)\n",
    "param_3 = obj.next(28)\n",
    "param_4 = obj.next(35)\n",
    "param_5 = obj.next(46)\n",
    "param_6 = obj.next(53)\n",
    "param_7 = obj.next(66)\n",
    "param_8 = obj.next(80)\n",
    "param_9 = obj.next(87)\n",
    "#param_10 = obj.next(88)\n",
    "\n",
    "\n",
    "param_2"
   ]
  },
  {
   "cell_type": "code",
   "execution_count": null,
   "metadata": {},
   "outputs": [],
   "source": []
  }
 ],
 "metadata": {
  "kernelspec": {
   "display_name": "Python 3",
   "language": "python",
   "name": "python3"
  },
  "language_info": {
   "codemirror_mode": {
    "name": "ipython",
    "version": 3
   },
   "file_extension": ".py",
   "mimetype": "text/x-python",
   "name": "python",
   "nbconvert_exporter": "python",
   "pygments_lexer": "ipython3",
   "version": "3.6.8"
  }
 },
 "nbformat": 4,
 "nbformat_minor": 2
}
